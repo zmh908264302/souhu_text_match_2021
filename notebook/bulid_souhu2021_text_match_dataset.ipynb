{
 "cells": [
  {
   "cell_type": "code",
   "execution_count": 1,
   "metadata": {
    "pycharm": {
     "is_executing": false,
     "name": "#%%\n"
    }
   },
   "outputs": [],
   "source": [
    "import pandas as pd\n",
    "import json\n",
    "from typing import List\n",
    "import math\n",
    "import numpy as np\n",
    "import matplotlib.pyplot as plt\n",
    "from sklearn.model_selection import KFold\n",
    "\n",
    "# 显示所有列\n",
    "pd.set_option('display.max_columns', None)\n",
    "# 显示所有行\n",
    "pd.set_option('display.max_rows', None)"
   ]
  },
  {
   "cell_type": "code",
   "execution_count": 7,
   "metadata": {
    "pycharm": {
     "is_executing": false,
     "name": "#%%\n"
    }
   },
   "outputs": [],
   "source": [
    "def read_file(path: str, mode: str = \"train\", text_type: str = \"A\"):\n",
    "    data = []\n",
    "    with open(path, \"r\", encoding=\"utf-8\") as fr:\n",
    "        for line in fr:\n",
    "            tmp = []\n",
    "            line: dict = json.loads(line)\n",
    "            source = line[\"source\"]\n",
    "            target = line[\"target\"]\n",
    "            tmp.extend([source, target])\n",
    "            if mode.strip().lower() == \"train\":\n",
    "                label = line[\"labelA\"] if text_type == \"A\" else line[\"labelB\"]\n",
    "                tmp.append(label)\n",
    "            elif mode.strip().lower() == \"test\":\n",
    "                text_id = line[\"id\"]\n",
    "                tmp.append(text_id)\n",
    "            data.append(tmp)\n",
    "        \n",
    "    return data"
   ]
  },
  {
   "cell_type": "code",
   "execution_count": 8,
   "metadata": {
    "pycharm": {
     "is_executing": false
    }
   },
   "outputs": [],
   "source": [
    "train_columns = [\"source\", \"target\", \"label\"]\n",
    "test_columns = [\"source\", \"target\", \"id\"]"
   ]
  },
  {
   "cell_type": "markdown",
   "metadata": {},
   "source": [
    "## short vs short"
   ]
  },
  {
   "cell_type": "markdown",
   "metadata": {},
   "source": [
    "### A match"
   ]
  },
  {
   "cell_type": "code",
   "execution_count": 9,
   "metadata": {
    "pycharm": {
     "is_executing": false,
     "name": "#%%\n"
    }
   },
   "outputs": [
    {
     "name": "stdout",
     "output_type": "stream",
     "text": [
      "ssa train: (9867, 3), ssa valid: (1645, 3), ssa test: (4934, 3)\n"
     ]
    }
   ],
   "source": [
    "# ssa train\n",
    "ssa_train = read_file(\"../data/raw/round1/ssa/train.txt\", \"train\", \"A\")\n",
    "ssa_valid = read_file(\"../data/raw/round1/ssa/valid.txt\", \"train\", \"A\")\n",
    "ssa_test = read_file(\"../data/raw/round1/ssa/test_with_id.txt\", \"test\", \"A\")\n",
    "\n",
    "ssa_train_df = pd.DataFrame(ssa_train, columns=train_columns)\n",
    "ssa_valid_df = pd.DataFrame(ssa_valid, columns=train_columns)\n",
    "ssa_test_df = pd.DataFrame(ssa_test, columns=test_columns)\n",
    "\n",
    "print(f\"ssa train: {ssa_train_df.shape}, ssa valid: {ssa_valid_df.shape}, ssa test: {ssa_test_df.shape}\")"
   ]
  },
  {
   "cell_type": "code",
   "execution_count": 10,
   "metadata": {
    "pycharm": {
     "is_executing": false
    }
   },
   "outputs": [
    {
     "data": {
      "text/plain": [
       "7094"
      ]
     },
     "execution_count": 10,
     "metadata": {},
     "output_type": "execute_result"
    }
   ],
   "source": [
    "ssa_train_df[\"label\"].value_counts()[0]"
   ]
  },
  {
   "cell_type": "code",
   "execution_count": 11,
   "metadata": {
    "pycharm": {
     "is_executing": false
    }
   },
   "outputs": [
    {
     "name": "stdout",
     "output_type": "stream",
     "text": [
      "(9867, 3)\n",
      "label distribute\n",
      " 0    7094\n",
      "1    2773\n",
      "Name: label, dtype: int64\n",
      "ssa train label 0/1 distribute: 2.5582\n"
     ]
    },
    {
     "data": {
      "text/html": [
       "<div>\n",
       "<style scoped>\n",
       "    .dataframe tbody tr th:only-of-type {\n",
       "        vertical-align: middle;\n",
       "    }\n",
       "\n",
       "    .dataframe tbody tr th {\n",
       "        vertical-align: top;\n",
       "    }\n",
       "\n",
       "    .dataframe thead th {\n",
       "        text-align: right;\n",
       "    }\n",
       "</style>\n",
       "<table border=\"1\" class=\"dataframe\">\n",
       "  <thead>\n",
       "    <tr style=\"text-align: right;\">\n",
       "      <th></th>\n",
       "      <th>source</th>\n",
       "      <th>target</th>\n",
       "      <th>label</th>\n",
       "    </tr>\n",
       "  </thead>\n",
       "  <tbody>\n",
       "    <tr>\n",
       "      <th>0</th>\n",
       "      <td>谁能打破科比81分纪录？奥尼尔给出5个候选人，补充利拉德比尔！</td>\n",
       "      <td>NBA现役能入名人堂的球星很多，但是能被立铜像只有2人</td>\n",
       "      <td>0</td>\n",
       "    </tr>\n",
       "    <tr>\n",
       "      <th>1</th>\n",
       "      <td>请扩散！明天，黄金埠这些地方会停电！</td>\n",
       "      <td>生活｜这几个地方注意啦！1月12日有部分线路停电检修</td>\n",
       "      <td>0</td>\n",
       "    </tr>\n",
       "    <tr>\n",
       "      <th>2</th>\n",
       "      <td>居家健身增强免疫！（三）</td>\n",
       "      <td>原来是背影杀手#你愿意和我做朋友吗#户外健身</td>\n",
       "      <td>0</td>\n",
       "    </tr>\n",
       "    <tr>\n",
       "      <th>3</th>\n",
       "      <td>太极拳罗师傅被洋人打伤，叶问霸气复仇？</td>\n",
       "      <td>非常完美：感动！女嘉宾告白赵杰被拒绝，尹康霸气上台挽留！</td>\n",
       "      <td>0</td>\n",
       "    </tr>\n",
       "    <tr>\n",
       "      <th>4</th>\n",
       "      <td>恭喜哈登！篮网因祸得福，29+7超巨大概率复出，3换4交易方案出炉</td>\n",
       "      <td>三英缺席杜兰特，篮网迎战湖人NBA重头大戏！</td>\n",
       "      <td>1</td>\n",
       "    </tr>\n",
       "  </tbody>\n",
       "</table>\n",
       "</div>"
      ],
      "text/plain": [
       "                              source                          target label\n",
       "0    谁能打破科比81分纪录？奥尼尔给出5个候选人，补充利拉德比尔！     NBA现役能入名人堂的球星很多，但是能被立铜像只有2人     0\n",
       "1                 请扩散！明天，黄金埠这些地方会停电！      生活｜这几个地方注意啦！1月12日有部分线路停电检修     0\n",
       "2                       居家健身增强免疫！（三）          原来是背影杀手#你愿意和我做朋友吗#户外健身     0\n",
       "3                太极拳罗师傅被洋人打伤，叶问霸气复仇？    非常完美：感动！女嘉宾告白赵杰被拒绝，尹康霸气上台挽留！     0\n",
       "4  恭喜哈登！篮网因祸得福，29+7超巨大概率复出，3换4交易方案出炉          三英缺席杜兰特，篮网迎战湖人NBA重头大戏！     1"
      ]
     },
     "execution_count": 11,
     "metadata": {},
     "output_type": "execute_result"
    }
   ],
   "source": [
    "print(ssa_train_df.shape)\n",
    "# ssa train label distrubute\n",
    "ssa_train_dist = ssa_train_df[\"label\"].value_counts()\n",
    "print(\"label distribute\\n\", ssa_train_dist)\n",
    "print(f\"ssa train label 0/1 distribute: {ssa_train_dist[0] / ssa_train_dist[1]:.4f}\")\n",
    "ssa_train_df.head()"
   ]
  },
  {
   "cell_type": "code",
   "execution_count": 12,
   "metadata": {
    "pycharm": {
     "is_executing": false
    }
   },
   "outputs": [
    {
     "name": "stdout",
     "output_type": "stream",
     "text": [
      "(1645, 3)\n",
      "ssa valid label distribute\n",
      " 0    1160\n",
      "1     485\n",
      "Name: label, dtype: int64\n",
      "ssa valid label 0/1 distribute: 2.3918\n"
     ]
    },
    {
     "data": {
      "text/html": [
       "<div>\n",
       "<style scoped>\n",
       "    .dataframe tbody tr th:only-of-type {\n",
       "        vertical-align: middle;\n",
       "    }\n",
       "\n",
       "    .dataframe tbody tr th {\n",
       "        vertical-align: top;\n",
       "    }\n",
       "\n",
       "    .dataframe thead th {\n",
       "        text-align: right;\n",
       "    }\n",
       "</style>\n",
       "<table border=\"1\" class=\"dataframe\">\n",
       "  <thead>\n",
       "    <tr style=\"text-align: right;\">\n",
       "      <th></th>\n",
       "      <th>source</th>\n",
       "      <th>target</th>\n",
       "      <th>label</th>\n",
       "    </tr>\n",
       "  </thead>\n",
       "  <tbody>\n",
       "    <tr>\n",
       "      <th>0</th>\n",
       "      <td>【春节档】据说《刺杀小说家》是全宇宙最好的剧组</td>\n",
       "      <td>《刺杀小说家》两个世界，一场奇幻冒险！</td>\n",
       "      <td>1</td>\n",
       "    </tr>\n",
       "    <tr>\n",
       "      <th>1</th>\n",
       "      <td>央广网北京2月25日消息（记者韩靖陈锐海）2021年2月25日16时，北京市朝阳区太阳宫北街...</td>\n",
       "      <td>据@新华视点消息，2021年2月25日16时，北京市朝阳区太阳宫北街1号，国家乡村振兴局牌子...</td>\n",
       "      <td>1</td>\n",
       "    </tr>\n",
       "    <tr>\n",
       "      <th>2</th>\n",
       "      <td>晒晒主持人程雷的豪宅，小区看起来有些年头，生活过得普通又节俭</td>\n",
       "      <td>带你参观张铎的豪宅，跟老婆生活很恩爱，在家餐厅布置非常浪漫</td>\n",
       "      <td>0</td>\n",
       "    </tr>\n",
       "    <tr>\n",
       "      <th>3</th>\n",
       "      <td>当时，勇士成功进行了24秒的防守，导致马刺未能将球打进。在格林准备发球的时候，德罗赞走向库里...</td>\n",
       "      <td>这场比赛，勇士队状态非常好，库里与乌布雷首节联手轰下25分，帮助勇士队取得领先。这场比赛，格...</td>\n",
       "      <td>1</td>\n",
       "    </tr>\n",
       "    <tr>\n",
       "      <th>4</th>\n",
       "      <td>凡是不愿说破的，也最怕别人点透</td>\n",
       "      <td>“小阎罗”茸主第二局TKO‘牧马人“毕德力雅，成功卫冕金腰带</td>\n",
       "      <td>0</td>\n",
       "    </tr>\n",
       "  </tbody>\n",
       "</table>\n",
       "</div>"
      ],
      "text/plain": [
       "                                              source  \\\n",
       "0                            【春节档】据说《刺杀小说家》是全宇宙最好的剧组   \n",
       "1  央广网北京2月25日消息（记者韩靖陈锐海）2021年2月25日16时，北京市朝阳区太阳宫北街...   \n",
       "2                     晒晒主持人程雷的豪宅，小区看起来有些年头，生活过得普通又节俭   \n",
       "3  当时，勇士成功进行了24秒的防守，导致马刺未能将球打进。在格林准备发球的时候，德罗赞走向库里...   \n",
       "4                                    凡是不愿说破的，也最怕别人点透   \n",
       "\n",
       "                                              target label  \n",
       "0                                《刺杀小说家》两个世界，一场奇幻冒险！     1  \n",
       "1  据@新华视点消息，2021年2月25日16时，北京市朝阳区太阳宫北街1号，国家乡村振兴局牌子...     1  \n",
       "2                      带你参观张铎的豪宅，跟老婆生活很恩爱，在家餐厅布置非常浪漫     0  \n",
       "3  这场比赛，勇士队状态非常好，库里与乌布雷首节联手轰下25分，帮助勇士队取得领先。这场比赛，格...     1  \n",
       "4                     “小阎罗”茸主第二局TKO‘牧马人“毕德力雅，成功卫冕金腰带     0  "
      ]
     },
     "execution_count": 12,
     "metadata": {},
     "output_type": "execute_result"
    }
   ],
   "source": [
    "print(ssa_valid_df.shape)\n",
    "# ssa valid label distrubute\n",
    "ssa_valid_dist = ssa_valid_df[\"label\"].value_counts()\n",
    "print(\"ssa valid label distribute\\n\", ssa_valid_dist)\n",
    "print(f\"ssa valid label 0/1 distribute: {ssa_valid_dist[0] / ssa_valid_dist[1]:.4f}\")\n",
    "ssa_valid_df.head()"
   ]
  },
  {
   "cell_type": "code",
   "execution_count": 13,
   "metadata": {
    "pycharm": {
     "is_executing": false
    }
   },
   "outputs": [
    {
     "name": "stdout",
     "output_type": "stream",
     "text": [
      "11512\n"
     ]
    },
    {
     "data": {
      "text/plain": [
       "[31, 18, 12, 19, 33]"
      ]
     },
     "execution_count": 13,
     "metadata": {},
     "output_type": "execute_result"
    }
   ],
   "source": [
    "ssa_train_src_len = ssa_train_df[\"source\"].str.len().tolist()\n",
    "ssa_valid_src_len = ssa_valid_df[\"source\"].str.len().tolist()\n",
    "ssa_train_src_len = ssa_train_src_len + ssa_valid_src_len\n",
    "print(len(ssa_train_src_len))\n",
    "ssa_train_src_len[:5]"
   ]
  },
  {
   "cell_type": "code",
   "execution_count": 14,
   "metadata": {
    "pycharm": {
     "is_executing": false
    }
   },
   "outputs": [
    {
     "data": {
      "image/png": "[encoded data removed]",
      "text/plain": [
       "<Figure size 432x288 with 1 Axes>"
      ]
     },
     "metadata": {
      "needs_background": "light"
     },
     "output_type": "display_data"
    }
   ],
   "source": [
    "# train valid source length distribute\n",
    "pd.Series(ssa_train_src_len).value_counts().hist()\n",
    "plt.show()"
   ]
  },
  {
   "cell_type": "code",
   "execution_count": 15,
   "metadata": {
    "pycharm": {
     "is_executing": false
    }
   },
   "outputs": [
    {
     "name": "stdout",
     "output_type": "stream",
     "text": [
      "11512\n"
     ]
    },
    {
     "data": {
      "text/plain": [
       "[27, 26, 22, 30, 22]"
      ]
     },
     "execution_count": 15,
     "metadata": {},
     "output_type": "execute_result"
    }
   ],
   "source": [
    "ssa_train_tgt_len = ssa_train_df[\"target\"].str.len().tolist()\n",
    "ssa_valid_tgt_len = ssa_valid_df[\"target\"].str.len().tolist()\n",
    "ssa_train_tgt_len = ssa_train_tgt_len + ssa_valid_tgt_len\n",
    "print(len(ssa_train_tgt_len))\n",
    "ssa_train_tgt_len[:5]"
   ]
  },
  {
   "cell_type": "code",
   "execution_count": 16,
   "metadata": {
    "pycharm": {
     "is_executing": false
    }
   },
   "outputs": [
    {
     "data": {
      "image/png": "[encoded data removed]",
      "text/plain": [
       "<Figure size 432x288 with 1 Axes>"
      ]
     },
     "metadata": {
      "needs_background": "light"
     },
     "output_type": "display_data"
    }
   ],
   "source": [
    "# train valid target length distribute\n",
    "pd.Series(ssa_train_tgt_len).value_counts().hist()\n",
    "plt.show()"
   ]
  },
  {
   "cell_type": "markdown",
   "metadata": {},
   "source": [
    "### B strict match"
   ]
  },
  {
   "cell_type": "code",
   "execution_count": 16,
   "metadata": {
    "pycharm": {
     "is_executing": false
    }
   },
   "outputs": [
    {
     "name": "stdout",
     "output_type": "stream",
     "text": [
      "ssb train: (9858, 3), ssb valid: (1643, 3), ssb test: (4930, 3)\n"
     ]
    }
   ],
   "source": [
    "# ssb train\n",
    "ssb_train = read_file(\"../data/raw/ssb/train.txt\", \"train\", \"B\")\n",
    "ssb_valid = read_file(\"../data/raw/ssb/valid.txt\", \"train\", \"B\")\n",
    "ssb_test = read_file(\"../data/raw/ssb/test_with_id.txt\", \"test\", \"B\")\n",
    "\n",
    "ssb_train_df = pd.DataFrame(ssb_train, columns=train_columns)\n",
    "ssb_valid_df = pd.DataFrame(ssb_valid, columns=train_columns)\n",
    "ssb_test_df = pd.DataFrame(ssb_test, columns=test_columns)\n",
    "\n",
    "print(f\"ssb train: {ssb_train_df.shape}, ssb valid: {ssb_valid_df.shape}, ssb test: {ssb_test_df.shape}\")"
   ]
  },
  {
   "cell_type": "code",
   "execution_count": 17,
   "metadata": {
    "pycharm": {
     "is_executing": false
    }
   },
   "outputs": [
    {
     "name": "stdout",
     "output_type": "stream",
     "text": [
      "(9867, 3)\n",
      "label distribute\n",
      " 0    8619\n",
      "1    1239\n",
      "Name: label, dtype: int64\n",
      "ssb train label 0/1 distribute: 6.9564\n"
     ]
    },
    {
     "data": {
      "text/html": [
       "<div>\n",
       "<style scoped>\n",
       "    .dataframe tbody tr th:only-of-type {\n",
       "        vertical-align: middle;\n",
       "    }\n",
       "\n",
       "    .dataframe tbody tr th {\n",
       "        vertical-align: top;\n",
       "    }\n",
       "\n",
       "    .dataframe thead th {\n",
       "        text-align: right;\n",
       "    }\n",
       "</style>\n",
       "<table border=\"1\" class=\"dataframe\">\n",
       "  <thead>\n",
       "    <tr style=\"text-align: right;\">\n",
       "      <th></th>\n",
       "      <th>source</th>\n",
       "      <th>target</th>\n",
       "      <th>label</th>\n",
       "    </tr>\n",
       "  </thead>\n",
       "  <tbody>\n",
       "    <tr>\n",
       "      <td>0</td>\n",
       "      <td>网红32步广场舞《爱不需要任何理由》柔情动听DJ版，背面演示</td>\n",
       "      <td>热门流行曲《笑踏人生路》32步广场舞，背正面演示！</td>\n",
       "      <td>0</td>\n",
       "    </tr>\n",
       "    <tr>\n",
       "      <td>1</td>\n",
       "      <td>王宝强展示少林功夫螳螂拳震撼全场</td>\n",
       "      <td>功夫高手南北位断臂裸绞，内蒙硬汉肘击拳砸逆袭中亚冠军</td>\n",
       "      <td>0</td>\n",
       "    </tr>\n",
       "    <tr>\n",
       "      <td>2</td>\n",
       "      <td>2021选秀浪潮来袭，有600位男生在等你！偶像、导师、粉丝真不够用了！</td>\n",
       "      <td>选秀节目名场面之“秀腹肌”</td>\n",
       "      <td>0</td>\n",
       "    </tr>\n",
       "    <tr>\n",
       "      <td>3</td>\n",
       "      <td>魏文亮董建春李丁相声《4G时代》，台下妹子笑得直捶腿！</td>\n",
       "      <td>李鸣宇王文林相声《捉放擎天柱》，把艺术糟蹋到极致了！</td>\n",
       "      <td>0</td>\n",
       "    </tr>\n",
       "    <tr>\n",
       "      <td>4</td>\n",
       "      <td>开学季 全省大、中、小学校将于近期陆续开学，为确保校园消防安全，云南消防准备了满满的消防安全...</td>\n",
       "      <td>开学季 全省大、中、小学校将于近期陆续开学，为确保校园消防安全，云南消防准备了满满的消防安全...</td>\n",
       "      <td>1</td>\n",
       "    </tr>\n",
       "  </tbody>\n",
       "</table>\n",
       "</div>"
      ],
      "text/plain": [
       "                                              source  \\\n",
       "0                     网红32步广场舞《爱不需要任何理由》柔情动听DJ版，背面演示   \n",
       "1                                   王宝强展示少林功夫螳螂拳震撼全场   \n",
       "2               2021选秀浪潮来袭，有600位男生在等你！偶像、导师、粉丝真不够用了！   \n",
       "3                        魏文亮董建春李丁相声《4G时代》，台下妹子笑得直捶腿！   \n",
       "4  开学季 全省大、中、小学校将于近期陆续开学，为确保校园消防安全，云南消防准备了满满的消防安全...   \n",
       "\n",
       "                                              target label  \n",
       "0                          热门流行曲《笑踏人生路》32步广场舞，背正面演示！     0  \n",
       "1                         功夫高手南北位断臂裸绞，内蒙硬汉肘击拳砸逆袭中亚冠军     0  \n",
       "2                                      选秀节目名场面之“秀腹肌”     0  \n",
       "3                         李鸣宇王文林相声《捉放擎天柱》，把艺术糟蹋到极致了！     0  \n",
       "4  开学季 全省大、中、小学校将于近期陆续开学，为确保校园消防安全，云南消防准备了满满的消防安全...     1  "
      ]
     },
     "execution_count": 17,
     "metadata": {},
     "output_type": "execute_result"
    }
   ],
   "source": [
    "print(ssa_train_df.shape)\n",
    "# ssb train label distrubute\n",
    "ssb_train_dist = ssb_train_df[\"label\"].value_counts()\n",
    "print(\"label distribute\\n\",ssb_train_dist)\n",
    "print(f\"ssb train label 0/1 distribute: {ssb_train_dist[0] / ssb_train_dist[1]:.4f}\")\n",
    "ssb_train_df.head()"
   ]
  },
  {
   "cell_type": "code",
   "execution_count": 18,
   "metadata": {
    "pycharm": {
     "is_executing": false
    }
   },
   "outputs": [
    {
     "name": "stdout",
     "output_type": "stream",
     "text": [
      "(1643, 3)\n",
      "label distribute\n",
      " 0    1439\n",
      "1     204\n",
      "Name: label, dtype: int64\n"
     ]
    },
    {
     "data": {
      "text/html": [
       "<div>\n",
       "<style scoped>\n",
       "    .dataframe tbody tr th:only-of-type {\n",
       "        vertical-align: middle;\n",
       "    }\n",
       "\n",
       "    .dataframe tbody tr th {\n",
       "        vertical-align: top;\n",
       "    }\n",
       "\n",
       "    .dataframe thead th {\n",
       "        text-align: right;\n",
       "    }\n",
       "</style>\n",
       "<table border=\"1\" class=\"dataframe\">\n",
       "  <thead>\n",
       "    <tr style=\"text-align: right;\">\n",
       "      <th></th>\n",
       "      <th>source</th>\n",
       "      <th>target</th>\n",
       "      <th>label</th>\n",
       "    </tr>\n",
       "  </thead>\n",
       "  <tbody>\n",
       "    <tr>\n",
       "      <td>0</td>\n",
       "      <td>赵继伟单节15分！26+10极限拯救辽宁，郭艾伦才10分在场又梦游</td>\n",
       "      <td>5战4败！CBA夺冠热门又崩盘，超级外援组合联手造大冷</td>\n",
       "      <td>0</td>\n",
       "    </tr>\n",
       "    <tr>\n",
       "      <td>1</td>\n",
       "      <td>工程师上线！在线解答安排！</td>\n",
       "      <td>刚破壳的小鸡，刚出生就已经被安排得明明白白，难怪炸鸡店不断货</td>\n",
       "      <td>0</td>\n",
       "    </tr>\n",
       "    <tr>\n",
       "      <td>2</td>\n",
       "      <td>这句歌词非常直接地重现了科比发生意外的方式——坠机，所以被指责为不尊重死者和消费科比。但你本...</td>\n",
       "      <td>后来到了凯尔特人，为了总冠军，他转换了自己的打法，成为无球跑动球员，这次转变无疑是非常成功的。</td>\n",
       "      <td>0</td>\n",
       "    </tr>\n",
       "    <tr>\n",
       "      <td>3</td>\n",
       "      <td>元宵节刚过冷空气“大礼包”又上线了中东部地区将迎来大范围雨雪天气东北地区将出现强降温过去一天...</td>\n",
       "      <td>辽东半岛、黄淮、江淮、江汉等地的部分地区有4～6级风，阵风7～8级；东北地区东部、黄淮南部、...</td>\n",
       "      <td>0</td>\n",
       "    </tr>\n",
       "    <tr>\n",
       "      <td>4</td>\n",
       "      <td>WTT赛事是商业赛事，性质上只代表球员个人而不代表国家，但日本乒协提出了严格的选拔办法，显然...</td>\n",
       "      <td>伊藤美诚、早田希娜晋级，即将再次巅峰对决1月16日上午，日本乒乓球全国锦标赛结束了2场焦点大...</td>\n",
       "      <td>1</td>\n",
       "    </tr>\n",
       "  </tbody>\n",
       "</table>\n",
       "</div>"
      ],
      "text/plain": [
       "                                              source  \\\n",
       "0                  赵继伟单节15分！26+10极限拯救辽宁，郭艾伦才10分在场又梦游   \n",
       "1                                      工程师上线！在线解答安排！   \n",
       "2  这句歌词非常直接地重现了科比发生意外的方式——坠机，所以被指责为不尊重死者和消费科比。但你本...   \n",
       "3  元宵节刚过冷空气“大礼包”又上线了中东部地区将迎来大范围雨雪天气东北地区将出现强降温过去一天...   \n",
       "4  WTT赛事是商业赛事，性质上只代表球员个人而不代表国家，但日本乒协提出了严格的选拔办法，显然...   \n",
       "\n",
       "                                              target label  \n",
       "0                        5战4败！CBA夺冠热门又崩盘，超级外援组合联手造大冷     0  \n",
       "1                     刚破壳的小鸡，刚出生就已经被安排得明明白白，难怪炸鸡店不断货     0  \n",
       "2    后来到了凯尔特人，为了总冠军，他转换了自己的打法，成为无球跑动球员，这次转变无疑是非常成功的。     0  \n",
       "3  辽东半岛、黄淮、江淮、江汉等地的部分地区有4～6级风，阵风7～8级；东北地区东部、黄淮南部、...     0  \n",
       "4  伊藤美诚、早田希娜晋级，即将再次巅峰对决1月16日上午，日本乒乓球全国锦标赛结束了2场焦点大...     1  "
      ]
     },
     "execution_count": 18,
     "metadata": {},
     "output_type": "execute_result"
    }
   ],
   "source": [
    "print(ssb_valid_df.shape)\n",
    "# ssb valid label distrubute\n",
    "print(\"label distribute\\n\", ssb_valid_df[\"label\"].value_counts())\n",
    "ssb_valid_df.head()"
   ]
  },
  {
   "cell_type": "code",
   "execution_count": 19,
   "metadata": {
    "pycharm": {
     "is_executing": false
    }
   },
   "outputs": [
    {
     "name": "stdout",
     "output_type": "stream",
     "text": [
      "11501\n"
     ]
    },
    {
     "data": {
      "text/plain": [
       "[30, 16, 36, 29, 58]"
      ]
     },
     "execution_count": 19,
     "metadata": {},
     "output_type": "execute_result"
    }
   ],
   "source": [
    "ssb_train_src_len = ssb_train_df[\"source\"].str.len().tolist()\n",
    "ssb_valid_src_len = ssb_valid_df[\"source\"].str.len().tolist()\n",
    "ssb_train_src_len = ssb_train_src_len + ssb_valid_src_len\n",
    "print(len(ssb_train_src_len))\n",
    "ssb_train_src_len[:5]"
   ]
  },
  {
   "cell_type": "code",
   "execution_count": 20,
   "metadata": {
    "pycharm": {
     "is_executing": false
    }
   },
   "outputs": [
    {
     "data": {
      "image/png": "[encoded data removed]",
      "text/plain": [
       "<Figure size 432x288 with 1 Axes>"
      ]
     },
     "metadata": {
      "needs_background": "light"
     },
     "output_type": "display_data"
    }
   ],
   "source": [
    "# train valid source length distribute\n",
    "pd.Series(ssb_train_src_len).value_counts().hist()\n",
    "plt.show()"
   ]
  },
  {
   "cell_type": "code",
   "execution_count": 21,
   "metadata": {
    "pycharm": {
     "is_executing": false
    }
   },
   "outputs": [
    {
     "name": "stdout",
     "output_type": "stream",
     "text": [
      "11501\n"
     ]
    },
    {
     "data": {
      "text/plain": [
       "[27, 28, 13, 28, 58]"
      ]
     },
     "execution_count": 21,
     "metadata": {},
     "output_type": "execute_result"
    }
   ],
   "source": [
    "ssb_train_tgt_len = ssb_train_df[\"target\"].str.len().tolist()\n",
    "ssb_valid_tgt_len = ssb_valid_df[\"target\"].str.len().tolist()\n",
    "ssb_train_tgt_len = ssb_train_tgt_len + ssb_valid_tgt_len\n",
    "print(len(ssb_train_tgt_len))\n",
    "ssb_train_tgt_len[:5]"
   ]
  },
  {
   "cell_type": "code",
   "execution_count": 22,
   "metadata": {
    "pycharm": {
     "is_executing": false
    }
   },
   "outputs": [
    {
     "data": {
      "image/png": "[encoded data removed]",
      "text/plain": [
       "<Figure size 432x288 with 1 Axes>"
      ]
     },
     "metadata": {
      "needs_background": "light"
     },
     "output_type": "display_data"
    }
   ],
   "source": [
    "# train valid target length distribute\n",
    "pd.Series(ssb_train_tgt_len).value_counts().hist()\n",
    "plt.show()"
   ]
  },
  {
   "cell_type": "markdown",
   "metadata": {},
   "source": [
    "## short vs long"
   ]
  },
  {
   "cell_type": "markdown",
   "metadata": {},
   "source": [
    "### A match"
   ]
  },
  {
   "cell_type": "code",
   "execution_count": 23,
   "metadata": {
    "pycharm": {
     "is_executing": false
    }
   },
   "outputs": [
    {
     "name": "stdout",
     "output_type": "stream",
     "text": [
      "sla train: (9936, 3), sla valid: (1656, 3), sla test: (4969, 3)\n"
     ]
    }
   ],
   "source": [
    "# sla train\n",
    "sla_train = read_file(\"../data/raw/sla/train.txt\", \"train\", \"A\")\n",
    "sla_valid = read_file(\"../data/raw/sla/valid.txt\", \"train\", \"A\")\n",
    "sla_test = read_file(\"../data/raw/sla/test_with_id.txt\", \"test\", \"A\")\n",
    "\n",
    "sla_train_df = pd.DataFrame(sla_train, columns=train_columns)\n",
    "sla_valid_df = pd.DataFrame(sla_valid, columns=train_columns)\n",
    "sla_test_df = pd.DataFrame(sla_test, columns=test_columns)\n",
    "\n",
    "print(f\"sla train: {sla_train_df.shape}, sla valid: {sla_valid_df.shape}, sla test: {sla_test_df.shape}\")"
   ]
  },
  {
   "cell_type": "code",
   "execution_count": 24,
   "metadata": {
    "pycharm": {
     "is_executing": false
    }
   },
   "outputs": [
    {
     "name": "stdout",
     "output_type": "stream",
     "text": [
      "(9936, 3)\n",
      "label distribute\n",
      " 0    6371\n",
      "1    3565\n",
      "Name: label, dtype: int64\n",
      "sla train label 0/1 distribute: 1.7871\n"
     ]
    },
    {
     "data": {
      "text/html": [
       "<div>\n",
       "<style scoped>\n",
       "    .dataframe tbody tr th:only-of-type {\n",
       "        vertical-align: middle;\n",
       "    }\n",
       "\n",
       "    .dataframe tbody tr th {\n",
       "        vertical-align: top;\n",
       "    }\n",
       "\n",
       "    .dataframe thead th {\n",
       "        text-align: right;\n",
       "    }\n",
       "</style>\n",
       "<table border=\"1\" class=\"dataframe\">\n",
       "  <thead>\n",
       "    <tr style=\"text-align: right;\">\n",
       "      <th></th>\n",
       "      <th>source</th>\n",
       "      <th>target</th>\n",
       "      <th>label</th>\n",
       "    </tr>\n",
       "  </thead>\n",
       "  <tbody>\n",
       "    <tr>\n",
       "      <td>0</td>\n",
       "      <td>世界顶尖级的鞍马竞赛，动作很到位！</td>\n",
       "      <td>全文共962字，阅读大约需要2分20秒。  “ 我们坚定地认为，“身体和灵魂，总有一个要...</td>\n",
       "      <td>0</td>\n",
       "    </tr>\n",
       "    <tr>\n",
       "      <td>1</td>\n",
       "      <td>鸬鹚与鱼，杭州翁剑敏/摄影  普通鸬鹚，大型水鸟。在中国南方较常见。通体黑色，头颈具紫绿色光...</td>\n",
       "      <td>【好消息！钱塘江新建大桥最快6月合龙】看浙里钱塘江新建大桥位于彭埠大桥（钱江二桥）下游侧，全...</td>\n",
       "      <td>0</td>\n",
       "    </tr>\n",
       "    <tr>\n",
       "      <td>2</td>\n",
       "      <td>据大连市纪委监委消息：1月13日晚，网络传出大连市金普新区一女子进小区拒不配合志愿者登记并给...</td>\n",
       "      <td>据大连市纪委监委消息：1月13日晚，网络传出大连市金普新区一女子进小区拒不配合志愿者登记并给...</td>\n",
       "      <td>0</td>\n",
       "    </tr>\n",
       "    <tr>\n",
       "      <td>3</td>\n",
       "      <td>诠释何为英雄本色，这就是巴蒂。  免责声明平台重在分享，除署名外其余内容均来自网络，我们对文...</td>\n",
       "      <td>近日，湖人球星勒布朗在社交媒体上晒出一组电影《空中大灌篮2：新传奇》的剧照，他也登上了《娱乐...</td>\n",
       "      <td>0</td>\n",
       "    </tr>\n",
       "    <tr>\n",
       "      <td>4</td>\n",
       "      <td>大  红 包 爆笑喜剧电影《大红包》提档1月22日，正式拉响2021新年喜剧贺岁的首战号角...</td>\n",
       "      <td>大红包抢先看 开年必须哈哈哈    大  红 包 爆笑喜剧电影《大红包》1月22日上映，“特...</td>\n",
       "      <td>1</td>\n",
       "    </tr>\n",
       "  </tbody>\n",
       "</table>\n",
       "</div>"
      ],
      "text/plain": [
       "                                              source  \\\n",
       "0                                  世界顶尖级的鞍马竞赛，动作很到位！   \n",
       "1  鸬鹚与鱼，杭州翁剑敏/摄影  普通鸬鹚，大型水鸟。在中国南方较常见。通体黑色，头颈具紫绿色光...   \n",
       "2  据大连市纪委监委消息：1月13日晚，网络传出大连市金普新区一女子进小区拒不配合志愿者登记并给...   \n",
       "3  诠释何为英雄本色，这就是巴蒂。  免责声明平台重在分享，除署名外其余内容均来自网络，我们对文...   \n",
       "4   大  红 包 爆笑喜剧电影《大红包》提档1月22日，正式拉响2021新年喜剧贺岁的首战号角...   \n",
       "\n",
       "                                              target label  \n",
       "0    全文共962字，阅读大约需要2分20秒。  “ 我们坚定地认为，“身体和灵魂，总有一个要...     0  \n",
       "1  【好消息！钱塘江新建大桥最快6月合龙】看浙里钱塘江新建大桥位于彭埠大桥（钱江二桥）下游侧，全...     0  \n",
       "2  据大连市纪委监委消息：1月13日晚，网络传出大连市金普新区一女子进小区拒不配合志愿者登记并给...     0  \n",
       "3  近日，湖人球星勒布朗在社交媒体上晒出一组电影《空中大灌篮2：新传奇》的剧照，他也登上了《娱乐...     0  \n",
       "4  大红包抢先看 开年必须哈哈哈    大  红 包 爆笑喜剧电影《大红包》1月22日上映，“特...     1  "
      ]
     },
     "execution_count": 24,
     "metadata": {},
     "output_type": "execute_result"
    }
   ],
   "source": [
    "print(sla_train_df.shape)\n",
    "# sla train label distrubute\n",
    "sla_train_dist = sla_train_df[\"label\"].value_counts()\n",
    "print(\"label distribute\\n\", sla_train_dist)\n",
    "print(f\"sla train label 0/1 distribute: {sla_train_dist[0] / sla_train_dist[1]:.4f}\")\n",
    "sla_train_df.head()"
   ]
  },
  {
   "cell_type": "code",
   "execution_count": 25,
   "metadata": {
    "pycharm": {
     "is_executing": false
    }
   },
   "outputs": [
    {
     "name": "stdout",
     "output_type": "stream",
     "text": [
      "(1656, 3)\n",
      "label distribute\n",
      " 0    1040\n",
      "1     616\n",
      "Name: label, dtype: int64\n"
     ]
    },
    {
     "data": {
      "text/html": [
       "<div>\n",
       "<style scoped>\n",
       "    .dataframe tbody tr th:only-of-type {\n",
       "        vertical-align: middle;\n",
       "    }\n",
       "\n",
       "    .dataframe tbody tr th {\n",
       "        vertical-align: top;\n",
       "    }\n",
       "\n",
       "    .dataframe thead th {\n",
       "        text-align: right;\n",
       "    }\n",
       "</style>\n",
       "<table border=\"1\" class=\"dataframe\">\n",
       "  <thead>\n",
       "    <tr style=\"text-align: right;\">\n",
       "      <th></th>\n",
       "      <th>source</th>\n",
       "      <th>target</th>\n",
       "      <th>label</th>\n",
       "    </tr>\n",
       "  </thead>\n",
       "  <tbody>\n",
       "    <tr>\n",
       "      <td>0</td>\n",
       "      <td>北京：储存温度0℃以下的进口冷链食品全追溯</td>\n",
       "      <td>新京报快讯（记者陈琳）“北京冷链”平台自去年11月1日正式上线运行，进口冷藏冷冻肉类、水产品...</td>\n",
       "      <td>1</td>\n",
       "    </tr>\n",
       "    <tr>\n",
       "      <td>1</td>\n",
       "      <td>党中央推进的这项工作，基层干部都说好！</td>\n",
       "      <td>驰而不息，交出人民满意答卷 2020年12月28日，中央纪委国家监委公开通报6起违反中央八项...</td>\n",
       "      <td>0</td>\n",
       "    </tr>\n",
       "    <tr>\n",
       "      <td>2</td>\n",
       "      <td>沈祥福加盟深足因崇明岛模式理念曾拒恒大足校高薪邀约</td>\n",
       "      <td>北京时间2月1日下午15点，深足传来喜讯，据国内媒体《新快报》足球记者王敌报道，在加盟深足出...</td>\n",
       "      <td>1</td>\n",
       "    </tr>\n",
       "    <tr>\n",
       "      <td>3</td>\n",
       "      <td>【992|发布】全程可追溯，疫苗生产流通管理规定征求意见发布</td>\n",
       "      <td>中欧地理标志协定今天（3月1日）正式生效。这是中国对外商签的第一个全面的、高水平的地理标志协...</td>\n",
       "      <td>0</td>\n",
       "    </tr>\n",
       "    <tr>\n",
       "      <td>4</td>\n",
       "      <td>曼联欲卖6000万真核换此人可他违约金7.5亿，能否如愿呢？</td>\n",
       "      <td>目前曼联的状态较为完美，这个赛季曼联在各项赛事当中的表现较为出色，这个赛季他们也成功引进了卡...</td>\n",
       "      <td>1</td>\n",
       "    </tr>\n",
       "  </tbody>\n",
       "</table>\n",
       "</div>"
      ],
      "text/plain": [
       "                           source  \\\n",
       "0           北京：储存温度0℃以下的进口冷链食品全追溯   \n",
       "1             党中央推进的这项工作，基层干部都说好！   \n",
       "2       沈祥福加盟深足因崇明岛模式理念曾拒恒大足校高薪邀约   \n",
       "3  【992|发布】全程可追溯，疫苗生产流通管理规定征求意见发布   \n",
       "4  曼联欲卖6000万真核换此人可他违约金7.5亿，能否如愿呢？   \n",
       "\n",
       "                                              target label  \n",
       "0  新京报快讯（记者陈琳）“北京冷链”平台自去年11月1日正式上线运行，进口冷藏冷冻肉类、水产品...     1  \n",
       "1  驰而不息，交出人民满意答卷 2020年12月28日，中央纪委国家监委公开通报6起违反中央八项...     0  \n",
       "2  北京时间2月1日下午15点，深足传来喜讯，据国内媒体《新快报》足球记者王敌报道，在加盟深足出...     1  \n",
       "3  中欧地理标志协定今天（3月1日）正式生效。这是中国对外商签的第一个全面的、高水平的地理标志协...     0  \n",
       "4  目前曼联的状态较为完美，这个赛季曼联在各项赛事当中的表现较为出色，这个赛季他们也成功引进了卡...     1  "
      ]
     },
     "execution_count": 25,
     "metadata": {},
     "output_type": "execute_result"
    }
   ],
   "source": [
    "print(sla_valid_df.shape)\n",
    "# sla valid label distrubute\n",
    "print(\"label distribute\\n\", sla_valid_df[\"label\"].value_counts())\n",
    "sla_valid_df.head()"
   ]
  },
  {
   "cell_type": "code",
   "execution_count": 26,
   "metadata": {
    "pycharm": {
     "is_executing": false
    }
   },
   "outputs": [
    {
     "name": "stdout",
     "output_type": "stream",
     "text": [
      "11592\n"
     ]
    },
    {
     "data": {
      "text/plain": [
       "[19, 101, 62, 102, 150]"
      ]
     },
     "execution_count": 26,
     "metadata": {},
     "output_type": "execute_result"
    }
   ],
   "source": [
    "sla_train_src_len = sla_train_df[\"source\"].str.len().tolist()\n",
    "sla_valid_src_len = sla_valid_df[\"source\"].str.len().tolist()\n",
    "sla_train_src_len = sla_train_src_len + sla_valid_src_len\n",
    "print(len(sla_train_src_len))\n",
    "sla_train_src_len[:5]"
   ]
  },
  {
   "cell_type": "code",
   "execution_count": 27,
   "metadata": {
    "pycharm": {
     "is_executing": false
    }
   },
   "outputs": [
    {
     "data": {
      "image/png": "[encoded data removed]",
      "text/plain": [
       "<Figure size 432x288 with 1 Axes>"
      ]
     },
     "metadata": {
      "needs_background": "light"
     },
     "output_type": "display_data"
    }
   ],
   "source": [
    "# train valid source length distribute\n",
    "pd.Series(sla_train_src_len).value_counts().hist()\n",
    "plt.show()"
   ]
  },
  {
   "cell_type": "code",
   "execution_count": 28,
   "metadata": {
    "pycharm": {
     "is_executing": false
    }
   },
   "outputs": [
    {
     "name": "stdout",
     "output_type": "stream",
     "text": [
      "11592\n"
     ]
    },
    {
     "data": {
      "text/plain": [
       "[951, 159, 829, 551, 564]"
      ]
     },
     "execution_count": 28,
     "metadata": {},
     "output_type": "execute_result"
    }
   ],
   "source": [
    "sla_train_tgt_len = sla_train_df[\"target\"].str.len().tolist()\n",
    "sla_valid_tgt_len = sla_valid_df[\"target\"].str.len().tolist()\n",
    "sla_train_tgt_len = sla_train_tgt_len + sla_valid_tgt_len\n",
    "print(len(sla_train_tgt_len))\n",
    "sla_train_tgt_len[:5]"
   ]
  },
  {
   "cell_type": "code",
   "execution_count": 29,
   "metadata": {
    "pycharm": {
     "is_executing": false
    }
   },
   "outputs": [
    {
     "data": {
      "image/png": "[encoded data removed]",
      "text/plain": [
       "<Figure size 432x288 with 1 Axes>"
      ]
     },
     "metadata": {
      "needs_background": "light"
     },
     "output_type": "display_data"
    }
   ],
   "source": [
    "# train valid target length distribute\n",
    "pd.Series(sla_train_tgt_len).value_counts().hist()\n",
    "plt.show()"
   ]
  },
  {
   "cell_type": "markdown",
   "metadata": {},
   "source": [
    "### B strict match"
   ]
  },
  {
   "cell_type": "code",
   "execution_count": 30,
   "metadata": {
    "pycharm": {
     "is_executing": false
    }
   },
   "outputs": [
    {
     "name": "stdout",
     "output_type": "stream",
     "text": [
      "slb train: (9937, 3), slb valid: (1656, 3), slb test: (4969, 3)\n"
     ]
    }
   ],
   "source": [
    "# slb train\n",
    "slb_train = read_file(\"../data/raw/slb/train.txt\", \"train\", \"B\")\n",
    "slb_valid = read_file(\"../data/raw/slb/valid.txt\", \"train\", \"B\")\n",
    "slb_test = read_file(\"../data/raw/slb/test_with_id.txt\", \"test\", \"B\")\n",
    "\n",
    "slb_train_df = pd.DataFrame(slb_train, columns=train_columns)\n",
    "slb_valid_df = pd.DataFrame(slb_valid, columns=train_columns)\n",
    "slb_test_df = pd.DataFrame(slb_test, columns=test_columns)\n",
    "\n",
    "print(f\"slb train: {slb_train_df.shape}, slb valid: {slb_valid_df.shape}, slb test: {slb_test_df.shape}\")"
   ]
  },
  {
   "cell_type": "code",
   "execution_count": 31,
   "metadata": {
    "pycharm": {
     "is_executing": false
    }
   },
   "outputs": [
    {
     "name": "stdout",
     "output_type": "stream",
     "text": [
      "(9937, 3)\n",
      "label distribute\n",
      " 0    8290\n",
      "1    1647\n",
      "Name: label, dtype: int64\n",
      "slb train label 0/1 distribute: 5.0334\n"
     ]
    },
    {
     "data": {
      "text/html": [
       "<div>\n",
       "<style scoped>\n",
       "    .dataframe tbody tr th:only-of-type {\n",
       "        vertical-align: middle;\n",
       "    }\n",
       "\n",
       "    .dataframe tbody tr th {\n",
       "        vertical-align: top;\n",
       "    }\n",
       "\n",
       "    .dataframe thead th {\n",
       "        text-align: right;\n",
       "    }\n",
       "</style>\n",
       "<table border=\"1\" class=\"dataframe\">\n",
       "  <thead>\n",
       "    <tr style=\"text-align: right;\">\n",
       "      <th></th>\n",
       "      <th>source</th>\n",
       "      <th>target</th>\n",
       "      <th>label</th>\n",
       "    </tr>\n",
       "  </thead>\n",
       "  <tbody>\n",
       "    <tr>\n",
       "      <td>0</td>\n",
       "      <td>陈立农、小鬼亮相腾讯音乐娱乐盛典红毯金发贵公子+红发脏辫鬼少帅出特色</td>\n",
       "      <td>今日，腾讯音乐娱乐盛典在澳门举行，虽然坤坤今天没有走红毯，但依旧存在感满分，前辈任贤齐谈及欣...</td>\n",
       "      <td>0</td>\n",
       "    </tr>\n",
       "    <tr>\n",
       "      <td>1</td>\n",
       "      <td>1月15日，吉林长春，吉林大学放寒假的学生乘坐大巴准备前往车站返乡。当日起，吉林大学...</td>\n",
       "      <td>14日下午，河北省召开第五场疫情防控新闻发布会，对疫情防控相关情况进行通报。  1月14日，...</td>\n",
       "      <td>0</td>\n",
       "    </tr>\n",
       "    <tr>\n",
       "      <td>2</td>\n",
       "      <td>每日经济新闻</td>\n",
       "      <td>每经记者：陈鹏丽每经编辑：张海妮 近日，全国人大代表、TCL创始人李东生在接受《每日经济新闻...</td>\n",
       "      <td>0</td>\n",
       "    </tr>\n",
       "    <tr>\n",
       "      <td>3</td>\n",
       "      <td>其实，他在2017年的时候，担任了春晚凉山分会场主持人，2018年的时候，担任央视春晚广东珠...</td>\n",
       "      <td>1月8日，34岁的央视主持人李思思在自己的社交平台上发文：\"2020以打卡失败告终，2021...</td>\n",
       "      <td>0</td>\n",
       "    </tr>\n",
       "    <tr>\n",
       "      <td>4</td>\n",
       "      <td>最近，辽宁沈阳的一位奶奶，为和在外地工作的儿子视频通话、给孙子发过年红包，特地跑到数码用品店...</td>\n",
       "      <td>2月10日，新疆维吾尔自治区在京召开第四场涉疆问题新闻发布会，以下是发布会实录：  2月10...</td>\n",
       "      <td>0</td>\n",
       "    </tr>\n",
       "  </tbody>\n",
       "</table>\n",
       "</div>"
      ],
      "text/plain": [
       "                                              source  \\\n",
       "0                 陈立农、小鬼亮相腾讯音乐娱乐盛典红毯金发贵公子+红发脏辫鬼少帅出特色   \n",
       "1      1月15日，吉林长春，吉林大学放寒假的学生乘坐大巴准备前往车站返乡。当日起，吉林大学...   \n",
       "2                                             每日经济新闻   \n",
       "3  其实，他在2017年的时候，担任了春晚凉山分会场主持人，2018年的时候，担任央视春晚广东珠...   \n",
       "4  最近，辽宁沈阳的一位奶奶，为和在外地工作的儿子视频通话、给孙子发过年红包，特地跑到数码用品店...   \n",
       "\n",
       "                                              target label  \n",
       "0  今日，腾讯音乐娱乐盛典在澳门举行，虽然坤坤今天没有走红毯，但依旧存在感满分，前辈任贤齐谈及欣...     0  \n",
       "1  14日下午，河北省召开第五场疫情防控新闻发布会，对疫情防控相关情况进行通报。  1月14日，...     0  \n",
       "2  每经记者：陈鹏丽每经编辑：张海妮 近日，全国人大代表、TCL创始人李东生在接受《每日经济新闻...     0  \n",
       "3  1月8日，34岁的央视主持人李思思在自己的社交平台上发文：\"2020以打卡失败告终，2021...     0  \n",
       "4  2月10日，新疆维吾尔自治区在京召开第四场涉疆问题新闻发布会，以下是发布会实录：  2月10...     0  "
      ]
     },
     "execution_count": 31,
     "metadata": {},
     "output_type": "execute_result"
    }
   ],
   "source": [
    "print(slb_train_df.shape)\n",
    "# slb train label distrubute\n",
    "slb_train_dist = slb_train_df[\"label\"].value_counts()\n",
    "print(\"label distribute\\n\", slb_train_dist)\n",
    "print(f\"slb train label 0/1 distribute: {slb_train_dist[0] / slb_train_dist[1]:.4f}\")\n",
    "slb_train_df.head()"
   ]
  },
  {
   "cell_type": "code",
   "execution_count": 32,
   "metadata": {
    "pycharm": {
     "is_executing": false
    }
   },
   "outputs": [
    {
     "name": "stdout",
     "output_type": "stream",
     "text": [
      "(1656, 3)\n",
      "label distribute\n",
      " 0    1387\n",
      "1     269\n",
      "Name: label, dtype: int64\n"
     ]
    },
    {
     "data": {
      "text/html": [
       "<div>\n",
       "<style scoped>\n",
       "    .dataframe tbody tr th:only-of-type {\n",
       "        vertical-align: middle;\n",
       "    }\n",
       "\n",
       "    .dataframe tbody tr th {\n",
       "        vertical-align: top;\n",
       "    }\n",
       "\n",
       "    .dataframe thead th {\n",
       "        text-align: right;\n",
       "    }\n",
       "</style>\n",
       "<table border=\"1\" class=\"dataframe\">\n",
       "  <thead>\n",
       "    <tr style=\"text-align: right;\">\n",
       "      <th></th>\n",
       "      <th>source</th>\n",
       "      <th>target</th>\n",
       "      <th>label</th>\n",
       "    </tr>\n",
       "  </thead>\n",
       "  <tbody>\n",
       "    <tr>\n",
       "      <td>0</td>\n",
       "      <td>临安高速服务区：24小时红外测温疫情防控不能松</td>\n",
       "      <td>随着春节假期的临近 相信不少人已将返乡计划提上日程 然而境外新冠疫情仍在加剧蔓延 入冬以来...</td>\n",
       "      <td>0</td>\n",
       "    </tr>\n",
       "    <tr>\n",
       "      <td>1</td>\n",
       "      <td>北京时间2021年3月4日周四英超联赛迎来强强对话，利物浦主场迎战切尔西，红蓝大战一触即发，...</td>\n",
       "      <td>大家好，欢迎关注胖虎解球，我是大家的好伙伴胖虎。 昨天文章里分享的莱斯特城最终是打出了平局的...</td>\n",
       "      <td>0</td>\n",
       "    </tr>\n",
       "    <tr>\n",
       "      <td>2</td>\n",
       "      <td>女足姑娘们在训练中。 女足姑娘们争夺东京奥运会门票的比赛，又一次被推迟。 2月2日晚，中国...</td>\n",
       "      <td>女足奥预赛中韩大战推迟到4月举行  封面新闻记者陈羽啸 中国女足目前正在江苏进行集训，备战即...</td>\n",
       "      <td>0</td>\n",
       "    </tr>\n",
       "    <tr>\n",
       "      <td>3</td>\n",
       "      <td>杜淳老婆美过明星，主动追的杜淳，婆婆提醒她要盯紧儿子</td>\n",
       "      <td>前段刚宣布结婚的杜淳，现在又喜提新身份啦！ 在刚开播的《婆婆和妈妈2》中，杜淳自称不仅是一个...</td>\n",
       "      <td>0</td>\n",
       "    </tr>\n",
       "    <tr>\n",
       "      <td>4</td>\n",
       "      <td>?这首老歌一直传唱30年，太经典了，征服了亿万观众！</td>\n",
       "      <td>MUSICMEMORY🎵 鼠年已经逐渐远去 回忆这一年在KTV里 你钟爱的那些歌曲  No....</td>\n",
       "      <td>0</td>\n",
       "    </tr>\n",
       "  </tbody>\n",
       "</table>\n",
       "</div>"
      ],
      "text/plain": [
       "                                              source  \\\n",
       "0                            临安高速服务区：24小时红外测温疫情防控不能松   \n",
       "1  北京时间2021年3月4日周四英超联赛迎来强强对话，利物浦主场迎战切尔西，红蓝大战一触即发，...   \n",
       "2   女足姑娘们在训练中。 女足姑娘们争夺东京奥运会门票的比赛，又一次被推迟。 2月2日晚，中国...   \n",
       "3                         杜淳老婆美过明星，主动追的杜淳，婆婆提醒她要盯紧儿子   \n",
       "4                         ?这首老歌一直传唱30年，太经典了，征服了亿万观众！   \n",
       "\n",
       "                                              target label  \n",
       "0   随着春节假期的临近 相信不少人已将返乡计划提上日程 然而境外新冠疫情仍在加剧蔓延 入冬以来...     0  \n",
       "1  大家好，欢迎关注胖虎解球，我是大家的好伙伴胖虎。 昨天文章里分享的莱斯特城最终是打出了平局的...     0  \n",
       "2  女足奥预赛中韩大战推迟到4月举行  封面新闻记者陈羽啸 中国女足目前正在江苏进行集训，备战即...     0  \n",
       "3  前段刚宣布结婚的杜淳，现在又喜提新身份啦！ 在刚开播的《婆婆和妈妈2》中，杜淳自称不仅是一个...     0  \n",
       "4  MUSICMEMORY🎵 鼠年已经逐渐远去 回忆这一年在KTV里 你钟爱的那些歌曲  No....     0  "
      ]
     },
     "execution_count": 32,
     "metadata": {},
     "output_type": "execute_result"
    }
   ],
   "source": [
    "print(slb_valid_df.shape)\n",
    "# ssb valid label distrubute\n",
    "print(\"label distribute\\n\", slb_valid_df[\"label\"].value_counts())\n",
    "slb_valid_df.head()"
   ]
  },
  {
   "cell_type": "code",
   "execution_count": 33,
   "metadata": {
    "pycharm": {
     "is_executing": false
    }
   },
   "outputs": [
    {
     "name": "stdout",
     "output_type": "stream",
     "text": [
      "11593\n"
     ]
    },
    {
     "data": {
      "text/plain": [
       "[34, 113, 7, 98, 84]"
      ]
     },
     "execution_count": 33,
     "metadata": {},
     "output_type": "execute_result"
    }
   ],
   "source": [
    "slb_train_src_len = slb_train_df[\"source\"].str.len().tolist()\n",
    "slb_valid_src_len = slb_valid_df[\"source\"].str.len().tolist()\n",
    "slb_train_src_len = slb_train_src_len + slb_valid_src_len\n",
    "print(len(slb_train_src_len))\n",
    "slb_train_src_len[:5]"
   ]
  },
  {
   "cell_type": "code",
   "execution_count": 34,
   "metadata": {
    "pycharm": {
     "is_executing": false
    }
   },
   "outputs": [
    {
     "data": {
      "image/png": "[encoded data removed]",
      "text/plain": [
       "<Figure size 432x288 with 1 Axes>"
      ]
     },
     "metadata": {
      "needs_background": "light"
     },
     "output_type": "display_data"
    }
   ],
   "source": [
    "# train valid source length distribute\n",
    "pd.Series(slb_train_src_len).value_counts().hist()\n",
    "plt.show()"
   ]
  },
  {
   "cell_type": "code",
   "execution_count": 35,
   "metadata": {
    "pycharm": {
     "is_executing": false
    }
   },
   "outputs": [
    {
     "name": "stdout",
     "output_type": "stream",
     "text": [
      "11593\n"
     ]
    },
    {
     "data": {
      "text/plain": [
       "[214, 310, 227, 580, 9045]"
      ]
     },
     "execution_count": 35,
     "metadata": {},
     "output_type": "execute_result"
    }
   ],
   "source": [
    "slb_train_tgt_len = slb_train_df[\"target\"].str.len().tolist()\n",
    "slb_valid_tgt_len = slb_valid_df[\"target\"].str.len().tolist()\n",
    "slb_train_tgt_len = slb_train_tgt_len + slb_valid_tgt_len\n",
    "print(len(slb_train_tgt_len))\n",
    "slb_train_tgt_len[:5]"
   ]
  },
  {
   "cell_type": "code",
   "execution_count": 36,
   "metadata": {
    "pycharm": {
     "is_executing": false
    }
   },
   "outputs": [
    {
     "data": {
      "image/png": "[encoded data removed]",
      "text/plain": [
       "<Figure size 432x288 with 1 Axes>"
      ]
     },
     "metadata": {
      "needs_background": "light"
     },
     "output_type": "display_data"
    }
   ],
   "source": [
    "# train valid target length distribute\n",
    "pd.Series(slb_train_tgt_len).value_counts().hist()\n",
    "plt.show()"
   ]
  },
  {
   "cell_type": "markdown",
   "metadata": {},
   "source": [
    "## long vs long"
   ]
  },
  {
   "cell_type": "markdown",
   "metadata": {},
   "source": [
    "### A match"
   ]
  },
  {
   "cell_type": "code",
   "execution_count": 37,
   "metadata": {
    "pycharm": {
     "is_executing": false
    }
   },
   "outputs": [
    {
     "name": "stdout",
     "output_type": "stream",
     "text": [
      "sla train: (10020, 3), sla valid: (1670, 3), sla test: (5010, 3)\n"
     ]
    }
   ],
   "source": [
    "# lla train\n",
    "lla_train = read_file(\"../data/raw/lla/train.txt\", \"train\", \"A\")\n",
    "lla_valid = read_file(\"../data/raw/lla/valid.txt\", \"train\", \"A\")\n",
    "lla_test = read_file(\"../data/raw/lla/test_with_id.txt\", \"test\", \"A\")\n",
    "\n",
    "lla_train_df = pd.DataFrame(lla_train, columns=train_columns)\n",
    "lla_valid_df = pd.DataFrame(lla_valid, columns=train_columns)\n",
    "lla_test_df = pd.DataFrame(lla_test, columns=test_columns)\n",
    "\n",
    "print(f\"sla train: {lla_train_df.shape}, sla valid: {lla_valid_df.shape}, sla test: {lla_test_df.shape}\")"
   ]
  },
  {
   "cell_type": "code",
   "execution_count": 38,
   "metadata": {
    "pycharm": {
     "is_executing": false
    }
   },
   "outputs": [
    {
     "name": "stdout",
     "output_type": "stream",
     "text": [
      "(10020, 3)\n",
      "label distribute\n",
      " 0    5538\n",
      "1    4482\n",
      "Name: label, dtype: int64\n",
      "lla train label 0/1 distribute: 1.2356\n"
     ]
    },
    {
     "data": {
      "text/html": [
       "<div>\n",
       "<style scoped>\n",
       "    .dataframe tbody tr th:only-of-type {\n",
       "        vertical-align: middle;\n",
       "    }\n",
       "\n",
       "    .dataframe tbody tr th {\n",
       "        vertical-align: top;\n",
       "    }\n",
       "\n",
       "    .dataframe thead th {\n",
       "        text-align: right;\n",
       "    }\n",
       "</style>\n",
       "<table border=\"1\" class=\"dataframe\">\n",
       "  <thead>\n",
       "    <tr style=\"text-align: right;\">\n",
       "      <th></th>\n",
       "      <th>source</th>\n",
       "      <th>target</th>\n",
       "      <th>label</th>\n",
       "    </tr>\n",
       "  </thead>\n",
       "  <tbody>\n",
       "    <tr>\n",
       "      <td>0</td>\n",
       "      <td>最近 你有没有约上好友一起去看电影？ 观影的感觉是不是很爽…… 不过 消防蜀黍在这里还得啰嗦...</td>\n",
       "      <td>最近 你有没有约上好友一起去看电影？ 观影的感觉是不是很爽…… 不过 消防蜀黍在这里还得啰嗦...</td>\n",
       "      <td>1</td>\n",
       "    </tr>\n",
       "    <tr>\n",
       "      <td>1</td>\n",
       "      <td>就算韩国娱乐圈中新来的艺人是一个接着一个，\"首席御姐\"的座位也没有任何人去争抢。 这个位置能...</td>\n",
       "      <td>作为\"霸道总裁\"的王耀庆，即使不想成为一个演员。 却也因为自己的\"手滑\"填错了志愿，从此踏上...</td>\n",
       "      <td>0</td>\n",
       "    </tr>\n",
       "    <tr>\n",
       "      <td>2</td>\n",
       "      <td>1月13日， 在地铁3号线清江路站早高峰期间， 发生了这样惊险的一幕  事件回顾 7:40分...</td>\n",
       "      <td>千盼万盼 洛阳人离地铁越来越近 实拍！洛阳地铁1号线试运行...... （点击文字链接查看详...</td>\n",
       "      <td>1</td>\n",
       "    </tr>\n",
       "    <tr>\n",
       "      <td>3</td>\n",
       "      <td>新华社联合国1月7日电中国常驻联合国代表团发言人7日说，据媒体报道，美国国务卿蓬佩奥称美国常...</td>\n",
       "      <td>【美国常驻联合国代表克拉夫特访台计划取消，外交部回应】据路透社消息，美国国务院发言人12日宣...</td>\n",
       "      <td>1</td>\n",
       "    </tr>\n",
       "    <tr>\n",
       "      <td>4</td>\n",
       "      <td>自贡市管治结合，狠抓春季森林防火。 一是严格火源管控。全面实行护林护草人员在线巡护，在国有林...</td>\n",
       "      <td>“世界之大，无奇不有”在我们生活的这个世界上，生活着许许多多可爱又聪明的小动物！它们以一种憨...</td>\n",
       "      <td>0</td>\n",
       "    </tr>\n",
       "  </tbody>\n",
       "</table>\n",
       "</div>"
      ],
      "text/plain": [
       "                                              source  \\\n",
       "0  最近 你有没有约上好友一起去看电影？ 观影的感觉是不是很爽…… 不过 消防蜀黍在这里还得啰嗦...   \n",
       "1  就算韩国娱乐圈中新来的艺人是一个接着一个，\"首席御姐\"的座位也没有任何人去争抢。 这个位置能...   \n",
       "2  1月13日， 在地铁3号线清江路站早高峰期间， 发生了这样惊险的一幕  事件回顾 7:40分...   \n",
       "3  新华社联合国1月7日电中国常驻联合国代表团发言人7日说，据媒体报道，美国国务卿蓬佩奥称美国常...   \n",
       "4  自贡市管治结合，狠抓春季森林防火。 一是严格火源管控。全面实行护林护草人员在线巡护，在国有林...   \n",
       "\n",
       "                                              target label  \n",
       "0  最近 你有没有约上好友一起去看电影？ 观影的感觉是不是很爽…… 不过 消防蜀黍在这里还得啰嗦...     1  \n",
       "1  作为\"霸道总裁\"的王耀庆，即使不想成为一个演员。 却也因为自己的\"手滑\"填错了志愿，从此踏上...     0  \n",
       "2  千盼万盼 洛阳人离地铁越来越近 实拍！洛阳地铁1号线试运行...... （点击文字链接查看详...     1  \n",
       "3  【美国常驻联合国代表克拉夫特访台计划取消，外交部回应】据路透社消息，美国国务院发言人12日宣...     1  \n",
       "4  “世界之大，无奇不有”在我们生活的这个世界上，生活着许许多多可爱又聪明的小动物！它们以一种憨...     0  "
      ]
     },
     "execution_count": 38,
     "metadata": {},
     "output_type": "execute_result"
    }
   ],
   "source": [
    "print(lla_train_df.shape)\n",
    "# lla train label distrubute\n",
    "lla_train_dist = lla_train_df[\"label\"].value_counts()\n",
    "print(\"label distribute\\n\", lla_train_dist)\n",
    "print(f\"lla train label 0/1 distribute: {lla_train_dist[0] / lla_train_dist[1]:.4f}\")\n",
    "lla_train_df.head()"
   ]
  },
  {
   "cell_type": "code",
   "execution_count": 39,
   "metadata": {
    "pycharm": {
     "is_executing": false
    }
   },
   "outputs": [
    {
     "name": "stdout",
     "output_type": "stream",
     "text": [
      "(1670, 3)\n",
      "label distribute\n",
      " 0    904\n",
      "1    766\n",
      "Name: label, dtype: int64\n"
     ]
    },
    {
     "data": {
      "text/html": [
       "<div>\n",
       "<style scoped>\n",
       "    .dataframe tbody tr th:only-of-type {\n",
       "        vertical-align: middle;\n",
       "    }\n",
       "\n",
       "    .dataframe tbody tr th {\n",
       "        vertical-align: top;\n",
       "    }\n",
       "\n",
       "    .dataframe thead th {\n",
       "        text-align: right;\n",
       "    }\n",
       "</style>\n",
       "<table border=\"1\" class=\"dataframe\">\n",
       "  <thead>\n",
       "    <tr style=\"text-align: right;\">\n",
       "      <th></th>\n",
       "      <th>source</th>\n",
       "      <th>target</th>\n",
       "      <th>label</th>\n",
       "    </tr>\n",
       "  </thead>\n",
       "  <tbody>\n",
       "    <tr>\n",
       "      <td>0</td>\n",
       "      <td>48岁吴绮莉现身避谈小龙女，主动提生父，对方墓地买好不愿回港 48岁吴绮莉现身避谈小龙女，主...</td>\n",
       "      <td>霍震霆与朱玲玲离婚后多年未娶妻，也没传绯闻，曝出实情令人遗憾。霍震霆子承父业，在香港也是非常...</td>\n",
       "      <td>0</td>\n",
       "    </tr>\n",
       "    <tr>\n",
       "      <td>1</td>\n",
       "      <td>网易娱乐1月24日报道1月24日，在昨晚播出的《怦然再心动》中王琳的儿子出镜，被网友称撞脸王...</td>\n",
       "      <td>年龄大了还会有爱情吗？有随便找人凑活的，也有一个人孤独终老的，在此，让我们看看“雪姨”王琳的...</td>\n",
       "      <td>1</td>\n",
       "    </tr>\n",
       "    <tr>\n",
       "      <td>2</td>\n",
       "      <td>《王牌对王牌》第六季正在播出。本赛季王牌家族队依旧是沈腾、贾玲、华晨宇、关晓彤4人。沈涛周围...</td>\n",
       "      <td>你为家人全力以赴 我们为你保持温度 焱魔方为你带来了 你不知道的那些故事 前不久在某档综艺节...</td>\n",
       "      <td>0</td>\n",
       "    </tr>\n",
       "    <tr>\n",
       "      <td>3</td>\n",
       "      <td>海外网1月12日电，当地时间1月9日，30岁的中国留美博士范轶然（音译）遭遇枪击，不幸身亡。...</td>\n",
       "      <td>当地时间1月14日，芝加哥大学为日前不幸遭遇枪杀的中国留学生范轶然举办追悼活动。芝加哥大学校...</td>\n",
       "      <td>1</td>\n",
       "    </tr>\n",
       "    <tr>\n",
       "      <td>4</td>\n",
       "      <td>南都此前关注报道的“美妆博主举报初中班主任曾性骚扰”一事迎来一审判决。1月13日，南都记者从...</td>\n",
       "      <td>近年来，健康保险业务发展快速，年均增速超过30%，受到社会各界广泛关注。短期健康险在快速发...</td>\n",
       "      <td>0</td>\n",
       "    </tr>\n",
       "  </tbody>\n",
       "</table>\n",
       "</div>"
      ],
      "text/plain": [
       "                                              source  \\\n",
       "0  48岁吴绮莉现身避谈小龙女，主动提生父，对方墓地买好不愿回港 48岁吴绮莉现身避谈小龙女，主...   \n",
       "1  网易娱乐1月24日报道1月24日，在昨晚播出的《怦然再心动》中王琳的儿子出镜，被网友称撞脸王...   \n",
       "2  《王牌对王牌》第六季正在播出。本赛季王牌家族队依旧是沈腾、贾玲、华晨宇、关晓彤4人。沈涛周围...   \n",
       "3  海外网1月12日电，当地时间1月9日，30岁的中国留美博士范轶然（音译）遭遇枪击，不幸身亡。...   \n",
       "4  南都此前关注报道的“美妆博主举报初中班主任曾性骚扰”一事迎来一审判决。1月13日，南都记者从...   \n",
       "\n",
       "                                              target label  \n",
       "0  霍震霆与朱玲玲离婚后多年未娶妻，也没传绯闻，曝出实情令人遗憾。霍震霆子承父业，在香港也是非常...     0  \n",
       "1  年龄大了还会有爱情吗？有随便找人凑活的，也有一个人孤独终老的，在此，让我们看看“雪姨”王琳的...     1  \n",
       "2  你为家人全力以赴 我们为你保持温度 焱魔方为你带来了 你不知道的那些故事 前不久在某档综艺节...     0  \n",
       "3  当地时间1月14日，芝加哥大学为日前不幸遭遇枪杀的中国留学生范轶然举办追悼活动。芝加哥大学校...     1  \n",
       "4   近年来，健康保险业务发展快速，年均增速超过30%，受到社会各界广泛关注。短期健康险在快速发...     0  "
      ]
     },
     "execution_count": 39,
     "metadata": {},
     "output_type": "execute_result"
    }
   ],
   "source": [
    "print(lla_valid_df.shape)\n",
    "# lla valid label distrubute\n",
    "print(\"label distribute\\n\", lla_valid_df[\"label\"].value_counts())\n",
    "lla_valid_df.head()"
   ]
  },
  {
   "cell_type": "code",
   "execution_count": 40,
   "metadata": {
    "pycharm": {
     "is_executing": false
    }
   },
   "outputs": [
    {
     "name": "stdout",
     "output_type": "stream",
     "text": [
      "11690\n"
     ]
    },
    {
     "data": {
      "text/plain": [
       "[818, 1505, 589, 377, 377]"
      ]
     },
     "execution_count": 40,
     "metadata": {},
     "output_type": "execute_result"
    }
   ],
   "source": [
    "lla_train_src_len = lla_train_df[\"source\"].str.len().tolist()\n",
    "lla_valid_src_len = lla_valid_df[\"source\"].str.len().tolist()\n",
    "lla_train_src_len = lla_train_src_len + lla_valid_src_len\n",
    "print(len(lla_train_src_len))\n",
    "lla_train_src_len[:5]"
   ]
  },
  {
   "cell_type": "code",
   "execution_count": 41,
   "metadata": {
    "pycharm": {
     "is_executing": false
    }
   },
   "outputs": [
    {
     "data": {
      "image/png": "[encoded data removed]",
      "text/plain": [
       "<Figure size 432x288 with 1 Axes>"
      ]
     },
     "metadata": {
      "needs_background": "light"
     },
     "output_type": "display_data"
    }
   ],
   "source": [
    "# train valid source length distribute\n",
    "pd.Series(lla_train_src_len).value_counts().hist()\n",
    "plt.show()"
   ]
  },
  {
   "cell_type": "code",
   "execution_count": 42,
   "metadata": {
    "pycharm": {
     "is_executing": false
    }
   },
   "outputs": [
    {
     "name": "stdout",
     "output_type": "stream",
     "text": [
      "11690\n"
     ]
    },
    {
     "data": {
      "text/plain": [
       "[835, 1455, 7703, 279, 582]"
      ]
     },
     "execution_count": 42,
     "metadata": {},
     "output_type": "execute_result"
    }
   ],
   "source": [
    "lla_train_tgt_len = lla_train_df[\"target\"].str.len().tolist()\n",
    "lla_valid_tgt_len = lla_valid_df[\"target\"].str.len().tolist()\n",
    "lla_train_tgt_len = lla_train_tgt_len + lla_valid_tgt_len\n",
    "print(len(lla_train_tgt_len))\n",
    "lla_train_tgt_len[:5]"
   ]
  },
  {
   "cell_type": "code",
   "execution_count": 43,
   "metadata": {
    "pycharm": {
     "is_executing": false
    }
   },
   "outputs": [
    {
     "data": {
      "image/png": "[encoded data removed]",
      "text/plain": [
       "<Figure size 432x288 with 1 Axes>"
      ]
     },
     "metadata": {
      "needs_background": "light"
     },
     "output_type": "display_data"
    }
   ],
   "source": [
    "# train valid target length distribute\n",
    "pd.Series(lla_train_tgt_len).value_counts().hist()\n",
    "plt.show()"
   ]
  },
  {
   "cell_type": "markdown",
   "metadata": {},
   "source": [
    "### B strict match"
   ]
  },
  {
   "cell_type": "code",
   "execution_count": 44,
   "metadata": {
    "pycharm": {
     "is_executing": false
    }
   },
   "outputs": [
    {
     "name": "stdout",
     "output_type": "stream",
     "text": [
      "llb train: (10020, 3), llb valid: (1670, 3), llb test: (5010, 3)\n"
     ]
    }
   ],
   "source": [
    "# llb train\n",
    "llb_train = read_file(\"../data/raw/llb/train.txt\", \"train\", \"B\")\n",
    "llb_valid = read_file(\"../data/raw/llb/valid.txt\", \"train\", \"B\")\n",
    "llb_test = read_file(\"../data/raw/llb/test_with_id.txt\", \"test\", \"B\")\n",
    "\n",
    "llb_train_df = pd.DataFrame(llb_train, columns=train_columns)\n",
    "llb_valid_df = pd.DataFrame(llb_valid, columns=train_columns)\n",
    "llb_test_df = pd.DataFrame(llb_test, columns=test_columns)\n",
    "\n",
    "print(f\"llb train: {llb_train_df.shape}, llb valid: {llb_valid_df.shape}, llb test: {llb_test_df.shape}\")"
   ]
  },
  {
   "cell_type": "code",
   "execution_count": 45,
   "metadata": {
    "pycharm": {
     "is_executing": false
    }
   },
   "outputs": [
    {
     "name": "stdout",
     "output_type": "stream",
     "text": [
      "(10020, 3)\n",
      "label distribute\n",
      " 0    7757\n",
      "1    2263\n",
      "Name: label, dtype: int64\n",
      "lla train label 0/1 distribute: 3.4278\n"
     ]
    },
    {
     "data": {
      "text/html": [
       "<div>\n",
       "<style scoped>\n",
       "    .dataframe tbody tr th:only-of-type {\n",
       "        vertical-align: middle;\n",
       "    }\n",
       "\n",
       "    .dataframe tbody tr th {\n",
       "        vertical-align: top;\n",
       "    }\n",
       "\n",
       "    .dataframe thead th {\n",
       "        text-align: right;\n",
       "    }\n",
       "</style>\n",
       "<table border=\"1\" class=\"dataframe\">\n",
       "  <thead>\n",
       "    <tr style=\"text-align: right;\">\n",
       "      <th></th>\n",
       "      <th>source</th>\n",
       "      <th>target</th>\n",
       "      <th>label</th>\n",
       "    </tr>\n",
       "  </thead>\n",
       "  <tbody>\n",
       "    <tr>\n",
       "      <td>0</td>\n",
       "      <td>1月26日消息，今天NBA常规赛中，篮网主场以98-85战胜热火，双杀对手。本场比赛，篮网三...</td>\n",
       "      <td>今天NBA常规赛篮网和骑士的比赛堪称是万众瞩目，因为欧文在缺阵7场比赛之后终于归来，他和哈登...</td>\n",
       "      <td>0</td>\n",
       "    </tr>\n",
       "    <tr>\n",
       "      <td>1</td>\n",
       "      <td>北京时间1月21日，2020-21赛季NBA常规赛继续进行，金州勇士队在主场迎战圣安东尼奥马...</td>\n",
       "      <td>2020三水伟业达杯：改装踏板新人组总季军张铭洋 2020年三水森林赛车会摩托车大赛伟业达杯...</td>\n",
       "      <td>0</td>\n",
       "    </tr>\n",
       "    <tr>\n",
       "      <td>2</td>\n",
       "      <td>春暖开花季节就快要到了， 打起精神来， 有一大波好消息要告诉你！ 事关交通、教育、民生、补贴...</td>\n",
       "      <td>机器轰鸣声持续响起 冲破了海风的呼啸 吹响了起步冲锋的号角 3月2日，翔安区一季度12个项目...</td>\n",
       "      <td>0</td>\n",
       "    </tr>\n",
       "    <tr>\n",
       "      <td>3</td>\n",
       "      <td>曼联刚签下来自意甲亚特兰大球队前锋迪亚洛。对于这位球员，曼联名宿费迪南德也认为他能达到C罗的...</td>\n",
       "      <td>北京时间1月26日，国乒方面迎来好消息。最近，在全国青年锦标赛中取得好成绩的小将韩菲儿已经成...</td>\n",
       "      <td>0</td>\n",
       "    </tr>\n",
       "    <tr>\n",
       "      <td>4</td>\n",
       "      <td>近年来，为深入推进“人才强县”战略，黎平县在引、育、用上下功夫，通过政策扶持“引才”、示范引...</td>\n",
       "      <td>一是贫困地区缺少高端人才的用武之地。就像许多大学毕业生在北上广等一线城市才能找到合适的工作，...</td>\n",
       "      <td>0</td>\n",
       "    </tr>\n",
       "  </tbody>\n",
       "</table>\n",
       "</div>"
      ],
      "text/plain": [
       "                                              source  \\\n",
       "0  1月26日消息，今天NBA常规赛中，篮网主场以98-85战胜热火，双杀对手。本场比赛，篮网三...   \n",
       "1  北京时间1月21日，2020-21赛季NBA常规赛继续进行，金州勇士队在主场迎战圣安东尼奥马...   \n",
       "2  春暖开花季节就快要到了， 打起精神来， 有一大波好消息要告诉你！ 事关交通、教育、民生、补贴...   \n",
       "3  曼联刚签下来自意甲亚特兰大球队前锋迪亚洛。对于这位球员，曼联名宿费迪南德也认为他能达到C罗的...   \n",
       "4  近年来，为深入推进“人才强县”战略，黎平县在引、育、用上下功夫，通过政策扶持“引才”、示范引...   \n",
       "\n",
       "                                              target label  \n",
       "0  今天NBA常规赛篮网和骑士的比赛堪称是万众瞩目，因为欧文在缺阵7场比赛之后终于归来，他和哈登...     0  \n",
       "1  2020三水伟业达杯：改装踏板新人组总季军张铭洋 2020年三水森林赛车会摩托车大赛伟业达杯...     0  \n",
       "2  机器轰鸣声持续响起 冲破了海风的呼啸 吹响了起步冲锋的号角 3月2日，翔安区一季度12个项目...     0  \n",
       "3  北京时间1月26日，国乒方面迎来好消息。最近，在全国青年锦标赛中取得好成绩的小将韩菲儿已经成...     0  \n",
       "4  一是贫困地区缺少高端人才的用武之地。就像许多大学毕业生在北上广等一线城市才能找到合适的工作，...     0  "
      ]
     },
     "execution_count": 45,
     "metadata": {},
     "output_type": "execute_result"
    }
   ],
   "source": [
    "print(llb_train_df.shape)\n",
    "# llb train label distrubute\n",
    "llb_train_dist = llb_train_df[\"label\"].value_counts()\n",
    "print(\"label distribute\\n\", llb_train_dist)\n",
    "print(f\"lla train label 0/1 distribute: {llb_train_dist[0] / llb_train_dist[1]:.4f}\")\n",
    "llb_train_df.head()"
   ]
  },
  {
   "cell_type": "code",
   "execution_count": 46,
   "metadata": {
    "pycharm": {
     "is_executing": false
    }
   },
   "outputs": [
    {
     "name": "stdout",
     "output_type": "stream",
     "text": [
      "(1670, 3)\n",
      "label distribute\n",
      " 0    1265\n",
      "1     405\n",
      "Name: label, dtype: int64\n"
     ]
    },
    {
     "data": {
      "text/html": [
       "<div>\n",
       "<style scoped>\n",
       "    .dataframe tbody tr th:only-of-type {\n",
       "        vertical-align: middle;\n",
       "    }\n",
       "\n",
       "    .dataframe tbody tr th {\n",
       "        vertical-align: top;\n",
       "    }\n",
       "\n",
       "    .dataframe thead th {\n",
       "        text-align: right;\n",
       "    }\n",
       "</style>\n",
       "<table border=\"1\" class=\"dataframe\">\n",
       "  <thead>\n",
       "    <tr style=\"text-align: right;\">\n",
       "      <th></th>\n",
       "      <th>source</th>\n",
       "      <th>target</th>\n",
       "      <th>label</th>\n",
       "    </tr>\n",
       "  </thead>\n",
       "  <tbody>\n",
       "    <tr>\n",
       "      <td>0</td>\n",
       "      <td>来源：综合自中国青年报、人民网、河南省教育厅、学校共青团、各高校网站等 近日，教育部印发提醒...</td>\n",
       "      <td>中国青年网北京2月14日电（记者陈子君）2021年2月11日，是中国传统农历中的大年三十，也...</td>\n",
       "      <td>0</td>\n",
       "    </tr>\n",
       "    <tr>\n",
       "      <td>1</td>\n",
       "      <td>罗志祥，娱乐圈内颇为知名的一位艺人了，不管是在出事前还是出事后，他都是如此的有流量。可以说罗...</td>\n",
       "      <td>罗志祥自从与周扬青分手之后就淡出了娱乐圈，由于分手时周扬青发出的长文爆料，也是让罗志祥身上多...</td>\n",
       "      <td>1</td>\n",
       "    </tr>\n",
       "    <tr>\n",
       "      <td>2</td>\n",
       "      <td>中国经济网北京2月2日讯（记者马先震孙辰炜）日前，国家市场监督管理总局网站公布了广州小鹏汽车...</td>\n",
       "      <td>新华社发表文章《瞭望|特斯拉恶意甩锅是对中国消费者的无理傲慢》。称特斯拉召回车辆却在海外不认...</td>\n",
       "      <td>0</td>\n",
       "    </tr>\n",
       "    <tr>\n",
       "      <td>3</td>\n",
       "      <td>👆点击进入珠海通小程序，免费发布便民信息 《巴啦啦小魔仙》相信很多人都看过， 但今天下午传来...</td>\n",
       "      <td>近日，有网友晒出了陈翔回到四川文化艺术学院，与母校签约的画面，他将正式入职当老师，在合约期内...</td>\n",
       "      <td>0</td>\n",
       "    </tr>\n",
       "    <tr>\n",
       "      <td>4</td>\n",
       "      <td>提起香港乐坛，人们首先就会想到四大天王，大家会想到郭富城，黎明，张学友，刘德华，他们每一个都...</td>\n",
       "      <td>昨晚，''2021年春节联欢晚会''如愿以偿，牛年春晚，哪里是最大的亮点？网友的回答令人惊讶...</td>\n",
       "      <td>0</td>\n",
       "    </tr>\n",
       "  </tbody>\n",
       "</table>\n",
       "</div>"
      ],
      "text/plain": [
       "                                              source  \\\n",
       "0  来源：综合自中国青年报、人民网、河南省教育厅、学校共青团、各高校网站等 近日，教育部印发提醒...   \n",
       "1  罗志祥，娱乐圈内颇为知名的一位艺人了，不管是在出事前还是出事后，他都是如此的有流量。可以说罗...   \n",
       "2  中国经济网北京2月2日讯（记者马先震孙辰炜）日前，国家市场监督管理总局网站公布了广州小鹏汽车...   \n",
       "3  👆点击进入珠海通小程序，免费发布便民信息 《巴啦啦小魔仙》相信很多人都看过， 但今天下午传来...   \n",
       "4  提起香港乐坛，人们首先就会想到四大天王，大家会想到郭富城，黎明，张学友，刘德华，他们每一个都...   \n",
       "\n",
       "                                              target label  \n",
       "0  中国青年网北京2月14日电（记者陈子君）2021年2月11日，是中国传统农历中的大年三十，也...     0  \n",
       "1  罗志祥自从与周扬青分手之后就淡出了娱乐圈，由于分手时周扬青发出的长文爆料，也是让罗志祥身上多...     1  \n",
       "2  新华社发表文章《瞭望|特斯拉恶意甩锅是对中国消费者的无理傲慢》。称特斯拉召回车辆却在海外不认...     0  \n",
       "3  近日，有网友晒出了陈翔回到四川文化艺术学院，与母校签约的画面，他将正式入职当老师，在合约期内...     0  \n",
       "4  昨晚，''2021年春节联欢晚会''如愿以偿，牛年春晚，哪里是最大的亮点？网友的回答令人惊讶...     0  "
      ]
     },
     "execution_count": 46,
     "metadata": {},
     "output_type": "execute_result"
    }
   ],
   "source": [
    "print(llb_valid_df.shape)\n",
    "# ssb valid label distrubute\n",
    "print(\"label distribute\\n\", llb_valid_df[\"label\"].value_counts())\n",
    "llb_valid_df.head()"
   ]
  },
  {
   "cell_type": "code",
   "execution_count": 47,
   "metadata": {
    "pycharm": {
     "is_executing": false
    }
   },
   "outputs": [
    {
     "name": "stdout",
     "output_type": "stream",
     "text": [
      "11690\n"
     ]
    },
    {
     "data": {
      "text/plain": [
       "[968, 1214, 5156, 617, 773]"
      ]
     },
     "execution_count": 47,
     "metadata": {},
     "output_type": "execute_result"
    }
   ],
   "source": [
    "llb_train_src_len = llb_train_df[\"source\"].str.len().tolist()\n",
    "llb_valid_src_len = llb_valid_df[\"source\"].str.len().tolist()\n",
    "llb_train_src_len = llb_train_src_len + llb_valid_src_len\n",
    "print(len(llb_train_src_len))\n",
    "llb_train_src_len[:5]"
   ]
  },
  {
   "cell_type": "code",
   "execution_count": 48,
   "metadata": {
    "pycharm": {
     "is_executing": false
    }
   },
   "outputs": [
    {
     "data": {
      "image/png": "[encoded data removed]",
      "text/plain": [
       "<Figure size 432x288 with 1 Axes>"
      ]
     },
     "metadata": {
      "needs_background": "light"
     },
     "output_type": "display_data"
    }
   ],
   "source": [
    "# train valid source length distribute\n",
    "pd.Series(llb_train_src_len).value_counts().hist()\n",
    "plt.show()"
   ]
  },
  {
   "cell_type": "code",
   "execution_count": 49,
   "metadata": {
    "pycharm": {
     "is_executing": false
    }
   },
   "outputs": [
    {
     "name": "stdout",
     "output_type": "stream",
     "text": [
      "11690\n"
     ]
    },
    {
     "data": {
      "text/plain": [
       "[543, 478, 1466, 796, 426]"
      ]
     },
     "execution_count": 49,
     "metadata": {},
     "output_type": "execute_result"
    }
   ],
   "source": [
    "llb_train_tgt_len = llb_train_df[\"target\"].str.len().tolist()\n",
    "llb_valid_tgt_len = llb_valid_df[\"target\"].str.len().tolist()\n",
    "llb_train_tgt_len = llb_train_tgt_len + llb_valid_tgt_len\n",
    "print(len(llb_train_tgt_len))\n",
    "llb_train_tgt_len[:5]"
   ]
  },
  {
   "cell_type": "code",
   "execution_count": 50,
   "metadata": {
    "pycharm": {
     "is_executing": false
    }
   },
   "outputs": [
    {
     "data": {
      "image/png": "[encoded data removed]",
      "text/plain": [
       "<Figure size 432x288 with 1 Axes>"
      ]
     },
     "metadata": {
      "needs_background": "light"
     },
     "output_type": "display_data"
    }
   ],
   "source": [
    "# train valid target length distribute\n",
    "pd.Series(llb_train_tgt_len).value_counts().hist()\n",
    "plt.show()"
   ]
  },
  {
   "cell_type": "markdown",
   "metadata": {},
   "source": [
    "## merge data"
   ]
  },
  {
   "cell_type": "code",
   "execution_count": 51,
   "metadata": {
    "pycharm": {
     "is_executing": false
    }
   },
   "outputs": [],
   "source": [
    "train_data = pd.concat([ssa_train_df, ssb_train_df, sla_train_df, slb_train_df, lla_train_df, llb_train_df])\n",
    "valid_data = pd.concat([ssa_valid_df, ssb_valid_df, sla_valid_df, slb_valid_df, lla_valid_df, llb_valid_df])\n",
    "test_data  = pd.concat([ssa_test_df,  ssb_test_df,  sla_test_df,  slb_test_df,  lla_test_df,  llb_test_df])"
   ]
  },
  {
   "cell_type": "code",
   "execution_count": 52,
   "metadata": {
    "pycharm": {
     "is_executing": false
    }
   },
   "outputs": [
    {
     "name": "stdout",
     "output_type": "stream",
     "text": [
      "(59638, 3)\n"
     ]
    },
    {
     "data": {
      "text/html": [
       "<div>\n",
       "<style scoped>\n",
       "    .dataframe tbody tr th:only-of-type {\n",
       "        vertical-align: middle;\n",
       "    }\n",
       "\n",
       "    .dataframe tbody tr th {\n",
       "        vertical-align: top;\n",
       "    }\n",
       "\n",
       "    .dataframe thead th {\n",
       "        text-align: right;\n",
       "    }\n",
       "</style>\n",
       "<table border=\"1\" class=\"dataframe\">\n",
       "  <thead>\n",
       "    <tr style=\"text-align: right;\">\n",
       "      <th></th>\n",
       "      <th>source</th>\n",
       "      <th>target</th>\n",
       "      <th>label</th>\n",
       "    </tr>\n",
       "  </thead>\n",
       "  <tbody>\n",
       "    <tr>\n",
       "      <td>0</td>\n",
       "      <td>谁能打破科比81分纪录？奥尼尔给出5个候选人，补充利拉德比尔！</td>\n",
       "      <td>NBA现役能入名人堂的球星很多，但是能被立铜像只有2人</td>\n",
       "      <td>0</td>\n",
       "    </tr>\n",
       "    <tr>\n",
       "      <td>1</td>\n",
       "      <td>请扩散！明天，黄金埠这些地方会停电！</td>\n",
       "      <td>生活｜这几个地方注意啦！1月12日有部分线路停电检修</td>\n",
       "      <td>0</td>\n",
       "    </tr>\n",
       "    <tr>\n",
       "      <td>2</td>\n",
       "      <td>居家健身增强免疫！（三）</td>\n",
       "      <td>原来是背影杀手#你愿意和我做朋友吗#户外健身</td>\n",
       "      <td>0</td>\n",
       "    </tr>\n",
       "    <tr>\n",
       "      <td>3</td>\n",
       "      <td>太极拳罗师傅被洋人打伤，叶问霸气复仇？</td>\n",
       "      <td>非常完美：感动！女嘉宾告白赵杰被拒绝，尹康霸气上台挽留！</td>\n",
       "      <td>0</td>\n",
       "    </tr>\n",
       "    <tr>\n",
       "      <td>4</td>\n",
       "      <td>恭喜哈登！篮网因祸得福，29+7超巨大概率复出，3换4交易方案出炉</td>\n",
       "      <td>三英缺席杜兰特，篮网迎战湖人NBA重头大戏！</td>\n",
       "      <td>1</td>\n",
       "    </tr>\n",
       "  </tbody>\n",
       "</table>\n",
       "</div>"
      ],
      "text/plain": [
       "                              source                          target label\n",
       "0    谁能打破科比81分纪录？奥尼尔给出5个候选人，补充利拉德比尔！     NBA现役能入名人堂的球星很多，但是能被立铜像只有2人     0\n",
       "1                 请扩散！明天，黄金埠这些地方会停电！      生活｜这几个地方注意啦！1月12日有部分线路停电检修     0\n",
       "2                       居家健身增强免疫！（三）          原来是背影杀手#你愿意和我做朋友吗#户外健身     0\n",
       "3                太极拳罗师傅被洋人打伤，叶问霸气复仇？    非常完美：感动！女嘉宾告白赵杰被拒绝，尹康霸气上台挽留！     0\n",
       "4  恭喜哈登！篮网因祸得福，29+7超巨大概率复出，3换4交易方案出炉          三英缺席杜兰特，篮网迎战湖人NBA重头大戏！     1"
      ]
     },
     "execution_count": 52,
     "metadata": {},
     "output_type": "execute_result"
    }
   ],
   "source": [
    "print(train_data.shape)\n",
    "train_data.head()"
   ]
  },
  {
   "cell_type": "code",
   "execution_count": 53,
   "metadata": {
    "pycharm": {
     "is_executing": false
    }
   },
   "outputs": [
    {
     "name": "stdout",
     "output_type": "stream",
     "text": [
      "(9940, 3)\n"
     ]
    },
    {
     "data": {
      "text/html": [
       "<div>\n",
       "<style scoped>\n",
       "    .dataframe tbody tr th:only-of-type {\n",
       "        vertical-align: middle;\n",
       "    }\n",
       "\n",
       "    .dataframe tbody tr th {\n",
       "        vertical-align: top;\n",
       "    }\n",
       "\n",
       "    .dataframe thead th {\n",
       "        text-align: right;\n",
       "    }\n",
       "</style>\n",
       "<table border=\"1\" class=\"dataframe\">\n",
       "  <thead>\n",
       "    <tr style=\"text-align: right;\">\n",
       "      <th></th>\n",
       "      <th>source</th>\n",
       "      <th>target</th>\n",
       "      <th>label</th>\n",
       "    </tr>\n",
       "  </thead>\n",
       "  <tbody>\n",
       "    <tr>\n",
       "      <td>0</td>\n",
       "      <td>【春节档】据说《刺杀小说家》是全宇宙最好的剧组</td>\n",
       "      <td>《刺杀小说家》两个世界，一场奇幻冒险！</td>\n",
       "      <td>1</td>\n",
       "    </tr>\n",
       "    <tr>\n",
       "      <td>1</td>\n",
       "      <td>央广网北京2月25日消息（记者韩靖陈锐海）2021年2月25日16时，北京市朝阳区太阳宫北街...</td>\n",
       "      <td>据@新华视点消息，2021年2月25日16时，北京市朝阳区太阳宫北街1号，国家乡村振兴局牌子...</td>\n",
       "      <td>1</td>\n",
       "    </tr>\n",
       "    <tr>\n",
       "      <td>2</td>\n",
       "      <td>晒晒主持人程雷的豪宅，小区看起来有些年头，生活过得普通又节俭</td>\n",
       "      <td>带你参观张铎的豪宅，跟老婆生活很恩爱，在家餐厅布置非常浪漫</td>\n",
       "      <td>0</td>\n",
       "    </tr>\n",
       "    <tr>\n",
       "      <td>3</td>\n",
       "      <td>当时，勇士成功进行了24秒的防守，导致马刺未能将球打进。在格林准备发球的时候，德罗赞走向库里...</td>\n",
       "      <td>这场比赛，勇士队状态非常好，库里与乌布雷首节联手轰下25分，帮助勇士队取得领先。这场比赛，格...</td>\n",
       "      <td>1</td>\n",
       "    </tr>\n",
       "    <tr>\n",
       "      <td>4</td>\n",
       "      <td>凡是不愿说破的，也最怕别人点透</td>\n",
       "      <td>“小阎罗”茸主第二局TKO‘牧马人“毕德力雅，成功卫冕金腰带</td>\n",
       "      <td>0</td>\n",
       "    </tr>\n",
       "  </tbody>\n",
       "</table>\n",
       "</div>"
      ],
      "text/plain": [
       "                                              source  \\\n",
       "0                            【春节档】据说《刺杀小说家》是全宇宙最好的剧组   \n",
       "1  央广网北京2月25日消息（记者韩靖陈锐海）2021年2月25日16时，北京市朝阳区太阳宫北街...   \n",
       "2                     晒晒主持人程雷的豪宅，小区看起来有些年头，生活过得普通又节俭   \n",
       "3  当时，勇士成功进行了24秒的防守，导致马刺未能将球打进。在格林准备发球的时候，德罗赞走向库里...   \n",
       "4                                    凡是不愿说破的，也最怕别人点透   \n",
       "\n",
       "                                              target label  \n",
       "0                                《刺杀小说家》两个世界，一场奇幻冒险！     1  \n",
       "1  据@新华视点消息，2021年2月25日16时，北京市朝阳区太阳宫北街1号，国家乡村振兴局牌子...     1  \n",
       "2                      带你参观张铎的豪宅，跟老婆生活很恩爱，在家餐厅布置非常浪漫     0  \n",
       "3  这场比赛，勇士队状态非常好，库里与乌布雷首节联手轰下25分，帮助勇士队取得领先。这场比赛，格...     1  \n",
       "4                     “小阎罗”茸主第二局TKO‘牧马人“毕德力雅，成功卫冕金腰带     0  "
      ]
     },
     "execution_count": 53,
     "metadata": {},
     "output_type": "execute_result"
    }
   ],
   "source": [
    "print(valid_data.shape)\n",
    "valid_data.head()"
   ]
  },
  {
   "cell_type": "code",
   "execution_count": 54,
   "metadata": {
    "pycharm": {
     "is_executing": false
    }
   },
   "outputs": [
    {
     "name": "stdout",
     "output_type": "stream",
     "text": [
      "(29822, 3)\n"
     ]
    },
    {
     "data": {
      "text/html": [
       "<div>\n",
       "<style scoped>\n",
       "    .dataframe tbody tr th:only-of-type {\n",
       "        vertical-align: middle;\n",
       "    }\n",
       "\n",
       "    .dataframe tbody tr th {\n",
       "        vertical-align: top;\n",
       "    }\n",
       "\n",
       "    .dataframe thead th {\n",
       "        text-align: right;\n",
       "    }\n",
       "</style>\n",
       "<table border=\"1\" class=\"dataframe\">\n",
       "  <thead>\n",
       "    <tr style=\"text-align: right;\">\n",
       "      <th></th>\n",
       "      <th>source</th>\n",
       "      <th>target</th>\n",
       "      <th>id</th>\n",
       "    </tr>\n",
       "  </thead>\n",
       "  <tbody>\n",
       "    <tr>\n",
       "      <td>0</td>\n",
       "      <td>北京顺义2个地区调整为低风险地区</td>\n",
       "      <td>黑龙江省大庆市中风险地区清零全域调为低风险</td>\n",
       "      <td>ss0_a</td>\n",
       "    </tr>\n",
       "    <tr>\n",
       "      <td>1</td>\n",
       "      <td>库里夺冠希望渺茫！荣誉或就此而止，退役后进不了历史前十</td>\n",
       "      <td>维金斯：勇士文化是不同的这可能是我生涯最开心的阶段</td>\n",
       "      <td>ss1_a</td>\n",
       "    </tr>\n",
       "    <tr>\n",
       "      <td>2</td>\n",
       "      <td>过年了，过年了！</td>\n",
       "      <td>就地过年的你，许愿吗？</td>\n",
       "      <td>ss2_a</td>\n",
       "    </tr>\n",
       "    <tr>\n",
       "      <td>3</td>\n",
       "      <td>你见过被噎死的蛇吗？这条蛇自作自受吞下庞然大物把自己给撑死了！</td>\n",
       "      <td>这种瓜有人从来没见过，这里却做全瓜宴</td>\n",
       "      <td>ss3_a</td>\n",
       "    </tr>\n",
       "    <tr>\n",
       "      <td>4</td>\n",
       "      <td>如果你喜欢关注足球赛事、喜欢讨论赛事战术打法、了解豪门球队背后的历史渊源、喜爱投资足彩竞彩…...</td>\n",
       "      <td>大家好，我是小狼！前天利物浦客场3:1击败铁锤帮西汉姆联，红军打进的第二个进球太漂亮了，就像...</td>\n",
       "      <td>ss4_a</td>\n",
       "    </tr>\n",
       "  </tbody>\n",
       "</table>\n",
       "</div>"
      ],
      "text/plain": [
       "                                              source  \\\n",
       "0                                   北京顺义2个地区调整为低风险地区   \n",
       "1                        库里夺冠希望渺茫！荣誉或就此而止，退役后进不了历史前十   \n",
       "2                                           过年了，过年了！   \n",
       "3                    你见过被噎死的蛇吗？这条蛇自作自受吞下庞然大物把自己给撑死了！   \n",
       "4  如果你喜欢关注足球赛事、喜欢讨论赛事战术打法、了解豪门球队背后的历史渊源、喜爱投资足彩竞彩…...   \n",
       "\n",
       "                                              target     id  \n",
       "0                              黑龙江省大庆市中风险地区清零全域调为低风险  ss0_a  \n",
       "1                          维金斯：勇士文化是不同的这可能是我生涯最开心的阶段  ss1_a  \n",
       "2                                      就地过年的你，许愿吗？    ss2_a  \n",
       "3                                 这种瓜有人从来没见过，这里却做全瓜宴  ss3_a  \n",
       "4  大家好，我是小狼！前天利物浦客场3:1击败铁锤帮西汉姆联，红军打进的第二个进球太漂亮了，就像...  ss4_a  "
      ]
     },
     "execution_count": 54,
     "metadata": {},
     "output_type": "execute_result"
    }
   ],
   "source": [
    "print(test_data.shape)\n",
    "test_data.head()"
   ]
  },
  {
   "cell_type": "code",
   "execution_count": 55,
   "metadata": {
    "pycharm": {
     "is_executing": false
    }
   },
   "outputs": [
    {
     "data": {
      "text/plain": [
       "<matplotlib.axes._subplots.AxesSubplot at 0x7fb0ccdbfc10>"
      ]
     },
     "execution_count": 55,
     "metadata": {},
     "output_type": "execute_result"
    },
    {
     "data": {
      "image/png": "[encoded data removed]",
      "text/plain": [
       "<Figure size 432x288 with 1 Axes>"
      ]
     },
     "metadata": {
      "needs_background": "light"
     },
     "output_type": "display_data"
    }
   ],
   "source": [
    "train_data[\"source\"].str.len().value_counts().hist()"
   ]
  },
  {
   "cell_type": "code",
   "execution_count": 56,
   "metadata": {
    "pycharm": {
     "is_executing": false
    }
   },
   "outputs": [
    {
     "data": {
      "text/plain": [
       "<matplotlib.axes._subplots.AxesSubplot at 0x7fb0ccb9ddd0>"
      ]
     },
     "execution_count": 56,
     "metadata": {},
     "output_type": "execute_result"
    },
    {
     "data": {
      "image/png": "[encoded data removed]",
      "text/plain": [
       "<Figure size 432x288 with 1 Axes>"
      ]
     },
     "metadata": {
      "needs_background": "light"
     },
     "output_type": "display_data"
    }
   ],
   "source": [
    "train_data[\"target\"].str.len().value_counts().hist()"
   ]
  },
  {
   "cell_type": "code",
   "execution_count": 57,
   "metadata": {
    "pycharm": {
     "is_executing": false
    }
   },
   "outputs": [
    {
     "data": {
      "text/plain": [
       "count    59638.000000\n",
       "mean       414.683759\n",
       "std        842.287759\n",
       "min          3.000000\n",
       "25%         28.000000\n",
       "50%        121.000000\n",
       "75%        598.000000\n",
       "max      77827.000000\n",
       "Name: source, dtype: float64"
      ]
     },
     "execution_count": 57,
     "metadata": {},
     "output_type": "execute_result"
    }
   ],
   "source": [
    "train_data[\"source\"].str.len().describe()"
   ]
  },
  {
   "cell_type": "code",
   "execution_count": 58,
   "metadata": {
    "pycharm": {
     "is_executing": false
    }
   },
   "outputs": [
    {
     "data": {
      "text/plain": [
       "count    59638.000000\n",
       "mean       690.851974\n",
       "std        936.114293\n",
       "min          3.000000\n",
       "25%         92.000000\n",
       "50%        509.000000\n",
       "75%        974.000000\n",
       "max      45327.000000\n",
       "Name: target, dtype: float64"
      ]
     },
     "execution_count": 58,
     "metadata": {},
     "output_type": "execute_result"
    }
   ],
   "source": [
    "train_data[\"target\"].str.len().describe()"
   ]
  },
  {
   "cell_type": "markdown",
   "metadata": {},
   "source": [
    "## write to file"
   ]
  },
  {
   "cell_type": "code",
   "execution_count": 17,
   "metadata": {
    "pycharm": {
     "is_executing": false
    }
   },
   "outputs": [],
   "source": [
    "def write2file(df: pd.DataFrame, path: str = None):\n",
    "    df.to_csv(path, index=False, sep=\"\\t\")\n",
    "    print(f\"write to {path} success.\")"
   ]
  },
  {
   "cell_type": "code",
   "execution_count": 19,
   "metadata": {},
   "outputs": [
    {
     "name": "stdout",
     "output_type": "stream",
     "text": [
      "write to ../data/clean/train.csv success.\n",
      "write to ../data/clean/valid.csv success.\n",
      "write to ../data/clean/test.csv success.\n"
     ]
    }
   ],
   "source": [
    "write2file(ssa_train_df, \"../data/clean/train.csv\")\n",
    "write2file(ssa_valid_df, \"../data/clean/valid.csv\")\n",
    "write2file(ssa_test_df, \"../data/clean/test.csv\")"
   ]
  },
  {
   "cell_type": "code",
   "execution_count": 18,
   "metadata": {},
   "outputs": [
    {
     "ename": "NameError",
     "evalue": "name 'train_data' is not defined",
     "output_type": "error",
     "traceback": [
      "\u001b[1;31m---------------------------------------------------------------------------\u001b[0m",
      "\u001b[1;31mNameError\u001b[0m                                 Traceback (most recent call last)",
      "\u001b[1;32m<ipython-input-18-5e23c653a956>\u001b[0m in \u001b[0;36m<module>\u001b[1;34m()\u001b[0m\n\u001b[1;32m----> 1\u001b[1;33m \u001b[0mwrite2file\u001b[0m\u001b[1;33m(\u001b[0m\u001b[0mtrain_data\u001b[0m\u001b[1;33m,\u001b[0m \u001b[1;34m\"../data/clean/train.csv\"\u001b[0m\u001b[1;33m)\u001b[0m\u001b[1;33m\u001b[0m\u001b[0m\n\u001b[0m\u001b[0;32m      2\u001b[0m \u001b[0mwrite2file\u001b[0m\u001b[1;33m(\u001b[0m\u001b[0mvalid_data\u001b[0m\u001b[1;33m,\u001b[0m \u001b[1;34m\"../data/clean/valid.csv\"\u001b[0m\u001b[1;33m)\u001b[0m\u001b[1;33m\u001b[0m\u001b[0m\n\u001b[0;32m      3\u001b[0m \u001b[0mwrite2file\u001b[0m\u001b[1;33m(\u001b[0m\u001b[0mtest_data\u001b[0m\u001b[1;33m,\u001b[0m \u001b[1;34m\"../data/clean/test.csv\"\u001b[0m\u001b[1;33m)\u001b[0m\u001b[1;33m\u001b[0m\u001b[0m\n",
      "\u001b[1;31mNameError\u001b[0m: name 'train_data' is not defined"
     ]
    }
   ],
   "source": [
    "write2file(train_data, \"../data/clean/train.csv\")\n",
    "write2file(valid_data, \"../data/clean/valid.csv\")\n",
    "write2file(test_data, \"../data/clean/test.csv\")"
   ]
  },
  {
   "cell_type": "code",
   "execution_count": 62,
   "metadata": {},
   "outputs": [
    {
     "data": {
      "text/html": [
       "<div>\n",
       "<style scoped>\n",
       "    .dataframe tbody tr th:only-of-type {\n",
       "        vertical-align: middle;\n",
       "    }\n",
       "\n",
       "    .dataframe tbody tr th {\n",
       "        vertical-align: top;\n",
       "    }\n",
       "\n",
       "    .dataframe thead th {\n",
       "        text-align: right;\n",
       "    }\n",
       "</style>\n",
       "<table border=\"1\" class=\"dataframe\">\n",
       "  <thead>\n",
       "    <tr style=\"text-align: right;\">\n",
       "      <th></th>\n",
       "      <th>source</th>\n",
       "      <th>target</th>\n",
       "      <th>id</th>\n",
       "    </tr>\n",
       "  </thead>\n",
       "  <tbody>\n",
       "    <tr>\n",
       "      <td>4910</td>\n",
       "      <td>2月27日下午17时，香港电影金牌绿叶、演员吴孟达因肝癌在香港离世，享年68岁。详情&gt;&gt; 周...</td>\n",
       "      <td>2021年2月27日，香港著名喜剧演员吴孟达去世，享年70岁。吴孟达好友田启文曾透露，吴孟...</td>\n",
       "      <td>ll4910_b</td>\n",
       "    </tr>\n",
       "    <tr>\n",
       "      <td>4911</td>\n",
       "      <td>最喜欢出访的美国国务卿蓬佩奥日前突然取消了可能是他任内的最后一次出访计划，让外界着实吃了一惊...</td>\n",
       "      <td>中新社北京1月14日电题：美式“双标”反恐贻害无穷 中新社记者马佳佳 近日，美国国务院重新将...</td>\n",
       "      <td>ll4911_b</td>\n",
       "    </tr>\n",
       "    <tr>\n",
       "      <td>4912</td>\n",
       "      <td>【来自国新办新闻发布会的报道】 2020年是防范化解金融风险攻坚战的收官之年。银行保险业在金...</td>\n",
       "      <td>3月2日，国新办举行推动银行业保险业高质量发展新闻发布会，银保监会主席郭树清和有关银行保险机...</td>\n",
       "      <td>ll4912_b</td>\n",
       "    </tr>\n",
       "    <tr>\n",
       "      <td>4913</td>\n",
       "      <td>为配合各地政府落实疫情防控常态化措施，避免重复购票退票给旅客带来不便，自发售2021年2月1...</td>\n",
       "      <td>为加强疫情防控工作，严防疫情反弹，近日，我镇加强“三人小组”开展常态化疫情防控工作，对各村（...</td>\n",
       "      <td>ll4913_b</td>\n",
       "    </tr>\n",
       "    <tr>\n",
       "      <td>4914</td>\n",
       "      <td>皇家马德里在2014年开启了5年4次获得欧冠冠军的白色王朝，瓦拉内和拉莫斯从7年前成为皇马...</td>\n",
       "      <td>本赛季的皇马已经出现了一系列的问题，虽然现在的球队依然拥有联赛排名第二的位置，但是夺冠优势并...</td>\n",
       "      <td>ll4914_b</td>\n",
       "    </tr>\n",
       "    <tr>\n",
       "      <td>4915</td>\n",
       "      <td>来源：央视新闻客户端 2021-02-2415:42 2月24日，陕西渭南澄城出现持续性大范...</td>\n",
       "      <td>邯郸市气象台于24日晚上的22时36分发布了暴雪蓝色预警信号：预计24小时内邯郸市区降雪总量...</td>\n",
       "      <td>ll4915_b</td>\n",
       "    </tr>\n",
       "    <tr>\n",
       "      <td>4916</td>\n",
       "      <td>每经编辑：杜宇 据“山东教育发布”微信公号2月18日消息，为贯彻落实党中央、国务院《深化新时...</td>\n",
       "      <td>中新网2月18日电据山东省教育厅微信公众号消息，根据教育部等九部门《关于印发中小学生减负措施...</td>\n",
       "      <td>ll4916_b</td>\n",
       "    </tr>\n",
       "    <tr>\n",
       "      <td>4917</td>\n",
       "      <td>排球女神进日本发展，清纯不再变妖艳网红脸，现今男友是摄影师 众所周知，排球运动中的运动员因为...</td>\n",
       "      <td>高亭宇，1997年12月15日出生于黑龙江省伊春市。 2005年，高亭宇开始接触滑冰。20...</td>\n",
       "      <td>ll4917_b</td>\n",
       "    </tr>\n",
       "    <tr>\n",
       "      <td>4918</td>\n",
       "      <td>“呦！老张，今儿这么帅，去哪儿啊？” “啊？坏？老李，说啥呢？我哪儿坏了？” “不是啊！是帅...</td>\n",
       "      <td>你的假期余额已严重不足，明天，就要上班了！  这个春节，你是怎么过的？ 是和亲朋好友一起逛吃...</td>\n",
       "      <td>ll4918_b</td>\n",
       "    </tr>\n",
       "    <tr>\n",
       "      <td>4919</td>\n",
       "      <td>“男人不讨厌她，女人不嫉妒她”，这是沈腾对贾玲的一句非常中肯的评价。  不仅仅是在娱乐圈人缘...</td>\n",
       "      <td>2月24日，34岁的沛县十八线功夫演员“现代李小龙”飞龙就近期大红大紫的女导演贾玲公开抨击，...</td>\n",
       "      <td>ll4919_b</td>\n",
       "    </tr>\n",
       "    <tr>\n",
       "      <td>4920</td>\n",
       "      <td>35岁陈伟霆就算了，21岁男爱豆她也叫爸爸！欧阳娜娜在干嘛？  突然的，欧阳娜娜在综艺节目里...</td>\n",
       "      <td>最近欧阳娜娜的“睡衣事件”也成为了大家讨论的焦点，不少人扒出她在节目上的言行举止，欧阳娜娜也...</td>\n",
       "      <td>ll4920_b</td>\n",
       "    </tr>\n",
       "    <tr>\n",
       "      <td>4921</td>\n",
       "      <td>江苏常州通报一境外输入病例详情与此前公布确诊病例为同船船员 2月8日0—24时，江苏新增境外...</td>\n",
       "      <td>【2月8日江苏新增境外输入确诊1例在常州市定点医院治疗】2月8日0-24时，江苏新增境外输入...</td>\n",
       "      <td>ll4921_b</td>\n",
       "    </tr>\n",
       "    <tr>\n",
       "      <td>4922</td>\n",
       "      <td>拜仁在转会市场上一直表现得比较拘谨，从来都不会采用过高的价格来引进球员。其实从赫内斯时代开始...</td>\n",
       "      <td>斯通斯状态回升，瓜帅准备与他续约，球员有特殊的表现 为曼城效力的斯通斯，在此前的状态并不是...</td>\n",
       "      <td>ll4922_b</td>\n",
       "    </tr>\n",
       "    <tr>\n",
       "      <td>4923</td>\n",
       "      <td>亚运冠军班底，争创亚洲一流 广东首个三人篮球俱乐部成立 广州日报全媒体记者黄维 广东三人篮球...</td>\n",
       "      <td>1月15日，中国篮协公布了最新一期的伤病名单，山东男篮丁彦雨航恢复又有进展，与上次三周后康...</td>\n",
       "      <td>ll4923_b</td>\n",
       "    </tr>\n",
       "    <tr>\n",
       "      <td>4924</td>\n",
       "      <td>李菲儿是“小辣椒”姐姐？  自从《乘风破浪的姐姐2》第二季节目播出之后，其实网上就有了很多...</td>\n",
       "      <td>李菲儿张馨予训练起争执 《乘风破浪的姐姐》这档节目在近期还是非常火爆，因为各位姐姐在经过初舞...</td>\n",
       "      <td>ll4924_b</td>\n",
       "    </tr>\n",
       "    <tr>\n",
       "      <td>4925</td>\n",
       "      <td>央广网成都2月2日消息（记者贾宜超）2月1日，四川泸沽湖景区发布恢复对外开放的公告：从202...</td>\n",
       "      <td>近日，国家自然资源部发布《关于2020年度国家级开发区土地集约利用监测统计情况的通报》，掌握...</td>\n",
       "      <td>ll4925_b</td>\n",
       "    </tr>\n",
       "    <tr>\n",
       "      <td>4926</td>\n",
       "      <td>阿富汗军方捣毁塔利班“监狱”并解救34人 新华社喀布尔3月3日电(记者史先涛)阿富汗国防部3...</td>\n",
       "      <td>3月6日，据巴基斯坦三军公共关系部消息，安全部队在巴基斯坦西北部的北瓦济里斯坦部落地区，进行...</td>\n",
       "      <td>ll4926_b</td>\n",
       "    </tr>\n",
       "    <tr>\n",
       "      <td>4927</td>\n",
       "      <td>来源:梅州民生820、兴宁天气 昨天，咱们终于盼来了春雨。 昨天白天，我市出现了小到中雨局部...</td>\n",
       "      <td>今天早上 有多少人和南婉儿一样 到办公室后默默打开了“小太阳” 烘被大雨淋湿的裤子  话说早...</td>\n",
       "      <td>ll4927_b</td>\n",
       "    </tr>\n",
       "    <tr>\n",
       "      <td>4928</td>\n",
       "      <td>章子怡主演的古装权谋剧《上阳赋》上档后就引起热议，章子怡以「电影影后」之姿走下神坛演电视剧，...</td>\n",
       "      <td>《上阳赋》开播，章子怡饰演了十五岁的女主角阿妩，在观众眼里，原本可可爱爱蹦蹦跳跳在皇舅舅膝下...</td>\n",
       "      <td>ll4928_b</td>\n",
       "    </tr>\n",
       "    <tr>\n",
       "      <td>4929</td>\n",
       "      <td>一起火灾 3名花季少女失去了生命 三个家庭在大火中破碎 分析背后的原因 令人震惊.........</td>\n",
       "      <td>进入三月，冷暖空气活动的更为频繁，降雨会逐渐增多增强。这几天淅淅沥沥的雨水开始在我市铺展开...</td>\n",
       "      <td>ll4929_b</td>\n",
       "    </tr>\n",
       "    <tr>\n",
       "      <td>4930</td>\n",
       "      <td>NBA常规赛，篮网111-122不敌活塞，惨遭3连败。此役杜兰特虽然缺阵，但欧文复出。可惜篮...</td>\n",
       "      <td>体育新鲜说观点：只做有深度的体育资讯！本轮对阵活塞队，本应该是篮网队的必胜之战，为何？活...</td>\n",
       "      <td>ll4930_b</td>\n",
       "    </tr>\n",
       "    <tr>\n",
       "      <td>4931</td>\n",
       "      <td>在今年新年一过，御风公会OW七夜哥就给粉丝们宣布了一件事，前YY主播“流氓三金”将会重回YY...</td>\n",
       "      <td>御风公会主播赵小磊“携程”停播的事情，想必YY的粉丝们早就已经见怪不怪了。赵小磊的开播频率算...</td>\n",
       "      <td>ll4931_b</td>\n",
       "    </tr>\n",
       "    <tr>\n",
       "      <td>4932</td>\n",
       "      <td>一根蜡烛头，烧毁一家店，害了七条命。禹城市蛋糕房（2.16）火灾，以血的教训，敲响了警钟。当...</td>\n",
       "      <td>2月26日1时31分， 方冲小区发生火灾，母女被困， 119指挥中心接警后迅速调派 汇东路消...</td>\n",
       "      <td>ll4932_b</td>\n",
       "    </tr>\n",
       "    <tr>\n",
       "      <td>4933</td>\n",
       "      <td>日前，根据国内媒体透露，恒大中场球员唐诗正在梅州客家试训。从这个消息来分析，唐诗就成为了恒大...</td>\n",
       "      <td>中超今天终于迎来了新赛季第1个重磅引援的官宣，这就是上赛季的韩国K联赛MVP以及韩国现役国脚...</td>\n",
       "      <td>ll4933_b</td>\n",
       "    </tr>\n",
       "    <tr>\n",
       "      <td>4934</td>\n",
       "      <td>非遗棕编、新津绳编、成都漆器......奋战三十天，春节不打烊，就卖成都货。2月27日凌晨0...</td>\n",
       "      <td>海南日报五指山2月28日电（记者谢凯特约记者刘钊）海南日报记者2月28日从五指山市委人才工作...</td>\n",
       "      <td>ll4934_b</td>\n",
       "    </tr>\n",
       "    <tr>\n",
       "      <td>4935</td>\n",
       "      <td>对于喜欢看LPL比赛的小伙伴来说，说起IG战队相信大家都会想到上单Theshy。作为LPL...</td>\n",
       "      <td>相信大家已经看见了今天王者荣耀更新，但是其中的英雄调整相比大家一定还没有来得及去看，所以这里...</td>\n",
       "      <td>ll4935_b</td>\n",
       "    </tr>\n",
       "    <tr>\n",
       "      <td>4936</td>\n",
       "      <td>一部《你好·李焕英》火了导演贾玲，更火了贾玲她妈--张小斐。凭借一部春节档温情2d无特效电影...</td>\n",
       "      <td>每天耕耘最有趣、最实用的心理学   春节档上映以来，电影《你好，李焕英》成为了最大的黑马...</td>\n",
       "      <td>ll4936_b</td>\n",
       "    </tr>\n",
       "    <tr>\n",
       "      <td>4937</td>\n",
       "      <td>认可张康阳所做的一切意球迷INS喊话：不要走 今天凌晨的意大利国家德比中，凭借比达尔和巴雷拉...</td>\n",
       "      <td>本赛季的英超打到现在19轮，如果有人说哪一支球队最终必定获得冠军的话，那这家伙肯定是在睡觉...</td>\n",
       "      <td>ll4937_b</td>\n",
       "    </tr>\n",
       "    <tr>\n",
       "      <td>4938</td>\n",
       "      <td>新华社西安2月5日电（记者邵瑞）开着汽车走在山水相伴的高速路上，退休不久的陕西安康人吕凤军回...</td>\n",
       "      <td>每经AI快讯，西部矿业（SH601168，收盘价：12.09元）2月5日晚间发布公告称，因公...</td>\n",
       "      <td>ll4938_b</td>\n",
       "    </tr>\n",
       "    <tr>\n",
       "      <td>4939</td>\n",
       "      <td>▼  shi 侍 shen 神 ling 令 改编自网易大热游戏《阴阳师》 主演：陈坤周迅陈...</td>\n",
       "      <td>由李蔚然执导，陈坤、周迅等主演的春节档奇幻大片《侍神令》正在公映，4天取得了1.82亿元的票...</td>\n",
       "      <td>ll4939_b</td>\n",
       "    </tr>\n",
       "    <tr>\n",
       "      <td>4940</td>\n",
       "      <td>2月28日，在某大型时尚活动现场，黄晓明跟Angelababy两人时隔几个月首次同台现身了。...</td>\n",
       "      <td>微博之夜举行前夕，就有媒体爆料称，在官宣图上同时出现了黄晓明与angelababy，这两人将...</td>\n",
       "      <td>ll4940_b</td>\n",
       "    </tr>\n",
       "    <tr>\n",
       "      <td>4941</td>\n",
       "      <td>1月19日，CBA常规赛迎来一场焦点比赛广东男篮迎战吉林男篮，此役之前广东队排名第二，而吉林...</td>\n",
       "      <td>市场星报、安徽财经网(www.ahcaijing.com)、掌中安徽讯(记者江锐)2020中...</td>\n",
       "      <td>ll4941_b</td>\n",
       "    </tr>\n",
       "    <tr>\n",
       "      <td>4942</td>\n",
       "      <td>今日（3月1日）起，由北京市第十五届人民代表大会第四次会议通过的《北京历史文化名城保护条例》...</td>\n",
       "      <td>@腾讯公司今天通过微博表示： 最近……戒烟了［悠闲］ 在这条微博配图的表情里 本来是个抽雪茄...</td>\n",
       "      <td>ll4942_b</td>\n",
       "    </tr>\n",
       "    <tr>\n",
       "      <td>4943</td>\n",
       "      <td>都说人要找到自己的定定位才会有所突破，这两年的金晨可以说是非常的大红大紫。尤其前不久被邀请参...</td>\n",
       "      <td>对于艺人的跨界来讲，估计有很多人都保持着不一样的态度，尤其是对于一些不知天高地厚就想闯出名堂...</td>\n",
       "      <td>ll4943_b</td>\n",
       "    </tr>\n",
       "    <tr>\n",
       "      <td>4944</td>\n",
       "      <td>北京时间3月3日结束的一场焦点之战中，辽宁本钢94-114不敌浙江广厦，本场比赛从一开始辽宁...</td>\n",
       "      <td>. 辽宁队在上一场比赛当中意外以20分的巨大分差输给广厦，这使得辽宁队一度被推上了风口浪尖。...</td>\n",
       "      <td>ll4944_b</td>\n",
       "    </tr>\n",
       "    <tr>\n",
       "      <td>4945</td>\n",
       "      <td>原标题：英国警察局过去十年关闭一半，有的城市已无警察局！ [环球时报记者张婷鸽]据《每日邮...</td>\n",
       "      <td>中国日报网3月2日电据英国广播公司（BBC)报道，英国财政大臣里希·苏纳克(RishiSun...</td>\n",
       "      <td>ll4945_b</td>\n",
       "    </tr>\n",
       "    <tr>\n",
       "      <td>4946</td>\n",
       "      <td>本报讯（海河传媒体育中心记者王梓）在新赛季中超联赛开赛日期确定后，国足的集训日程安排也有了大...</td>\n",
       "      <td>近日，上海媒体《上观》报道，申花和海港外，中超球队集训为何独爱上海滩？ 文中介绍了目前有多家...</td>\n",
       "      <td>ll4946_b</td>\n",
       "    </tr>\n",
       "    <tr>\n",
       "      <td>4947</td>\n",
       "      <td>微友们大家好！ 3月1日，星期一，《监督热线》栏目 将邀请周口市卫生健康委员会做客直播室， ...</td>\n",
       "      <td>郑州电台特别策划“郑州人的元宵节” 五套频率融媒体直播，全媒体呈现 在线几万网友，一起闹元宵...</td>\n",
       "      <td>ll4947_b</td>\n",
       "    </tr>\n",
       "    <tr>\n",
       "      <td>4948</td>\n",
       "      <td>1月25日重点赛事推荐 周一002西甲 毕尔巴鄂竞技VS赫塔费 比赛时间：2020-01-2...</td>\n",
       "      <td>北京时间1月26日，西甲第20轮的一场比赛，毕尔巴鄂竞技对阵赫塔菲。赛前的时候，毕尔巴鄂竞技...</td>\n",
       "      <td>ll4948_b</td>\n",
       "    </tr>\n",
       "    <tr>\n",
       "      <td>4949</td>\n",
       "      <td>体育产业生态圈www.ecosports.cn  「我们是冠军！」 终场哨声响起，上海交通大...</td>\n",
       "      <td>林书豪-李群篮球联盟是由中国篮球名宿李群与NBA华人球星林书豪联合创办，是中国首家标准化篮球...</td>\n",
       "      <td>ll4949_b</td>\n",
       "    </tr>\n",
       "    <tr>\n",
       "      <td>4950</td>\n",
       "      <td>中新网西安2月2日电(记者阿琳娜)记者2日从陕西省公安厅获悉，全省公安机关部署开展了“查隐患...</td>\n",
       "      <td>总台央广记者韩民权通讯员曾鹏文、姚强强报道：1月26日上午，位于海拔3300米、零下5度的四...</td>\n",
       "      <td>ll4950_b</td>\n",
       "    </tr>\n",
       "    <tr>\n",
       "      <td>4951</td>\n",
       "      <td>1月17日，南宁市新型冠状病毒肺炎疫情防控工作领导小组指挥部召开新闻发布会通报相关情况。曾...</td>\n",
       "      <td>【排查密切接触者3.2万人】记者从沈阳市新型冠状病毒肺炎疫情防控工作第二十三场新闻发布会获悉...</td>\n",
       "      <td>ll4951_b</td>\n",
       "    </tr>\n",
       "    <tr>\n",
       "      <td>4952</td>\n",
       "      <td>85花表面一团和气，实则已经被划分为5大梯队，孰优孰劣很明显  85花一团和气共进退，只是不...</td>\n",
       "      <td>2月28日，微博之夜盛典现场，杨幂、唐嫣、angelababy、倪妮、佟丽娅、张雨绮被要求拿...</td>\n",
       "      <td>ll4952_b</td>\n",
       "    </tr>\n",
       "    <tr>\n",
       "      <td>4953</td>\n",
       "      <td>西班牙人跌入西乙之后完成了触底反弹，彻底摆脱了上赛季一胜难求的糟糕状态，本赛季西乙联赛20轮...</td>\n",
       "      <td>上周末，西班牙人在主场轻松拿下比赛胜利，再加上马略卡意外输球，使得西班牙人继续领跑积分榜的同...</td>\n",
       "      <td>ll4953_b</td>\n",
       "    </tr>\n",
       "    <tr>\n",
       "      <td>4954</td>\n",
       "      <td>这可能是布雷迪生涯 最贵的一传 在坦帕湾海盗的夺冠庆祝游船活动中，汤姆-布雷迪将隆巴迪杯抛给...</td>\n",
       "      <td>3月6日下午，青岛海牛队与中甲南通支云队进行了第二场热身赛，经过三节比赛，两队最终战成0:0...</td>\n",
       "      <td>ll4954_b</td>\n",
       "    </tr>\n",
       "    <tr>\n",
       "      <td>4955</td>\n",
       "      <td>UFC中国讯目前官方排名雏量级第2位的科里-桑德哈根(CorySandhagen)希望通过...</td>\n",
       "      <td>CBA的这场焦点大战，广东打辽宁的比赛，比赛打得真的是太好看太精彩太刺激了，代表了现在中国男...</td>\n",
       "      <td>ll4955_b</td>\n",
       "    </tr>\n",
       "    <tr>\n",
       "      <td>4956</td>\n",
       "      <td>北京时间1月31日黄蜂主场对阵雄鹿，最终黄蜂以126-114成功击败了雄鹿。上场比赛雄鹿就...</td>\n",
       "      <td>北京时间2月3日爵士主场对阵活塞，最终爵士以117-105成功击败了活塞。上场爵士输给掘金...</td>\n",
       "      <td>ll4956_b</td>\n",
       "    </tr>\n",
       "    <tr>\n",
       "      <td>4957</td>\n",
       "      <td>联赛：欧罗巴 比赛队伍：莱切斯特城vs布拉格斯拉维亚 比赛时间：02-2604:00  主队...</td>\n",
       "      <td>流浪者：首回合在客场流浪绝杀对手，占得先机，本场回到主场，压力不大，状态非常好。 安特卫普：...</td>\n",
       "      <td>ll4957_b</td>\n",
       "    </tr>\n",
       "    <tr>\n",
       "      <td>4958</td>\n",
       "      <td>摘要：等了好久的《赘婿》更新！ 集集有金句，处处有逆袭的《赘婿》看得好爽！吃着皮蛋，看宁...</td>\n",
       "      <td>《赘婿》成为2021年所播平台首部热度破万剧集！ 也是该平台史上热度最快破万剧集！  鉴于该...</td>\n",
       "      <td>ll4958_b</td>\n",
       "    </tr>\n",
       "    <tr>\n",
       "      <td>4959</td>\n",
       "      <td>卡戴珊结束与侃爷7年婚姻，仅仅是因为出轨小三吗？  文|黑曼巴     其实金卡戴珊与侃爷...</td>\n",
       "      <td>张艺谋一生的痛：奥运彩排时，她从高空坠落致终身残疾，如今怎样  古语有云：“天行健，君子以...</td>\n",
       "      <td>ll4959_b</td>\n",
       "    </tr>\n",
       "    <tr>\n",
       "      <td>4960</td>\n",
       "      <td>不管你愿不愿意，这次延迟退休真的要来了，而且可以说是板上钉钉的事了！ 近日人社部副部长游钧...</td>\n",
       "      <td>据《环球网》报道，我国关于退休职员法定年龄为男性60岁，女性工人50岁，女性干部55岁。但随...</td>\n",
       "      <td>ll4960_b</td>\n",
       "    </tr>\n",
       "    <tr>\n",
       "      <td>4961</td>\n",
       "      <td>105名农民工过了个安心年 郑某等105名农民工这个春节过得踏实又幸福。因为在内蒙古科右中旗...</td>\n",
       "      <td>中新社合肥2月20日电(记者吴兰)中国各省市陆续发布的2020年GDP数据显示，合肥、南通、...</td>\n",
       "      <td>ll4961_b</td>\n",
       "    </tr>\n",
       "    <tr>\n",
       "      <td>4962</td>\n",
       "      <td>国际在线报道（记者郝妍）：一年一度的两会是世界观察中国的重要窗口。连日来，意大利各大主流媒体...</td>\n",
       "      <td>央视网消息：《政府工作报告》还提出，今年的居民消费价格涨幅是3%左右，同时还提出居民收入稳步...</td>\n",
       "      <td>ll4962_b</td>\n",
       "    </tr>\n",
       "    <tr>\n",
       "      <td>4963</td>\n",
       "      <td>“感觉自己就是要当警察，这份职业相当神圣，一定要做好……”父亲在禁毒一线倒在毒贩的手榴弹下，...</td>\n",
       "      <td>深圳的人才引进政策带来了一批又一批的年轻人才，不知道有多少人是因为深圳的补贴落了深户的，在落...</td>\n",
       "      <td>ll4963_b</td>\n",
       "    </tr>\n",
       "    <tr>\n",
       "      <td>4964</td>\n",
       "      <td>追踪｜上游新闻关注后恒山西路上倾斜的路灯杆已扶正 2月3日，上游新闻以《“这里有一根要倒不倒...</td>\n",
       "      <td>3月1日，上游新闻·重庆晨报记者从重庆大学附属肿瘤医院获悉，从3月1日起，恶性肿瘤特殊疾病线...</td>\n",
       "      <td>ll4964_b</td>\n",
       "    </tr>\n",
       "    <tr>\n",
       "      <td>4965</td>\n",
       "      <td>北京时间3月3日，快船客场挑战凯尔特人。最近快船的状态起伏很大，对阵雄鹿的比赛，他们三分球4...</td>\n",
       "      <td>北京时间3月3日，2020-21赛季NBA常规赛继续进行，波士顿凯尔特人队在主场迎战洛杉矶快...</td>\n",
       "      <td>ll4965_b</td>\n",
       "    </tr>\n",
       "    <tr>\n",
       "      <td>4966</td>\n",
       "      <td>新华社武汉2月4日消息，黑乎乎的废油蜿蜒、弥漫，玷污了原本整洁、葱茏的绿化带，一些沾染了油污...</td>\n",
       "      <td>新华社武汉2月4日电题：一标准桶废矿物油能污染近3.5平方公里水面——“地下毒油”去哪了？ ...</td>\n",
       "      <td>ll4966_b</td>\n",
       "    </tr>\n",
       "    <tr>\n",
       "      <td>4967</td>\n",
       "      <td>一转眼，就到了月底。这也是娱乐圈极其不平静的一个月，经历过杨颖李菲儿，经历过郑爽张恒，还有华...</td>\n",
       "      <td>最近这段时间，娱乐圈实在是太热闹了，先有郑爽与前男友张恒代孕生子被曝光，再有张碧晨偷偷生了华...</td>\n",
       "      <td>ll4967_b</td>\n",
       "    </tr>\n",
       "    <tr>\n",
       "      <td>4968</td>\n",
       "      <td>苦瓜原创，翻版必究！ 《苦瓜电竞》--让你体验不一样的电竞主播圈！  提到主播圈中转型最成功...</td>\n",
       "      <td>华语金曲奖是娱乐圈非常受人关注的一个盛典，但是今年由于疫情原因，各大颁奖典礼大多取消了线下颁...</td>\n",
       "      <td>ll4968_b</td>\n",
       "    </tr>\n",
       "    <tr>\n",
       "      <td>4969</td>\n",
       "      <td>★星标★  作者：李月亮猛犸姑娘 来源：李月亮（ID:bymooneye） 李湘最近被房东曝...</td>\n",
       "      <td>作者：李月亮 来源公号：李月亮（ID:bymooneye） 李湘最近被房东曝光了，一件小事...</td>\n",
       "      <td>ll4969_b</td>\n",
       "    </tr>\n",
       "    <tr>\n",
       "      <td>4970</td>\n",
       "      <td>北京时间1月17日15:00，2021年女足冬训邀请赛小组赛第四轮，A组的一场决定小组排名走...</td>\n",
       "      <td>1 意杯-伊布进球染红国米97分钟绝杀2-1逆转AC米兰  北京时间1月27日3时45分（意...</td>\n",
       "      <td>ll4970_b</td>\n",
       "    </tr>\n",
       "    <tr>\n",
       "      <td>4971</td>\n",
       "      <td>不知不觉，2021年已经进入三月份。今年的很多综艺节目，已经相继开播，例如《乘风破浪的姐姐》...</td>\n",
       "      <td>作为曾经火爆全国的一档综艺节目，跑男总是备受关注的。即使现在跑男的收视率和关注度都有所下降，...</td>\n",
       "      <td>ll4971_b</td>\n",
       "    </tr>\n",
       "    <tr>\n",
       "      <td>4972</td>\n",
       "      <td>中央广播电视总台推出的大型专题片《摆脱贫困》全景呈现了以习近平同志为核心的党中央带领全国各族...</td>\n",
       "      <td>新华社北京3月1日电（记者成欣、黄爱萍）新任联合国驻华协调员常启德1日在接受新华社记者专访时...</td>\n",
       "      <td>ll4972_b</td>\n",
       "    </tr>\n",
       "    <tr>\n",
       "      <td>4973</td>\n",
       "      <td>CBA联盟公布2021年全明星赛南、北区阵容。名单显示，本次全明星正赛入选的外籍球员只有广东...</td>\n",
       "      <td>北京时间3月5日，CBA联赛公司公布了全明星星锐赛大名单，本次大名单毫无意外联赛七新星集体亮...</td>\n",
       "      <td>ll4973_b</td>\n",
       "    </tr>\n",
       "    <tr>\n",
       "      <td>4974</td>\n",
       "      <td>当地时间13日下午，美国国会众议院以232票赞成，197票反对通过了针对美国总统特朗普弹劾案...</td>\n",
       "      <td>新华社华盛顿1月13日电（记者徐剑梅邓仙来）美国国会众议院13日表决通过针对总统特朗普的弹劾...</td>\n",
       "      <td>ll4974_b</td>\n",
       "    </tr>\n",
       "    <tr>\n",
       "      <td>4975</td>\n",
       "      <td>今天是2020年的最后一天了 想象过无数种这最后一天的过法 但绝对没有想象到2020道歉日...</td>\n",
       "      <td>文\\宋晓峰责编\\黄小明  提要：一直以来，无论在镜头前还是在社交媒体，于正和郭敬明都属于非常...</td>\n",
       "      <td>ll4975_b</td>\n",
       "    </tr>\n",
       "    <tr>\n",
       "      <td>4976</td>\n",
       "      <td>邱礼涛这位执导过童年噩梦《八仙饭店之人肉叉烧包》的恐怖导演，自从和刘德华在《扫毒2天地对...</td>\n",
       "      <td>有没有发现？从你第一次听到《你好，李焕英》这个名字，它仿佛就长在了你的耳边： 综艺节目里有它...</td>\n",
       "      <td>ll4976_b</td>\n",
       "    </tr>\n",
       "    <tr>\n",
       "      <td>4977</td>\n",
       "      <td>最新上线的《王牌对王牌》这一期节目中，导演组和制片方真的是大玩特玩情结梗，以及亲情梗。按照这...</td>\n",
       "      <td>据报道郑爽在国内走途无路之际，决定前往韩国发展，事情是真的吗？ 郑爽因为代孕事件，人设崩塌已...</td>\n",
       "      <td>ll4977_b</td>\n",
       "    </tr>\n",
       "    <tr>\n",
       "      <td>4978</td>\n",
       "      <td>本报讯（民族时报实习记者马新焕）2月10日，记者从云南省交通运输厅（简称“云南省交通厅”）了...</td>\n",
       "      <td>如今，智能手机极大方便了人们的日常生活，那么，老年人该如何搭上这趟时代列车？记者从天津市发改...</td>\n",
       "      <td>ll4978_b</td>\n",
       "    </tr>\n",
       "    <tr>\n",
       "      <td>4979</td>\n",
       "      <td>很多人都说，没有深度的电影，容易让人忘怀。但是用27天就拍完的《东成西就》，你要说它有什么内...</td>\n",
       "      <td>“Beyond”是上世纪八九十年代相当火的摇滚乐队，由黄家驹、黄贯中、黄家强和叶世荣死人组成...</td>\n",
       "      <td>ll4979_b</td>\n",
       "    </tr>\n",
       "    <tr>\n",
       "      <td>4980</td>\n",
       "      <td>为落实北京新冠肺炎疫情防控工作领导小组关于做好春节期间疫情防控工作的要求，进一步发挥本市各级...</td>\n",
       "      <td>为落实北京新冠肺炎疫情防控工作领导小组关于做好春节期间疫情防控工作的要求，进一步发挥本市各级...</td>\n",
       "      <td>ll4980_b</td>\n",
       "    </tr>\n",
       "    <tr>\n",
       "      <td>4981</td>\n",
       "      <td>人民网东京2月21日电据日本《每日新闻》报道，由于前日本奥运担当大臣桥本圣子就任东京奥组委主...</td>\n",
       "      <td>新华社东京2月24日电（记者王子江）新任东京奥组委主席桥本圣子24日通过视频向国际奥委会执委...</td>\n",
       "      <td>ll4981_b</td>\n",
       "    </tr>\n",
       "    <tr>\n",
       "      <td>4982</td>\n",
       "      <td>香港艺人吴孟达于昨日（27日）因肝癌恶化而死亡。68岁。与吴孟达合作过的演员都纷纷发文追悼，...</td>\n",
       "      <td>昨天，一个在影视界影响了几代人.给无数人带来欢乐的著名演员吴孟达永远地离开了我们。任达华、刘...</td>\n",
       "      <td>ll4982_b</td>\n",
       "    </tr>\n",
       "    <tr>\n",
       "      <td>4983</td>\n",
       "      <td>花煜寒|文 电视剧《有翡》在谢允和周翡相拥中落幕，淡然归隐的生活，简简单单中洋溢着幸福。 这...</td>\n",
       "      <td>由赵丽颖、王一博主演的《有翡》剧情已经接近尾声，阿翡将所有海天一色的信物集齐带着谢允一路撒着...</td>\n",
       "      <td>ll4983_b</td>\n",
       "    </tr>\n",
       "    <tr>\n",
       "      <td>4984</td>\n",
       "      <td>湖人队住家战士逆转，勒布朗赛后抱怨裁判关键时刻没有吹战士前锋绿色步行，今天的裁判报告显示勒布...</td>\n",
       "      <td>昨天进行的一场NBA常规赛的比赛，太阳对阵的掘金的比赛，本场比赛两队也是经历了双加时赛的比拼...</td>\n",
       "      <td>ll4984_b</td>\n",
       "    </tr>\n",
       "    <tr>\n",
       "      <td>4985</td>\n",
       "      <td>春节越来越近了，大家最近这几天是不是人在工作岗位上，心早已不在了，不知道有没有单位在春节期间...</td>\n",
       "      <td>盼星星盼月亮， 马上就要过年啦~ 是不是超期待？ 快来一起看看—— 春节放假那些事儿 202...</td>\n",
       "      <td>ll4985_b</td>\n",
       "    </tr>\n",
       "    <tr>\n",
       "      <td>4986</td>\n",
       "      <td>华纳称调查并未发现欺压行为钢骨演员：将坚持到底 华纳媒体提供了关于钢骨演员雷费舍调查的最新消...</td>\n",
       "      <td>太恶臭了！韩国女爱豆被偷拍，10美元就能买一张裸露换衣照？ 偷拍事件何时了？ 近日，在韩国各...</td>\n",
       "      <td>ll4986_b</td>\n",
       "    </tr>\n",
       "    <tr>\n",
       "      <td>4987</td>\n",
       "      <td>拍完城市的旧照片，再见福州的庚子年|城市切片计划  经过一周的征集，这是我们和读者共同完成的...</td>\n",
       "      <td>约9k字。放飞自我之作。 晚场 刺杀王先生 K是在雨声和一个女人怀中醒来的。这不正常，他想...</td>\n",
       "      <td>ll4987_b</td>\n",
       "    </tr>\n",
       "    <tr>\n",
       "      <td>4988</td>\n",
       "      <td>美国南部多地连日来遭遇罕见低温和暴雪，停水断电，机场关闭，新冠疫苗运输和接种受影响，甚至一些...</td>\n",
       "      <td>当地时间19日，美国南部得克萨斯州电力可靠性委员会宣布，解除该州“电力紧急状态三级警报”，各...</td>\n",
       "      <td>ll4988_b</td>\n",
       "    </tr>\n",
       "    <tr>\n",
       "      <td>4989</td>\n",
       "      <td>来源：平度V视综合自大众报业·海报新闻、大众网平度 近日，住建部发布了 2019年城市建设统...</td>\n",
       "      <td>近日，住房和城乡建设部（住建部）发布了最新的城市建设统计年鉴，根据报告，全国有6个城市城区人...</td>\n",
       "      <td>ll4989_b</td>\n",
       "    </tr>\n",
       "    <tr>\n",
       "      <td>4990</td>\n",
       "      <td>肖战进入影视圈的时间很早，早在X玖少年团还不红的时候，就已经拍摄了一部非常有趣的影视作品，...</td>\n",
       "      <td>王一博虽已出道多年，但才在近几年引起了大众的。《陪你到世界之巅》、《陈情令》和《有翡》的相继...</td>\n",
       "      <td>ll4990_b</td>\n",
       "    </tr>\n",
       "    <tr>\n",
       "      <td>4991</td>\n",
       "      <td>《你好李焕英》可能要弯道超车？预计票房直追《战狼2》 春节档不愧是电影票房必争之地，因为今年...</td>\n",
       "      <td>截至到目前为止，由贾玲导演的《你好，李焕英》票房已经超过了40亿，原本稳坐春节档票房冠军的《...</td>\n",
       "      <td>ll4991_b</td>\n",
       "    </tr>\n",
       "    <tr>\n",
       "      <td>4992</td>\n",
       "      <td>要说NBA最近的头号球队是谁，那必是见谁虐谁的篮网了。 虽说杜兰特伤病在身，仅剩新版的二弟三...</td>\n",
       "      <td>佛山这个“宝藏灯地”藏不住了！ 狮山罗村孝德文化溯源、乐安花灯技艺展示、 生仔石传说、咏春拳...</td>\n",
       "      <td>ll4992_b</td>\n",
       "    </tr>\n",
       "    <tr>\n",
       "      <td>4993</td>\n",
       "      <td>米卢：在多哈等着你带领中国队进世界杯！武磊直播连线他交流经验 2月10号，世界名帅米卢在多哈...</td>\n",
       "      <td>英国伦敦，乔希-马亚租借加盟富勒姆，拍摄新球队写真。富勒姆足球俱乐部（FulhamF.C.）...</td>\n",
       "      <td>ll4993_b</td>\n",
       "    </tr>\n",
       "    <tr>\n",
       "      <td>4994</td>\n",
       "      <td>轻松关注/自动接收每日影讯和新片预告 继曼谷、纽约之后，东京再出大案。唐人街神探唐仁（王宝强...</td>\n",
       "      <td>温馨提示： 出门前请记得佩戴好口罩哦！ 观影需全程佩戴口罩! 电影《唐人街探案3》2021年...</td>\n",
       "      <td>ll4994_b</td>\n",
       "    </tr>\n",
       "    <tr>\n",
       "      <td>4995</td>\n",
       "      <td>据新华社香港电香港特区2021年法律年度开启典礼1月11日在终审法院举行。当日履新的香港特区...</td>\n",
       "      <td>美禁输美货品标“香港制造”，港府要求世贸成立专家组审理争端。 美国政府此前曾发布公告称，香港...</td>\n",
       "      <td>ll4995_b</td>\n",
       "    </tr>\n",
       "    <tr>\n",
       "      <td>4996</td>\n",
       "      <td>“一切都很新鲜，像是进入了游乐场一样。创作电影的过程是好玩的，如果我带着强烈的目的性去做这件...</td>\n",
       "      <td>前段时间，由赵薇牵头发起并参与导演的一部电视剧《听见她说》，引起了广泛热议。 这部剧分别塑...</td>\n",
       "      <td>ll4996_b</td>\n",
       "    </tr>\n",
       "    <tr>\n",
       "      <td>4997</td>\n",
       "      <td>近日，河北保定 一位爸爸为10岁儿子 用玩具拍的“大片”火了 爸爸对儿子的用心和爱 让不少网...</td>\n",
       "      <td>近日，河北保定 一位爸爸为10岁儿子 用玩具拍的“大片”火了 爸爸对儿子的用心和爱 让不少网...</td>\n",
       "      <td>ll4997_b</td>\n",
       "    </tr>\n",
       "    <tr>\n",
       "      <td>4998</td>\n",
       "      <td>“血吊坠”背后连着的，是“带血”的产业链。  ▲媒体报道截图。 “用刀片划开手腕皮肤，挤压出...</td>\n",
       "      <td>“血吊坠”背后连着的，是“带血”的产业链。  ▲媒体报道截图。 “用刀片划开手腕皮肤，挤压出...</td>\n",
       "      <td>ll4998_b</td>\n",
       "    </tr>\n",
       "    <tr>\n",
       "      <td>4999</td>\n",
       "      <td>北京时间2021年2月21日22:00，2020-21赛季意甲第23轮迎来焦点战，AC米兰主...</td>\n",
       "      <td>在意甲联赛第23轮的比赛中，红黑军团AC米兰队的对手是国际米兰，两队在圣西罗球场上进行了一场...</td>\n",
       "      <td>ll4999_b</td>\n",
       "    </tr>\n",
       "    <tr>\n",
       "      <td>5000</td>\n",
       "      <td>皇马依靠门迪（右）的远射艰难拿下胜利。 一张红牌，让皇马在自己的欧冠淘汰赛百场里程碑带着了...</td>\n",
       "      <td>2020-2021赛季欧冠1/8决赛首回合已结束前6场的较量，此前出战的三支西甲球队无一取...</td>\n",
       "      <td>ll5000_b</td>\n",
       "    </tr>\n",
       "    <tr>\n",
       "      <td>5001</td>\n",
       "      <td>画中唐明皇带着杨贵妃和一行随从准备出游，李隆基已经上马，他回过头等待着他的爱妃，只见贵妃在...</td>\n",
       "      <td>北京时间1月25日，火箭队连胜活塞、独行侠队之后，接下来会迎来2天的休息时间。由于本赛季赛程...</td>\n",
       "      <td>ll5001_b</td>\n",
       "    </tr>\n",
       "    <tr>\n",
       "      <td>5002</td>\n",
       "      <td>升级版限薪令新政出台，中超近10年的“金元足球”退潮 新政之下中超酝酿“洗牌” 本报记者李元...</td>\n",
       "      <td>随着新赛季冬季转会窗口的开启，各支中超球队对于新赛季的引援也踌躇满志。相信对于很多球迷朋友们...</td>\n",
       "      <td>ll5002_b</td>\n",
       "    </tr>\n",
       "    <tr>\n",
       "      <td>5003</td>\n",
       "      <td>由肖战、吴宣仪主演的电视剧《斗罗大陆》从播出就显露了不俗的品质，这也是国产剧少有的奇幻类型，...</td>\n",
       "      <td>近日，肖战的好消息频频传来，不仅新剧《斗罗大陆》在央视开播，得到了各方面的关注，另外，肖战又...</td>\n",
       "      <td>ll5003_b</td>\n",
       "    </tr>\n",
       "    <tr>\n",
       "      <td>5004</td>\n",
       "      <td>第一财经 作者：林小昭 15城的城区人口全部超过了300万大关，有10个城市城区人口超过50...</td>\n",
       "      <td>第一财经 作者：林小昭 15城的城区人口全部超过了300万大关，有10个城市城区人口超过50...</td>\n",
       "      <td>ll5004_b</td>\n",
       "    </tr>\n",
       "    <tr>\n",
       "      <td>5005</td>\n",
       "      <td>郑秀文1972年出生在香港，是上世纪90年代人们的回忆，当时在香港是具有代表性的一位女歌手，...</td>\n",
       "      <td>就一眼爱变成了一种天赋 不自觉能和你笑抱你哭 我为你有了旅途 不管离天涯几步 我都不在乎 这...</td>\n",
       "      <td>ll5005_b</td>\n",
       "    </tr>\n",
       "    <tr>\n",
       "      <td>5006</td>\n",
       "      <td>本季MVP候选人之一的火箭「胡子」JamesHarden（哈登），今天在与国王赛后受访时表示...</td>\n",
       "      <td>威少不在乎MVP新浪体育讯北京时间12月12日，据美媒体报道，本赛季开始以来，雷霆队当家球星...</td>\n",
       "      <td>ll5006_b</td>\n",
       "    </tr>\n",
       "    <tr>\n",
       "      <td>5007</td>\n",
       "      <td>在全球范围内，对新冠病毒的限制正在收紧，这给航运业，尤其是对海员换班带来了新的压力。  随着...</td>\n",
       "      <td>预警！马上杀到阜阳！做好防护！（点击查看）刚刚！成功！市二院医生跪了那么久…（点击查看） 我...</td>\n",
       "      <td>ll5007_b</td>\n",
       "    </tr>\n",
       "    <tr>\n",
       "      <td>5008</td>\n",
       "      <td>苏提达不如诗妮娜那么能屈能伸，在昨天的活动上，苏提达等到了机会可以和泰王一起出席活动，她却控...</td>\n",
       "      <td>在诗妮娜贵妃风光复宠之后，苏提达王后确实变得比之前低调了很多，大家也很少看到她公开现身的画...</td>\n",
       "      <td>ll5008_b</td>\n",
       "    </tr>\n",
       "    <tr>\n",
       "      <td>5009</td>\n",
       "      <td>3月4日，知名艺术家孔宁在社交平台中晒出一组跟倪萍的合照，两人一起画画合影看起来非常亲密，文...</td>\n",
       "      <td>热播中的《青春有你3》受到了极高的度，许多网民都会定时观赏这一部综艺。而就在今日（5日），孙...</td>\n",
       "      <td>ll5009_b</td>\n",
       "    </tr>\n",
       "  </tbody>\n",
       "</table>\n",
       "</div>"
      ],
      "text/plain": [
       "                                                 source  \\\n",
       "4910  2月27日下午17时，香港电影金牌绿叶、演员吴孟达因肝癌在香港离世，享年68岁。详情>> 周...   \n",
       "4911  最喜欢出访的美国国务卿蓬佩奥日前突然取消了可能是他任内的最后一次出访计划，让外界着实吃了一惊...   \n",
       "4912  【来自国新办新闻发布会的报道】 2020年是防范化解金融风险攻坚战的收官之年。银行保险业在金...   \n",
       "4913  为配合各地政府落实疫情防控常态化措施，避免重复购票退票给旅客带来不便，自发售2021年2月1...   \n",
       "4914   皇家马德里在2014年开启了5年4次获得欧冠冠军的白色王朝，瓦拉内和拉莫斯从7年前成为皇马...   \n",
       "4915  来源：央视新闻客户端 2021-02-2415:42 2月24日，陕西渭南澄城出现持续性大范...   \n",
       "4916  每经编辑：杜宇 据“山东教育发布”微信公号2月18日消息，为贯彻落实党中央、国务院《深化新时...   \n",
       "4917  排球女神进日本发展，清纯不再变妖艳网红脸，现今男友是摄影师 众所周知，排球运动中的运动员因为...   \n",
       "4918  “呦！老张，今儿这么帅，去哪儿啊？” “啊？坏？老李，说啥呢？我哪儿坏了？” “不是啊！是帅...   \n",
       "4919  “男人不讨厌她，女人不嫉妒她”，这是沈腾对贾玲的一句非常中肯的评价。  不仅仅是在娱乐圈人缘...   \n",
       "4920  35岁陈伟霆就算了，21岁男爱豆她也叫爸爸！欧阳娜娜在干嘛？  突然的，欧阳娜娜在综艺节目里...   \n",
       "4921  江苏常州通报一境外输入病例详情与此前公布确诊病例为同船船员 2月8日0—24时，江苏新增境外...   \n",
       "4922  拜仁在转会市场上一直表现得比较拘谨，从来都不会采用过高的价格来引进球员。其实从赫内斯时代开始...   \n",
       "4923  亚运冠军班底，争创亚洲一流 广东首个三人篮球俱乐部成立 广州日报全媒体记者黄维 广东三人篮球...   \n",
       "4924   李菲儿是“小辣椒”姐姐？  自从《乘风破浪的姐姐2》第二季节目播出之后，其实网上就有了很多...   \n",
       "4925  央广网成都2月2日消息（记者贾宜超）2月1日，四川泸沽湖景区发布恢复对外开放的公告：从202...   \n",
       "4926  阿富汗军方捣毁塔利班“监狱”并解救34人 新华社喀布尔3月3日电(记者史先涛)阿富汗国防部3...   \n",
       "4927  来源:梅州民生820、兴宁天气 昨天，咱们终于盼来了春雨。 昨天白天，我市出现了小到中雨局部...   \n",
       "4928  章子怡主演的古装权谋剧《上阳赋》上档后就引起热议，章子怡以「电影影后」之姿走下神坛演电视剧，...   \n",
       "4929  一起火灾 3名花季少女失去了生命 三个家庭在大火中破碎 分析背后的原因 令人震惊.........   \n",
       "4930  NBA常规赛，篮网111-122不敌活塞，惨遭3连败。此役杜兰特虽然缺阵，但欧文复出。可惜篮...   \n",
       "4931  在今年新年一过，御风公会OW七夜哥就给粉丝们宣布了一件事，前YY主播“流氓三金”将会重回YY...   \n",
       "4932  一根蜡烛头，烧毁一家店，害了七条命。禹城市蛋糕房（2.16）火灾，以血的教训，敲响了警钟。当...   \n",
       "4933  日前，根据国内媒体透露，恒大中场球员唐诗正在梅州客家试训。从这个消息来分析，唐诗就成为了恒大...   \n",
       "4934  非遗棕编、新津绳编、成都漆器......奋战三十天，春节不打烊，就卖成都货。2月27日凌晨0...   \n",
       "4935   对于喜欢看LPL比赛的小伙伴来说，说起IG战队相信大家都会想到上单Theshy。作为LPL...   \n",
       "4936  一部《你好·李焕英》火了导演贾玲，更火了贾玲她妈--张小斐。凭借一部春节档温情2d无特效电影...   \n",
       "4937  认可张康阳所做的一切意球迷INS喊话：不要走 今天凌晨的意大利国家德比中，凭借比达尔和巴雷拉...   \n",
       "4938  新华社西安2月5日电（记者邵瑞）开着汽车走在山水相伴的高速路上，退休不久的陕西安康人吕凤军回...   \n",
       "4939  ▼  shi 侍 shen 神 ling 令 改编自网易大热游戏《阴阳师》 主演：陈坤周迅陈...   \n",
       "4940  2月28日，在某大型时尚活动现场，黄晓明跟Angelababy两人时隔几个月首次同台现身了。...   \n",
       "4941  1月19日，CBA常规赛迎来一场焦点比赛广东男篮迎战吉林男篮，此役之前广东队排名第二，而吉林...   \n",
       "4942  今日（3月1日）起，由北京市第十五届人民代表大会第四次会议通过的《北京历史文化名城保护条例》...   \n",
       "4943  都说人要找到自己的定定位才会有所突破，这两年的金晨可以说是非常的大红大紫。尤其前不久被邀请参...   \n",
       "4944  北京时间3月3日结束的一场焦点之战中，辽宁本钢94-114不敌浙江广厦，本场比赛从一开始辽宁...   \n",
       "4945   原标题：英国警察局过去十年关闭一半，有的城市已无警察局！ [环球时报记者张婷鸽]据《每日邮...   \n",
       "4946  本报讯（海河传媒体育中心记者王梓）在新赛季中超联赛开赛日期确定后，国足的集训日程安排也有了大...   \n",
       "4947  微友们大家好！ 3月1日，星期一，《监督热线》栏目 将邀请周口市卫生健康委员会做客直播室， ...   \n",
       "4948  1月25日重点赛事推荐 周一002西甲 毕尔巴鄂竞技VS赫塔费 比赛时间：2020-01-2...   \n",
       "4949  体育产业生态圈www.ecosports.cn  「我们是冠军！」 终场哨声响起，上海交通大...   \n",
       "4950  中新网西安2月2日电(记者阿琳娜)记者2日从陕西省公安厅获悉，全省公安机关部署开展了“查隐患...   \n",
       "4951   1月17日，南宁市新型冠状病毒肺炎疫情防控工作领导小组指挥部召开新闻发布会通报相关情况。曾...   \n",
       "4952  85花表面一团和气，实则已经被划分为5大梯队，孰优孰劣很明显  85花一团和气共进退，只是不...   \n",
       "4953  西班牙人跌入西乙之后完成了触底反弹，彻底摆脱了上赛季一胜难求的糟糕状态，本赛季西乙联赛20轮...   \n",
       "4954  这可能是布雷迪生涯 最贵的一传 在坦帕湾海盗的夺冠庆祝游船活动中，汤姆-布雷迪将隆巴迪杯抛给...   \n",
       "4955   UFC中国讯目前官方排名雏量级第2位的科里-桑德哈根(CorySandhagen)希望通过...   \n",
       "4956   北京时间1月31日黄蜂主场对阵雄鹿，最终黄蜂以126-114成功击败了雄鹿。上场比赛雄鹿就...   \n",
       "4957  联赛：欧罗巴 比赛队伍：莱切斯特城vs布拉格斯拉维亚 比赛时间：02-2604:00  主队...   \n",
       "4958    摘要：等了好久的《赘婿》更新！ 集集有金句，处处有逆袭的《赘婿》看得好爽！吃着皮蛋，看宁...   \n",
       "4959   卡戴珊结束与侃爷7年婚姻，仅仅是因为出轨小三吗？  文|黑曼巴     其实金卡戴珊与侃爷...   \n",
       "4960   不管你愿不愿意，这次延迟退休真的要来了，而且可以说是板上钉钉的事了！ 近日人社部副部长游钧...   \n",
       "4961  105名农民工过了个安心年 郑某等105名农民工这个春节过得踏实又幸福。因为在内蒙古科右中旗...   \n",
       "4962  国际在线报道（记者郝妍）：一年一度的两会是世界观察中国的重要窗口。连日来，意大利各大主流媒体...   \n",
       "4963  “感觉自己就是要当警察，这份职业相当神圣，一定要做好……”父亲在禁毒一线倒在毒贩的手榴弹下，...   \n",
       "4964  追踪｜上游新闻关注后恒山西路上倾斜的路灯杆已扶正 2月3日，上游新闻以《“这里有一根要倒不倒...   \n",
       "4965  北京时间3月3日，快船客场挑战凯尔特人。最近快船的状态起伏很大，对阵雄鹿的比赛，他们三分球4...   \n",
       "4966  新华社武汉2月4日消息，黑乎乎的废油蜿蜒、弥漫，玷污了原本整洁、葱茏的绿化带，一些沾染了油污...   \n",
       "4967  一转眼，就到了月底。这也是娱乐圈极其不平静的一个月，经历过杨颖李菲儿，经历过郑爽张恒，还有华...   \n",
       "4968  苦瓜原创，翻版必究！ 《苦瓜电竞》--让你体验不一样的电竞主播圈！  提到主播圈中转型最成功...   \n",
       "4969  ★星标★  作者：李月亮猛犸姑娘 来源：李月亮（ID:bymooneye） 李湘最近被房东曝...   \n",
       "4970  北京时间1月17日15:00，2021年女足冬训邀请赛小组赛第四轮，A组的一场决定小组排名走...   \n",
       "4971  不知不觉，2021年已经进入三月份。今年的很多综艺节目，已经相继开播，例如《乘风破浪的姐姐》...   \n",
       "4972  中央广播电视总台推出的大型专题片《摆脱贫困》全景呈现了以习近平同志为核心的党中央带领全国各族...   \n",
       "4973  CBA联盟公布2021年全明星赛南、北区阵容。名单显示，本次全明星正赛入选的外籍球员只有广东...   \n",
       "4974  当地时间13日下午，美国国会众议院以232票赞成，197票反对通过了针对美国总统特朗普弹劾案...   \n",
       "4975   今天是2020年的最后一天了 想象过无数种这最后一天的过法 但绝对没有想象到2020道歉日...   \n",
       "4976    邱礼涛这位执导过童年噩梦《八仙饭店之人肉叉烧包》的恐怖导演，自从和刘德华在《扫毒2天地对...   \n",
       "4977  最新上线的《王牌对王牌》这一期节目中，导演组和制片方真的是大玩特玩情结梗，以及亲情梗。按照这...   \n",
       "4978  本报讯（民族时报实习记者马新焕）2月10日，记者从云南省交通运输厅（简称“云南省交通厅”）了...   \n",
       "4979  很多人都说，没有深度的电影，容易让人忘怀。但是用27天就拍完的《东成西就》，你要说它有什么内...   \n",
       "4980  为落实北京新冠肺炎疫情防控工作领导小组关于做好春节期间疫情防控工作的要求，进一步发挥本市各级...   \n",
       "4981  人民网东京2月21日电据日本《每日新闻》报道，由于前日本奥运担当大臣桥本圣子就任东京奥组委主...   \n",
       "4982  香港艺人吴孟达于昨日（27日）因肝癌恶化而死亡。68岁。与吴孟达合作过的演员都纷纷发文追悼，...   \n",
       "4983  花煜寒|文 电视剧《有翡》在谢允和周翡相拥中落幕，淡然归隐的生活，简简单单中洋溢着幸福。 这...   \n",
       "4984  湖人队住家战士逆转，勒布朗赛后抱怨裁判关键时刻没有吹战士前锋绿色步行，今天的裁判报告显示勒布...   \n",
       "4985  春节越来越近了，大家最近这几天是不是人在工作岗位上，心早已不在了，不知道有没有单位在春节期间...   \n",
       "4986  华纳称调查并未发现欺压行为钢骨演员：将坚持到底 华纳媒体提供了关于钢骨演员雷费舍调查的最新消...   \n",
       "4987  拍完城市的旧照片，再见福州的庚子年|城市切片计划  经过一周的征集，这是我们和读者共同完成的...   \n",
       "4988  美国南部多地连日来遭遇罕见低温和暴雪，停水断电，机场关闭，新冠疫苗运输和接种受影响，甚至一些...   \n",
       "4989  来源：平度V视综合自大众报业·海报新闻、大众网平度 近日，住建部发布了 2019年城市建设统...   \n",
       "4990   肖战进入影视圈的时间很早，早在X玖少年团还不红的时候，就已经拍摄了一部非常有趣的影视作品，...   \n",
       "4991  《你好李焕英》可能要弯道超车？预计票房直追《战狼2》 春节档不愧是电影票房必争之地，因为今年...   \n",
       "4992  要说NBA最近的头号球队是谁，那必是见谁虐谁的篮网了。 虽说杜兰特伤病在身，仅剩新版的二弟三...   \n",
       "4993  米卢：在多哈等着你带领中国队进世界杯！武磊直播连线他交流经验 2月10号，世界名帅米卢在多哈...   \n",
       "4994  轻松关注/自动接收每日影讯和新片预告 继曼谷、纽约之后，东京再出大案。唐人街神探唐仁（王宝强...   \n",
       "4995  据新华社香港电香港特区2021年法律年度开启典礼1月11日在终审法院举行。当日履新的香港特区...   \n",
       "4996  “一切都很新鲜，像是进入了游乐场一样。创作电影的过程是好玩的，如果我带着强烈的目的性去做这件...   \n",
       "4997  近日，河北保定 一位爸爸为10岁儿子 用玩具拍的“大片”火了 爸爸对儿子的用心和爱 让不少网...   \n",
       "4998  “血吊坠”背后连着的，是“带血”的产业链。  ▲媒体报道截图。 “用刀片划开手腕皮肤，挤压出...   \n",
       "4999  北京时间2021年2月21日22:00，2020-21赛季意甲第23轮迎来焦点战，AC米兰主...   \n",
       "5000   皇马依靠门迪（右）的远射艰难拿下胜利。 一张红牌，让皇马在自己的欧冠淘汰赛百场里程碑带着了...   \n",
       "5001   画中唐明皇带着杨贵妃和一行随从准备出游，李隆基已经上马，他回过头等待着他的爱妃，只见贵妃在...   \n",
       "5002  升级版限薪令新政出台，中超近10年的“金元足球”退潮 新政之下中超酝酿“洗牌” 本报记者李元...   \n",
       "5003  由肖战、吴宣仪主演的电视剧《斗罗大陆》从播出就显露了不俗的品质，这也是国产剧少有的奇幻类型，...   \n",
       "5004  第一财经 作者：林小昭 15城的城区人口全部超过了300万大关，有10个城市城区人口超过50...   \n",
       "5005  郑秀文1972年出生在香港，是上世纪90年代人们的回忆，当时在香港是具有代表性的一位女歌手，...   \n",
       "5006  本季MVP候选人之一的火箭「胡子」JamesHarden（哈登），今天在与国王赛后受访时表示...   \n",
       "5007  在全球范围内，对新冠病毒的限制正在收紧，这给航运业，尤其是对海员换班带来了新的压力。  随着...   \n",
       "5008  苏提达不如诗妮娜那么能屈能伸，在昨天的活动上，苏提达等到了机会可以和泰王一起出席活动，她却控...   \n",
       "5009  3月4日，知名艺术家孔宁在社交平台中晒出一组跟倪萍的合照，两人一起画画合影看起来非常亲密，文...   \n",
       "\n",
       "                                                 target        id  \n",
       "4910   2021年2月27日，香港著名喜剧演员吴孟达去世，享年70岁。吴孟达好友田启文曾透露，吴孟...  ll4910_b  \n",
       "4911  中新社北京1月14日电题：美式“双标”反恐贻害无穷 中新社记者马佳佳 近日，美国国务院重新将...  ll4911_b  \n",
       "4912  3月2日，国新办举行推动银行业保险业高质量发展新闻发布会，银保监会主席郭树清和有关银行保险机...  ll4912_b  \n",
       "4913  为加强疫情防控工作，严防疫情反弹，近日，我镇加强“三人小组”开展常态化疫情防控工作，对各村（...  ll4913_b  \n",
       "4914  本赛季的皇马已经出现了一系列的问题，虽然现在的球队依然拥有联赛排名第二的位置，但是夺冠优势并...  ll4914_b  \n",
       "4915  邯郸市气象台于24日晚上的22时36分发布了暴雪蓝色预警信号：预计24小时内邯郸市区降雪总量...  ll4915_b  \n",
       "4916  中新网2月18日电据山东省教育厅微信公众号消息，根据教育部等九部门《关于印发中小学生减负措施...  ll4916_b  \n",
       "4917   高亭宇，1997年12月15日出生于黑龙江省伊春市。 2005年，高亭宇开始接触滑冰。20...  ll4917_b  \n",
       "4918  你的假期余额已严重不足，明天，就要上班了！  这个春节，你是怎么过的？ 是和亲朋好友一起逛吃...  ll4918_b  \n",
       "4919  2月24日，34岁的沛县十八线功夫演员“现代李小龙”飞龙就近期大红大紫的女导演贾玲公开抨击，...  ll4919_b  \n",
       "4920  最近欧阳娜娜的“睡衣事件”也成为了大家讨论的焦点，不少人扒出她在节目上的言行举止，欧阳娜娜也...  ll4920_b  \n",
       "4921  【2月8日江苏新增境外输入确诊1例在常州市定点医院治疗】2月8日0-24时，江苏新增境外输入...  ll4921_b  \n",
       "4922   斯通斯状态回升，瓜帅准备与他续约，球员有特殊的表现 为曼城效力的斯通斯，在此前的状态并不是...  ll4922_b  \n",
       "4923   1月15日，中国篮协公布了最新一期的伤病名单，山东男篮丁彦雨航恢复又有进展，与上次三周后康...  ll4923_b  \n",
       "4924  李菲儿张馨予训练起争执 《乘风破浪的姐姐》这档节目在近期还是非常火爆，因为各位姐姐在经过初舞...  ll4924_b  \n",
       "4925  近日，国家自然资源部发布《关于2020年度国家级开发区土地集约利用监测统计情况的通报》，掌握...  ll4925_b  \n",
       "4926  3月6日，据巴基斯坦三军公共关系部消息，安全部队在巴基斯坦西北部的北瓦济里斯坦部落地区，进行...  ll4926_b  \n",
       "4927  今天早上 有多少人和南婉儿一样 到办公室后默默打开了“小太阳” 烘被大雨淋湿的裤子  话说早...  ll4927_b  \n",
       "4928  《上阳赋》开播，章子怡饰演了十五岁的女主角阿妩，在观众眼里，原本可可爱爱蹦蹦跳跳在皇舅舅膝下...  ll4928_b  \n",
       "4929   进入三月，冷暖空气活动的更为频繁，降雨会逐渐增多增强。这几天淅淅沥沥的雨水开始在我市铺展开...  ll4929_b  \n",
       "4930    体育新鲜说观点：只做有深度的体育资讯！本轮对阵活塞队，本应该是篮网队的必胜之战，为何？活...  ll4930_b  \n",
       "4931  御风公会主播赵小磊“携程”停播的事情，想必YY的粉丝们早就已经见怪不怪了。赵小磊的开播频率算...  ll4931_b  \n",
       "4932  2月26日1时31分， 方冲小区发生火灾，母女被困， 119指挥中心接警后迅速调派 汇东路消...  ll4932_b  \n",
       "4933  中超今天终于迎来了新赛季第1个重磅引援的官宣，这就是上赛季的韩国K联赛MVP以及韩国现役国脚...  ll4933_b  \n",
       "4934  海南日报五指山2月28日电（记者谢凯特约记者刘钊）海南日报记者2月28日从五指山市委人才工作...  ll4934_b  \n",
       "4935  相信大家已经看见了今天王者荣耀更新，但是其中的英雄调整相比大家一定还没有来得及去看，所以这里...  ll4935_b  \n",
       "4936    每天耕耘最有趣、最实用的心理学   春节档上映以来，电影《你好，李焕英》成为了最大的黑马...  ll4936_b  \n",
       "4937   本赛季的英超打到现在19轮，如果有人说哪一支球队最终必定获得冠军的话，那这家伙肯定是在睡觉...  ll4937_b  \n",
       "4938  每经AI快讯，西部矿业（SH601168，收盘价：12.09元）2月5日晚间发布公告称，因公...  ll4938_b  \n",
       "4939  由李蔚然执导，陈坤、周迅等主演的春节档奇幻大片《侍神令》正在公映，4天取得了1.82亿元的票...  ll4939_b  \n",
       "4940  微博之夜举行前夕，就有媒体爆料称，在官宣图上同时出现了黄晓明与angelababy，这两人将...  ll4940_b  \n",
       "4941  市场星报、安徽财经网(www.ahcaijing.com)、掌中安徽讯(记者江锐)2020中...  ll4941_b  \n",
       "4942  @腾讯公司今天通过微博表示： 最近……戒烟了［悠闲］ 在这条微博配图的表情里 本来是个抽雪茄...  ll4942_b  \n",
       "4943  对于艺人的跨界来讲，估计有很多人都保持着不一样的态度，尤其是对于一些不知天高地厚就想闯出名堂...  ll4943_b  \n",
       "4944  . 辽宁队在上一场比赛当中意外以20分的巨大分差输给广厦，这使得辽宁队一度被推上了风口浪尖。...  ll4944_b  \n",
       "4945  中国日报网3月2日电据英国广播公司（BBC)报道，英国财政大臣里希·苏纳克(RishiSun...  ll4945_b  \n",
       "4946  近日，上海媒体《上观》报道，申花和海港外，中超球队集训为何独爱上海滩？ 文中介绍了目前有多家...  ll4946_b  \n",
       "4947  郑州电台特别策划“郑州人的元宵节” 五套频率融媒体直播，全媒体呈现 在线几万网友，一起闹元宵...  ll4947_b  \n",
       "4948  北京时间1月26日，西甲第20轮的一场比赛，毕尔巴鄂竞技对阵赫塔菲。赛前的时候，毕尔巴鄂竞技...  ll4948_b  \n",
       "4949  林书豪-李群篮球联盟是由中国篮球名宿李群与NBA华人球星林书豪联合创办，是中国首家标准化篮球...  ll4949_b  \n",
       "4950  总台央广记者韩民权通讯员曾鹏文、姚强强报道：1月26日上午，位于海拔3300米、零下5度的四...  ll4950_b  \n",
       "4951  【排查密切接触者3.2万人】记者从沈阳市新型冠状病毒肺炎疫情防控工作第二十三场新闻发布会获悉...  ll4951_b  \n",
       "4952  2月28日，微博之夜盛典现场，杨幂、唐嫣、angelababy、倪妮、佟丽娅、张雨绮被要求拿...  ll4952_b  \n",
       "4953  上周末，西班牙人在主场轻松拿下比赛胜利，再加上马略卡意外输球，使得西班牙人继续领跑积分榜的同...  ll4953_b  \n",
       "4954  3月6日下午，青岛海牛队与中甲南通支云队进行了第二场热身赛，经过三节比赛，两队最终战成0:0...  ll4954_b  \n",
       "4955  CBA的这场焦点大战，广东打辽宁的比赛，比赛打得真的是太好看太精彩太刺激了，代表了现在中国男...  ll4955_b  \n",
       "4956   北京时间2月3日爵士主场对阵活塞，最终爵士以117-105成功击败了活塞。上场爵士输给掘金...  ll4956_b  \n",
       "4957  流浪者：首回合在客场流浪绝杀对手，占得先机，本场回到主场，压力不大，状态非常好。 安特卫普：...  ll4957_b  \n",
       "4958  《赘婿》成为2021年所播平台首部热度破万剧集！ 也是该平台史上热度最快破万剧集！  鉴于该...  ll4958_b  \n",
       "4959   张艺谋一生的痛：奥运彩排时，她从高空坠落致终身残疾，如今怎样  古语有云：“天行健，君子以...  ll4959_b  \n",
       "4960  据《环球网》报道，我国关于退休职员法定年龄为男性60岁，女性工人50岁，女性干部55岁。但随...  ll4960_b  \n",
       "4961  中新社合肥2月20日电(记者吴兰)中国各省市陆续发布的2020年GDP数据显示，合肥、南通、...  ll4961_b  \n",
       "4962  央视网消息：《政府工作报告》还提出，今年的居民消费价格涨幅是3%左右，同时还提出居民收入稳步...  ll4962_b  \n",
       "4963  深圳的人才引进政策带来了一批又一批的年轻人才，不知道有多少人是因为深圳的补贴落了深户的，在落...  ll4963_b  \n",
       "4964  3月1日，上游新闻·重庆晨报记者从重庆大学附属肿瘤医院获悉，从3月1日起，恶性肿瘤特殊疾病线...  ll4964_b  \n",
       "4965  北京时间3月3日，2020-21赛季NBA常规赛继续进行，波士顿凯尔特人队在主场迎战洛杉矶快...  ll4965_b  \n",
       "4966  新华社武汉2月4日电题：一标准桶废矿物油能污染近3.5平方公里水面——“地下毒油”去哪了？ ...  ll4966_b  \n",
       "4967  最近这段时间，娱乐圈实在是太热闹了，先有郑爽与前男友张恒代孕生子被曝光，再有张碧晨偷偷生了华...  ll4967_b  \n",
       "4968  华语金曲奖是娱乐圈非常受人关注的一个盛典，但是今年由于疫情原因，各大颁奖典礼大多取消了线下颁...  ll4968_b  \n",
       "4969   作者：李月亮 来源公号：李月亮（ID:bymooneye） 李湘最近被房东曝光了，一件小事...  ll4969_b  \n",
       "4970  1 意杯-伊布进球染红国米97分钟绝杀2-1逆转AC米兰  北京时间1月27日3时45分（意...  ll4970_b  \n",
       "4971  作为曾经火爆全国的一档综艺节目，跑男总是备受关注的。即使现在跑男的收视率和关注度都有所下降，...  ll4971_b  \n",
       "4972  新华社北京3月1日电（记者成欣、黄爱萍）新任联合国驻华协调员常启德1日在接受新华社记者专访时...  ll4972_b  \n",
       "4973  北京时间3月5日，CBA联赛公司公布了全明星星锐赛大名单，本次大名单毫无意外联赛七新星集体亮...  ll4973_b  \n",
       "4974  新华社华盛顿1月13日电（记者徐剑梅邓仙来）美国国会众议院13日表决通过针对总统特朗普的弹劾...  ll4974_b  \n",
       "4975  文\\宋晓峰责编\\黄小明  提要：一直以来，无论在镜头前还是在社交媒体，于正和郭敬明都属于非常...  ll4975_b  \n",
       "4976  有没有发现？从你第一次听到《你好，李焕英》这个名字，它仿佛就长在了你的耳边： 综艺节目里有它...  ll4976_b  \n",
       "4977  据报道郑爽在国内走途无路之际，决定前往韩国发展，事情是真的吗？ 郑爽因为代孕事件，人设崩塌已...  ll4977_b  \n",
       "4978  如今，智能手机极大方便了人们的日常生活，那么，老年人该如何搭上这趟时代列车？记者从天津市发改...  ll4978_b  \n",
       "4979  “Beyond”是上世纪八九十年代相当火的摇滚乐队，由黄家驹、黄贯中、黄家强和叶世荣死人组成...  ll4979_b  \n",
       "4980  为落实北京新冠肺炎疫情防控工作领导小组关于做好春节期间疫情防控工作的要求，进一步发挥本市各级...  ll4980_b  \n",
       "4981  新华社东京2月24日电（记者王子江）新任东京奥组委主席桥本圣子24日通过视频向国际奥委会执委...  ll4981_b  \n",
       "4982  昨天，一个在影视界影响了几代人.给无数人带来欢乐的著名演员吴孟达永远地离开了我们。任达华、刘...  ll4982_b  \n",
       "4983  由赵丽颖、王一博主演的《有翡》剧情已经接近尾声，阿翡将所有海天一色的信物集齐带着谢允一路撒着...  ll4983_b  \n",
       "4984  昨天进行的一场NBA常规赛的比赛，太阳对阵的掘金的比赛，本场比赛两队也是经历了双加时赛的比拼...  ll4984_b  \n",
       "4985  盼星星盼月亮， 马上就要过年啦~ 是不是超期待？ 快来一起看看—— 春节放假那些事儿 202...  ll4985_b  \n",
       "4986  太恶臭了！韩国女爱豆被偷拍，10美元就能买一张裸露换衣照？ 偷拍事件何时了？ 近日，在韩国各...  ll4986_b  \n",
       "4987   约9k字。放飞自我之作。 晚场 刺杀王先生 K是在雨声和一个女人怀中醒来的。这不正常，他想...  ll4987_b  \n",
       "4988  当地时间19日，美国南部得克萨斯州电力可靠性委员会宣布，解除该州“电力紧急状态三级警报”，各...  ll4988_b  \n",
       "4989  近日，住房和城乡建设部（住建部）发布了最新的城市建设统计年鉴，根据报告，全国有6个城市城区人...  ll4989_b  \n",
       "4990  王一博虽已出道多年，但才在近几年引起了大众的。《陪你到世界之巅》、《陈情令》和《有翡》的相继...  ll4990_b  \n",
       "4991  截至到目前为止，由贾玲导演的《你好，李焕英》票房已经超过了40亿，原本稳坐春节档票房冠军的《...  ll4991_b  \n",
       "4992  佛山这个“宝藏灯地”藏不住了！ 狮山罗村孝德文化溯源、乐安花灯技艺展示、 生仔石传说、咏春拳...  ll4992_b  \n",
       "4993  英国伦敦，乔希-马亚租借加盟富勒姆，拍摄新球队写真。富勒姆足球俱乐部（FulhamF.C.）...  ll4993_b  \n",
       "4994  温馨提示： 出门前请记得佩戴好口罩哦！ 观影需全程佩戴口罩! 电影《唐人街探案3》2021年...  ll4994_b  \n",
       "4995  美禁输美货品标“香港制造”，港府要求世贸成立专家组审理争端。 美国政府此前曾发布公告称，香港...  ll4995_b  \n",
       "4996   前段时间，由赵薇牵头发起并参与导演的一部电视剧《听见她说》，引起了广泛热议。 这部剧分别塑...  ll4996_b  \n",
       "4997  近日，河北保定 一位爸爸为10岁儿子 用玩具拍的“大片”火了 爸爸对儿子的用心和爱 让不少网...  ll4997_b  \n",
       "4998  “血吊坠”背后连着的，是“带血”的产业链。  ▲媒体报道截图。 “用刀片划开手腕皮肤，挤压出...  ll4998_b  \n",
       "4999  在意甲联赛第23轮的比赛中，红黑军团AC米兰队的对手是国际米兰，两队在圣西罗球场上进行了一场...  ll4999_b  \n",
       "5000   2020-2021赛季欧冠1/8决赛首回合已结束前6场的较量，此前出战的三支西甲球队无一取...  ll5000_b  \n",
       "5001  北京时间1月25日，火箭队连胜活塞、独行侠队之后，接下来会迎来2天的休息时间。由于本赛季赛程...  ll5001_b  \n",
       "5002  随着新赛季冬季转会窗口的开启，各支中超球队对于新赛季的引援也踌躇满志。相信对于很多球迷朋友们...  ll5002_b  \n",
       "5003  近日，肖战的好消息频频传来，不仅新剧《斗罗大陆》在央视开播，得到了各方面的关注，另外，肖战又...  ll5003_b  \n",
       "5004  第一财经 作者：林小昭 15城的城区人口全部超过了300万大关，有10个城市城区人口超过50...  ll5004_b  \n",
       "5005  就一眼爱变成了一种天赋 不自觉能和你笑抱你哭 我为你有了旅途 不管离天涯几步 我都不在乎 这...  ll5005_b  \n",
       "5006  威少不在乎MVP新浪体育讯北京时间12月12日，据美媒体报道，本赛季开始以来，雷霆队当家球星...  ll5006_b  \n",
       "5007  预警！马上杀到阜阳！做好防护！（点击查看）刚刚！成功！市二院医生跪了那么久…（点击查看） 我...  ll5007_b  \n",
       "5008   在诗妮娜贵妃风光复宠之后，苏提达王后确实变得比之前低调了很多，大家也很少看到她公开现身的画...  ll5008_b  \n",
       "5009  热播中的《青春有你3》受到了极高的度，许多网民都会定时观赏这一部综艺。而就在今日（5日），孙...  ll5009_b  "
      ]
     },
     "execution_count": 62,
     "metadata": {},
     "output_type": "execute_result"
    }
   ],
   "source": [
    "test_data.tail(100)"
   ]
  },
  {
   "cell_type": "markdown",
   "metadata": {},
   "source": [
    "## k-fold"
   ]
  },
  {
   "cell_type": "code",
   "execution_count": 60,
   "metadata": {
    "pycharm": {
     "is_executing": false
    }
   },
   "outputs": [
    {
     "name": "stdout",
     "output_type": "stream",
     "text": [
      "(69578, 3)\n"
     ]
    },
    {
     "data": {
      "text/html": [
       "<div>\n",
       "<style scoped>\n",
       "    .dataframe tbody tr th:only-of-type {\n",
       "        vertical-align: middle;\n",
       "    }\n",
       "\n",
       "    .dataframe tbody tr th {\n",
       "        vertical-align: top;\n",
       "    }\n",
       "\n",
       "    .dataframe thead th {\n",
       "        text-align: right;\n",
       "    }\n",
       "</style>\n",
       "<table border=\"1\" class=\"dataframe\">\n",
       "  <thead>\n",
       "    <tr style=\"text-align: right;\">\n",
       "      <th></th>\n",
       "      <th>source</th>\n",
       "      <th>target</th>\n",
       "      <th>label</th>\n",
       "    </tr>\n",
       "  </thead>\n",
       "  <tbody>\n",
       "    <tr>\n",
       "      <td>3962</td>\n",
       "      <td>肖战欠鹅厂一部戏？糊咖时期的资源置换被曝，3月进组板上钉钉</td>\n",
       "      <td>当下各种电视剧作品，都已经是官宣杀青了，有的都开始定档播出，像是《上阳赋》、《山海情》、《江...</td>\n",
       "      <td>0</td>\n",
       "    </tr>\n",
       "    <tr>\n",
       "      <td>3019</td>\n",
       "      <td>古力娜扎陈晓拍新剧同框俊男美女十分养眼</td>\n",
       "      <td>美女不相信王宝强有车，王宝强在车库把车变出来，吓美女一跳！</td>\n",
       "      <td>0</td>\n",
       "    </tr>\n",
       "    <tr>\n",
       "      <td>1093</td>\n",
       "      <td>今年，贵阳市凤冈商会准备这样干 2021年3月3日，贵阳市凤冈商会第一届第一次理事会议暨共谋...</td>\n",
       "      <td>为进一步提升郯城县消防救援队伍正规化、专业化、职业化建设水平，持续壮大郯城县政府专职消防员队...</td>\n",
       "      <td>0</td>\n",
       "    </tr>\n",
       "    <tr>\n",
       "      <td>2988</td>\n",
       "      <td>新赛季的中超联赛已经进入到冬训期，而在近期各支球队的引援工作已经展开，而在近日沪媒《东方体育...</td>\n",
       "      <td>北京时间1月15号，媒体上更新了中超新科冠军江苏苏宁的消息，据《东方体育日报》爆料，目前江苏...</td>\n",
       "      <td>0</td>\n",
       "    </tr>\n",
       "    <tr>\n",
       "      <td>7218</td>\n",
       "      <td>《大红包》提档1月22日，特笑天团、提钱贺岁！</td>\n",
       "      <td>本次包贝尔、张一鸣、贾冰、许君聪、王小利组成“包笑男孩儿”男团，加上性感女神克拉拉的喜感王炸...</td>\n",
       "      <td>1</td>\n",
       "    </tr>\n",
       "  </tbody>\n",
       "</table>\n",
       "</div>"
      ],
      "text/plain": [
       "                                                 source  \\\n",
       "3962                      肖战欠鹅厂一部戏？糊咖时期的资源置换被曝，3月进组板上钉钉   \n",
       "3019                                古力娜扎陈晓拍新剧同框俊男美女十分养眼   \n",
       "1093  今年，贵阳市凤冈商会准备这样干 2021年3月3日，贵阳市凤冈商会第一届第一次理事会议暨共谋...   \n",
       "2988  新赛季的中超联赛已经进入到冬训期，而在近期各支球队的引援工作已经展开，而在近日沪媒《东方体育...   \n",
       "7218                            《大红包》提档1月22日，特笑天团、提钱贺岁！   \n",
       "\n",
       "                                                 target label  \n",
       "3962  当下各种电视剧作品，都已经是官宣杀青了，有的都开始定档播出，像是《上阳赋》、《山海情》、《江...     0  \n",
       "3019                      美女不相信王宝强有车，王宝强在车库把车变出来，吓美女一跳！     0  \n",
       "1093  为进一步提升郯城县消防救援队伍正规化、专业化、职业化建设水平，持续壮大郯城县政府专职消防员队...     0  \n",
       "2988  北京时间1月15号，媒体上更新了中超新科冠军江苏苏宁的消息，据《东方体育日报》爆料，目前江苏...     0  \n",
       "7218  本次包贝尔、张一鸣、贾冰、许君聪、王小利组成“包笑男孩儿”男团，加上性感女神克拉拉的喜感王炸...     1  "
      ]
     },
     "execution_count": 60,
     "metadata": {},
     "output_type": "execute_result"
    }
   ],
   "source": [
    "train_valid = pd.concat([train_data, valid_data])\n",
    "train_valid = train_valid.sample(frac=1)\n",
    "print(train_valid.shape)\n",
    "train_valid.head()"
   ]
  },
  {
   "cell_type": "code",
   "execution_count": 61,
   "metadata": {
    "pycharm": {
     "is_executing": false
    }
   },
   "outputs": [
    {
     "name": "stdout",
     "output_type": "stream",
     "text": [
      "1\n",
      "write to ../data/clean/k_fold/k_fold1/train.csv success.\n",
      "write to ../data/clean/k_fold/k_fold1/valid.csv success.\n",
      "2\n",
      "write to ../data/clean/k_fold/k_fold2/train.csv success.\n",
      "write to ../data/clean/k_fold/k_fold2/valid.csv success.\n",
      "3\n",
      "write to ../data/clean/k_fold/k_fold3/train.csv success.\n",
      "write to ../data/clean/k_fold/k_fold3/valid.csv success.\n",
      "4\n",
      "write to ../data/clean/k_fold/k_fold4/train.csv success.\n",
      "write to ../data/clean/k_fold/k_fold4/valid.csv success.\n",
      "5\n",
      "write to ../data/clean/k_fold/k_fold5/train.csv success.\n",
      "write to ../data/clean/k_fold/k_fold5/valid.csv success.\n"
     ]
    }
   ],
   "source": [
    "kf = KFold(n_splits=5, shuffle=True, random_state=42)\n",
    "k = 0\n",
    "for i, (train_idx, valid_idx) in enumerate(kf.split(train_valid)):\n",
    "    print(i+1)\n",
    "    train = train_valid.iloc[train_idx]\n",
    "    valid = train_valid.iloc[valid_idx]\n",
    "    write2file(train, f\"../data/clean/k_fold/k_fold{i+1}/train.csv\")\n",
    "    write2file(valid, f\"../data/clean/k_fold/k_fold{i+1}/valid.csv\")"
   ]
  },
  {
   "cell_type": "markdown",
   "metadata": {},
   "source": [
    "## A, B split"
   ]
  },
  {
   "cell_type": "code",
   "execution_count": null,
   "metadata": {},
   "outputs": [],
   "source": [
    "train_a = pd.concat([ssa_train])"
   ]
  }
 ],
 "metadata": {
  "kernelspec": {
   "display_name": "Python 3",
   "language": "python",
   "name": "python3"
  },
  "language_info": {
   "codemirror_mode": {
    "name": "ipython",
    "version": 3
   },
   "file_extension": ".py",
   "mimetype": "text/x-python",
   "name": "python",
   "nbconvert_exporter": "python",
   "pygments_lexer": "ipython3",
   "version": "3.7.0"
  },
  "pycharm": {
   "stem_cell": {
    "cell_type": "raw",
    "metadata": {
     "collapsed": false
    },
    "source": []
   }
  },
  "toc": {
   "base_numbering": 1,
   "nav_menu": {},
   "number_sections": true,
   "sideBar": true,
   "skip_h1_title": false,
   "title_cell": "Table of Contents",
   "title_sidebar": "Contents",
   "toc_cell": false,
   "toc_position": {
    "height": "calc(100% - 180px)",
    "left": "10px",
    "top": "150px",
    "width": "261.391px"
   },
   "toc_section_display": true,
   "toc_window_display": true
  }
 },
 "nbformat": 4,
 "nbformat_minor": 1
}
