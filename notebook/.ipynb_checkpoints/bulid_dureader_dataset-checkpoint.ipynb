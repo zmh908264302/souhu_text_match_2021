{
 "cells": [
  {
   "cell_type": "code",
   "execution_count": 20,
   "metadata": {
    "pycharm": {
     "name": "#%%\n"
    }
   },
   "outputs": [],
   "source": [
    "import pandas as pd\n",
    "import json\n",
    "from typing import List\n",
    "import math\n",
    "\n",
    "# 显示所有列\n",
    "pd.set_option('display.max_columns', None)\n",
    "# 显示所有行\n",
    "pd.set_option('display.max_rows', None)"
   ]
  },
  {
   "cell_type": "code",
   "execution_count": 2,
   "metadata": {
    "pycharm": {
     "name": "#%%\n"
    }
   },
   "outputs": [
    {
     "name": "stdout",
     "output_type": "stream",
     "text": [
      "/home/zhuminghao/work/competition/dureader2021/notebook\r\n"
     ]
    }
   ],
   "source": [
    "!pwd"
   ]
  },
  {
   "cell_type": "code",
   "execution_count": 24,
   "metadata": {
    "pycharm": {
     "name": "#%%\n"
    }
   },
   "outputs": [],
   "source": [
    "def read_file(path: str, mode: str = \"json\"):\n",
    "    if mode.strip().lower() == \"json\":\n",
    "        data = []\n",
    "        with open(path, \"r\") as fr:\n",
    "            data: List[dict] = json.load(fr)[\"data\"][0][\"paragraphs\"]\n",
    "    return data"
   ]
  },
  {
   "cell_type": "code",
   "execution_count": 25,
   "metadata": {
    "pycharm": {
     "name": "#%%\n"
    }
   },
   "outputs": [
    {
     "name": "stdout",
     "output_type": "stream",
     "text": [
      "[{'qas': [{'type': 'in-domain', 'question': '怀孕初期不小心吃了扁桃仁', 'id': 'e0285179a076cfb1e667042de441d1b5', 'answers': [{'text': '孕妇吃扁桃仁一般情况下是不会导致胎儿发生病变的,通常如果不食用过量的话对宝宝是没有什么影响的,适量使用也是可以给宝宝带来很好的效果', 'answer_start': 0}], 'is_impossible': False}], 'context': '孕妇吃扁桃仁一般情况下是不会导致胎儿发生病变的,通常如果不食用过量的话对宝宝是没有什么影响的,适量使用也是可以给宝宝带来很好的效果,不过孕妇一定要注意膳食搭配,营养均衡这样才能生出一个健康的宝宝。', 'title': '孕妇吃扁桃仁胎儿畸形是为什么_妈妈网小百科'}]\n"
     ]
    }
   ],
   "source": [
    "data = read_file(\"../data/raw//demo/demo.json\")\n",
    "print(data[:1])"
   ]
  },
  {
   "cell_type": "code",
   "execution_count": 45,
   "metadata": {
    "pycharm": {
     "name": "#%%\n"
    }
   },
   "outputs": [
    {
     "name": "stdout",
     "output_type": "stream",
     "text": [
      "[['e0285179a076cfb1e667042de441d1b5', 'in-domain', False, '怀孕初期不小心吃了扁桃仁', '孕妇吃扁桃仁一般情况下是不会导致胎儿发生病变的,通常如果不食用过量的话对宝宝是没有什么影响的,适量使用也是可以给宝宝带来很好的效果', 0, '孕妇吃扁桃仁胎儿畸形是为什么_妈妈网小百科', '孕妇吃扁桃仁一般情况下是不会导致胎儿发生病变的,通常如果不食用过量的话对宝宝是没有什么影响的,适量使用也是可以给宝宝带来很好的效果,不过孕妇一定要注意膳食搭配,营养均衡这样才能生出一个健康的宝宝。'], ['eae7af70dc9645c8ceeb3eac6e241160', 'in-domain', True, '新生儿皮肤松弛正常吗', '', -1, '新生儿身上脱皮是怎么回事?-宝宝,病因-大众养生网', '其实这是正常现象。新生儿皮肤最外面的一层叫表皮的角化层,由于发育不完善,因此很薄,容易脱落。皮肤内面的一层叫真皮,表皮和真皮之间有基底膜相联系。新生儿基底膜不够发达,细嫩松软,使表皮和真皮联结不紧密,表皮脱落机会就更多。何况新生儿出生前是处在温暖的羊水中,出生后受寒冷和干燥空气的刺激,皮肤收缩,也更容易脱皮。家长只要注意对新生儿皮肤的清洁护理,避免外来的感染和损伤就可以了,不必为此而感到惊慌。']]\n"
     ]
    },
    {
     "data": {
      "text/plain": [
       "100"
      ]
     },
     "execution_count": 45,
     "metadata": {},
     "output_type": "execute_result"
    }
   ],
   "source": [
    "\n",
    "lst = []\n",
    "for line in data:\n",
    "    qa: dict = line[\"qas\"][0]\n",
    "    lst.append([qa[\"id\"], qa[\"type\"], qa[\"is_impossible\"], qa[\"question\"], qa[\"answers\"][0][\"text\"], qa[\"answers\"][0][\"answer_start\"],\n",
    "              line[\"title\"], line[\"context\"]])\n",
    "print(lst[:2])\n",
    "len(lst)"
   ]
  },
  {
   "cell_type": "code",
   "execution_count": 56,
   "metadata": {},
   "outputs": [
    {
     "name": "stdout",
     "output_type": "stream",
     "text": [
      "(100, 8)\n"
     ]
    },
    {
     "data": {
      "text/html": [
       "<div>\n",
       "<style scoped>\n",
       "    .dataframe tbody tr th:only-of-type {\n",
       "        vertical-align: middle;\n",
       "    }\n",
       "\n",
       "    .dataframe tbody tr th {\n",
       "        vertical-align: top;\n",
       "    }\n",
       "\n",
       "    .dataframe thead th {\n",
       "        text-align: right;\n",
       "    }\n",
       "</style>\n",
       "<table border=\"1\" class=\"dataframe\">\n",
       "  <thead>\n",
       "    <tr style=\"text-align: right;\">\n",
       "      <th></th>\n",
       "      <th>id</th>\n",
       "      <th>type</th>\n",
       "      <th>is_impossible</th>\n",
       "      <th>question</th>\n",
       "      <th>ans_text</th>\n",
       "      <th>start_ans</th>\n",
       "      <th>title</th>\n",
       "      <th>context</th>\n",
       "    </tr>\n",
       "  </thead>\n",
       "  <tbody>\n",
       "    <tr>\n",
       "      <td>0</td>\n",
       "      <td>e0285179a076cfb1e667042de441d1b5</td>\n",
       "      <td>in-domain</td>\n",
       "      <td>False</td>\n",
       "      <td>怀孕初期不小心吃了扁桃仁</td>\n",
       "      <td>孕妇吃扁桃仁一般情况下是不会导致胎儿发生病变的,通常如果不食用过量的话对宝宝是没有什么影响的...</td>\n",
       "      <td>0</td>\n",
       "      <td>孕妇吃扁桃仁胎儿畸形是为什么_妈妈网小百科</td>\n",
       "      <td>孕妇吃扁桃仁一般情况下是不会导致胎儿发生病变的,通常如果不食用过量的话对宝宝是没有什么影响的...</td>\n",
       "    </tr>\n",
       "    <tr>\n",
       "      <td>1</td>\n",
       "      <td>eae7af70dc9645c8ceeb3eac6e241160</td>\n",
       "      <td>in-domain</td>\n",
       "      <td>True</td>\n",
       "      <td>新生儿皮肤松弛正常吗</td>\n",
       "      <td></td>\n",
       "      <td>-1</td>\n",
       "      <td>新生儿身上脱皮是怎么回事?-宝宝,病因-大众养生网</td>\n",
       "      <td>其实这是正常现象。新生儿皮肤最外面的一层叫表皮的角化层,由于发育不完善,因此很薄,容易脱落。...</td>\n",
       "    </tr>\n",
       "    <tr>\n",
       "      <td>2</td>\n",
       "      <td>0f3d16c6241f28fbabad2d1e5f4d6a16</td>\n",
       "      <td>in-domain</td>\n",
       "      <td>True</td>\n",
       "      <td>早起的有氧运动有哪些</td>\n",
       "      <td></td>\n",
       "      <td>-1</td>\n",
       "      <td>有氧运动的6个好处,你受益于第几个? - 营养健身狗</td>\n",
       "      <td>1、改善心脏健康心脏是人体最重要的器官之一，心脏越健康人体就越健康。世界上很多人因为心脏相关...</td>\n",
       "    </tr>\n",
       "    <tr>\n",
       "      <td>3</td>\n",
       "      <td>18a3b2d75e9bd76ca023b87b65093552</td>\n",
       "      <td>in-domain</td>\n",
       "      <td>False</td>\n",
       "      <td>打完疫苗可以喝酒不</td>\n",
       "      <td>不要饮酒</td>\n",
       "      <td>12</td>\n",
       "      <td>打完狂犬疫苗喝酒可以吗_预防接种_快速问医生</td>\n",
       "      <td>1、在打疫苗期间,应注意不要饮酒、喝浓茶、咖啡;也不要吃有刺激性的食物,如辣椒、葱、大蒜等等...</td>\n",
       "    </tr>\n",
       "    <tr>\n",
       "      <td>4</td>\n",
       "      <td>d54766c666c86ef8087f68192981cf2a</td>\n",
       "      <td>in-domain</td>\n",
       "      <td>False</td>\n",
       "      <td>异常呼吸类型包括</td>\n",
       "      <td>异常呼吸类型有:1哮喘性呼吸。2紧促式呼吸.3深浅不规则的呼吸。4叹息式呼吸。5蝉鸣性呼吸。...</td>\n",
       "      <td>31</td>\n",
       "      <td>异常呼吸类型包括哪些 - 问答频道 - 博禾医生</td>\n",
       "      <td>有些人会有呼吸异常的情况,出现这种情况最好及时去医院检查治疗。异常呼吸类型有:1哮喘性呼吸。...</td>\n",
       "    </tr>\n",
       "  </tbody>\n",
       "</table>\n",
       "</div>"
      ],
      "text/plain": [
       "                                 id       type  is_impossible      question  \\\n",
       "0  e0285179a076cfb1e667042de441d1b5  in-domain          False  怀孕初期不小心吃了扁桃仁   \n",
       "1  eae7af70dc9645c8ceeb3eac6e241160  in-domain           True    新生儿皮肤松弛正常吗   \n",
       "2  0f3d16c6241f28fbabad2d1e5f4d6a16  in-domain           True    早起的有氧运动有哪些   \n",
       "3  18a3b2d75e9bd76ca023b87b65093552  in-domain          False     打完疫苗可以喝酒不   \n",
       "4  d54766c666c86ef8087f68192981cf2a  in-domain          False      异常呼吸类型包括   \n",
       "\n",
       "                                            ans_text  start_ans  \\\n",
       "0  孕妇吃扁桃仁一般情况下是不会导致胎儿发生病变的,通常如果不食用过量的话对宝宝是没有什么影响的...          0   \n",
       "1                                                            -1   \n",
       "2                                                            -1   \n",
       "3                                               不要饮酒         12   \n",
       "4  异常呼吸类型有:1哮喘性呼吸。2紧促式呼吸.3深浅不规则的呼吸。4叹息式呼吸。5蝉鸣性呼吸。...         31   \n",
       "\n",
       "                        title  \\\n",
       "0       孕妇吃扁桃仁胎儿畸形是为什么_妈妈网小百科   \n",
       "1   新生儿身上脱皮是怎么回事?-宝宝,病因-大众养生网   \n",
       "2  有氧运动的6个好处,你受益于第几个? - 营养健身狗   \n",
       "3      打完狂犬疫苗喝酒可以吗_预防接种_快速问医生   \n",
       "4    异常呼吸类型包括哪些 - 问答频道 - 博禾医生   \n",
       "\n",
       "                                             context  \n",
       "0  孕妇吃扁桃仁一般情况下是不会导致胎儿发生病变的,通常如果不食用过量的话对宝宝是没有什么影响的...  \n",
       "1  其实这是正常现象。新生儿皮肤最外面的一层叫表皮的角化层,由于发育不完善,因此很薄,容易脱落。...  \n",
       "2  1、改善心脏健康心脏是人体最重要的器官之一，心脏越健康人体就越健康。世界上很多人因为心脏相关...  \n",
       "3  1、在打疫苗期间,应注意不要饮酒、喝浓茶、咖啡;也不要吃有刺激性的食物,如辣椒、葱、大蒜等等...  \n",
       "4  有些人会有呼吸异常的情况,出现这种情况最好及时去医院检查治疗。异常呼吸类型有:1哮喘性呼吸。...  "
      ]
     },
     "execution_count": 56,
     "metadata": {},
     "output_type": "execute_result"
    }
   ],
   "source": [
    "df = pd.DataFrame(lst, columns=[\"id\", \"type\", \"is_impossible\", \"question\", \"ans_text\", \"start_ans\", \"title\", \"context\"])\n",
    "print(df.shape)\n",
    "df.head()"
   ]
  },
  {
   "cell_type": "code",
   "execution_count": 57,
   "metadata": {},
   "outputs": [
    {
     "data": {
      "text/plain": [
       "count    100.000000\n",
       "mean     216.200000\n",
       "std      148.170663\n",
       "min       71.000000\n",
       "25%      118.000000\n",
       "50%      166.000000\n",
       "75%      241.000000\n",
       "max      929.000000\n",
       "Name: context, dtype: float64"
      ]
     },
     "execution_count": 57,
     "metadata": {},
     "output_type": "execute_result"
    }
   ],
   "source": [
    "df[\"context\"].str.len().describe()"
   ]
  },
  {
   "cell_type": "code",
   "execution_count": 58,
   "metadata": {},
   "outputs": [
    {
     "data": {
      "text/plain": [
       "True     51\n",
       "False    49\n",
       "Name: is_impossible, dtype: int64"
      ]
     },
     "execution_count": 58,
     "metadata": {},
     "output_type": "execute_result"
    }
   ],
   "source": [
    "df[\"is_impossible\"].value_counts()"
   ]
  },
  {
   "cell_type": "code",
   "execution_count": 63,
   "metadata": {},
   "outputs": [
    {
     "name": "stdout",
     "output_type": "stream",
     "text": [
      "(100, 9)\n"
     ]
    },
    {
     "data": {
      "text/html": [
       "<div>\n",
       "<style scoped>\n",
       "    .dataframe tbody tr th:only-of-type {\n",
       "        vertical-align: middle;\n",
       "    }\n",
       "\n",
       "    .dataframe tbody tr th {\n",
       "        vertical-align: top;\n",
       "    }\n",
       "\n",
       "    .dataframe thead th {\n",
       "        text-align: right;\n",
       "    }\n",
       "</style>\n",
       "<table border=\"1\" class=\"dataframe\">\n",
       "  <thead>\n",
       "    <tr style=\"text-align: right;\">\n",
       "      <th></th>\n",
       "      <th>id</th>\n",
       "      <th>type</th>\n",
       "      <th>is_impossible</th>\n",
       "      <th>question</th>\n",
       "      <th>ans_text</th>\n",
       "      <th>start_ans</th>\n",
       "      <th>title</th>\n",
       "      <th>context</th>\n",
       "      <th>end_ans</th>\n",
       "    </tr>\n",
       "  </thead>\n",
       "  <tbody>\n",
       "    <tr>\n",
       "      <td>0</td>\n",
       "      <td>e0285179a076cfb1e667042de441d1b5</td>\n",
       "      <td>in-domain</td>\n",
       "      <td>False</td>\n",
       "      <td>怀孕初期不小心吃了扁桃仁</td>\n",
       "      <td>孕妇吃扁桃仁一般情况下是不会导致胎儿发生病变的,通常如果不食用过量的话对宝宝是没有什么影响的...</td>\n",
       "      <td>0</td>\n",
       "      <td>孕妇吃扁桃仁胎儿畸形是为什么_妈妈网小百科</td>\n",
       "      <td>孕妇吃扁桃仁一般情况下是不会导致胎儿发生病变的,通常如果不食用过量的话对宝宝是没有什么影响的...</td>\n",
       "      <td>64</td>\n",
       "    </tr>\n",
       "    <tr>\n",
       "      <td>1</td>\n",
       "      <td>eae7af70dc9645c8ceeb3eac6e241160</td>\n",
       "      <td>in-domain</td>\n",
       "      <td>True</td>\n",
       "      <td>新生儿皮肤松弛正常吗</td>\n",
       "      <td></td>\n",
       "      <td>-1</td>\n",
       "      <td>新生儿身上脱皮是怎么回事?-宝宝,病因-大众养生网</td>\n",
       "      <td>其实这是正常现象。新生儿皮肤最外面的一层叫表皮的角化层,由于发育不完善,因此很薄,容易脱落。...</td>\n",
       "      <td>-1</td>\n",
       "    </tr>\n",
       "    <tr>\n",
       "      <td>2</td>\n",
       "      <td>0f3d16c6241f28fbabad2d1e5f4d6a16</td>\n",
       "      <td>in-domain</td>\n",
       "      <td>True</td>\n",
       "      <td>早起的有氧运动有哪些</td>\n",
       "      <td></td>\n",
       "      <td>-1</td>\n",
       "      <td>有氧运动的6个好处,你受益于第几个? - 营养健身狗</td>\n",
       "      <td>1、改善心脏健康心脏是人体最重要的器官之一，心脏越健康人体就越健康。世界上很多人因为心脏相关...</td>\n",
       "      <td>-1</td>\n",
       "    </tr>\n",
       "    <tr>\n",
       "      <td>3</td>\n",
       "      <td>18a3b2d75e9bd76ca023b87b65093552</td>\n",
       "      <td>in-domain</td>\n",
       "      <td>False</td>\n",
       "      <td>打完疫苗可以喝酒不</td>\n",
       "      <td>不要饮酒</td>\n",
       "      <td>12</td>\n",
       "      <td>打完狂犬疫苗喝酒可以吗_预防接种_快速问医生</td>\n",
       "      <td>1、在打疫苗期间,应注意不要饮酒、喝浓茶、咖啡;也不要吃有刺激性的食物,如辣椒、葱、大蒜等等...</td>\n",
       "      <td>15</td>\n",
       "    </tr>\n",
       "    <tr>\n",
       "      <td>4</td>\n",
       "      <td>d54766c666c86ef8087f68192981cf2a</td>\n",
       "      <td>in-domain</td>\n",
       "      <td>False</td>\n",
       "      <td>异常呼吸类型包括</td>\n",
       "      <td>异常呼吸类型有:1哮喘性呼吸。2紧促式呼吸.3深浅不规则的呼吸。4叹息式呼吸。5蝉鸣性呼吸。...</td>\n",
       "      <td>31</td>\n",
       "      <td>异常呼吸类型包括哪些 - 问答频道 - 博禾医生</td>\n",
       "      <td>有些人会有呼吸异常的情况,出现这种情况最好及时去医院检查治疗。异常呼吸类型有:1哮喘性呼吸。...</td>\n",
       "      <td>94</td>\n",
       "    </tr>\n",
       "  </tbody>\n",
       "</table>\n",
       "</div>"
      ],
      "text/plain": [
       "                                 id       type  is_impossible      question  \\\n",
       "0  e0285179a076cfb1e667042de441d1b5  in-domain          False  怀孕初期不小心吃了扁桃仁   \n",
       "1  eae7af70dc9645c8ceeb3eac6e241160  in-domain           True    新生儿皮肤松弛正常吗   \n",
       "2  0f3d16c6241f28fbabad2d1e5f4d6a16  in-domain           True    早起的有氧运动有哪些   \n",
       "3  18a3b2d75e9bd76ca023b87b65093552  in-domain          False     打完疫苗可以喝酒不   \n",
       "4  d54766c666c86ef8087f68192981cf2a  in-domain          False      异常呼吸类型包括   \n",
       "\n",
       "                                            ans_text  start_ans  \\\n",
       "0  孕妇吃扁桃仁一般情况下是不会导致胎儿发生病变的,通常如果不食用过量的话对宝宝是没有什么影响的...          0   \n",
       "1                                                            -1   \n",
       "2                                                            -1   \n",
       "3                                               不要饮酒         12   \n",
       "4  异常呼吸类型有:1哮喘性呼吸。2紧促式呼吸.3深浅不规则的呼吸。4叹息式呼吸。5蝉鸣性呼吸。...         31   \n",
       "\n",
       "                        title  \\\n",
       "0       孕妇吃扁桃仁胎儿畸形是为什么_妈妈网小百科   \n",
       "1   新生儿身上脱皮是怎么回事?-宝宝,病因-大众养生网   \n",
       "2  有氧运动的6个好处,你受益于第几个? - 营养健身狗   \n",
       "3      打完狂犬疫苗喝酒可以吗_预防接种_快速问医生   \n",
       "4    异常呼吸类型包括哪些 - 问答频道 - 博禾医生   \n",
       "\n",
       "                                             context  end_ans  \n",
       "0  孕妇吃扁桃仁一般情况下是不会导致胎儿发生病变的,通常如果不食用过量的话对宝宝是没有什么影响的...       64  \n",
       "1  其实这是正常现象。新生儿皮肤最外面的一层叫表皮的角化层,由于发育不完善,因此很薄,容易脱落。...       -1  \n",
       "2  1、改善心脏健康心脏是人体最重要的器官之一，心脏越健康人体就越健康。世界上很多人因为心脏相关...       -1  \n",
       "3  1、在打疫苗期间,应注意不要饮酒、喝浓茶、咖啡;也不要吃有刺激性的食物,如辣椒、葱、大蒜等等...       15  \n",
       "4  有些人会有呼吸异常的情况,出现这种情况最好及时去医院检查治疗。异常呼吸类型有:1哮喘性呼吸。...       94  "
      ]
     },
     "execution_count": 63,
     "metadata": {},
     "output_type": "execute_result"
    }
   ],
   "source": [
    "def get_end_ans(start_ans: int, ans_text: str, context: str) -> int:\n",
    "    if start_ans == -1:\n",
    "        return -1\n",
    "    size = len(ans_text)\n",
    "    end_ans = start_ans + size - 1\n",
    "    return end_ans\n",
    "    \n",
    "df[\"end_ans\"] = df.apply(lambda row: get_end_ans(row[\"start_ans\"], row[\"ans_text\"], row[\"context\"]), axis=1)\n",
    "print(df.shape)\n",
    "df.head()"
   ]
  },
  {
   "cell_type": "code",
   "execution_count": 64,
   "metadata": {},
   "outputs": [],
   "source": [
    "df.to_csv(\"../data/clean/demo.csv\", encoding=\"utf-8\", index=False)"
   ]
  },
  {
   "cell_type": "code",
   "execution_count": 59,
   "metadata": {},
   "outputs": [
    {
     "data": {
      "text/plain": [
       "True"
      ]
     },
     "execution_count": 59,
     "metadata": {},
     "output_type": "execute_result"
    }
   ],
   "source": []
  },
  {
   "cell_type": "code",
   "execution_count": null,
   "metadata": {},
   "outputs": [],
   "source": []
  },
  {
   "cell_type": "markdown",
   "metadata": {},
   "source": [
    "## 标签数据分布\n",
    "根据分布，构造到上四分位，即频率在4次"
   ]
  },
  {
   "cell_type": "code",
   "execution_count": null,
   "metadata": {
    "pycharm": {
     "name": "#%%\n"
    }
   },
   "outputs": [],
   "source": [
    "refer_data_decs = refer_data[\"de_code\"].value_counts()"
   ]
  },
  {
   "cell_type": "code",
   "execution_count": null,
   "metadata": {
    "pycharm": {
     "name": "#%%\n"
    }
   },
   "outputs": [],
   "source": [
    "refer_data_decs.describe()"
   ]
  },
  {
   "cell_type": "code",
   "execution_count": null,
   "metadata": {
    "pycharm": {
     "name": "#%%\n"
    }
   },
   "outputs": [],
   "source": [
    "refer_data_decs.hist()"
   ]
  },
  {
   "cell_type": "code",
   "execution_count": null,
   "metadata": {
    "pycharm": {
     "name": "#%%\n"
    }
   },
   "outputs": [],
   "source": [
    "std_de = pd.read_csv(\"data/raw_data/std_data_element_20201223.csv\")\n",
    "std_de = std_de[[\"de_code\", \"de_zh_name\", \"de_zh_syn_name\"]]\n",
    "std_de.head()"
   ]
  },
  {
   "cell_type": "markdown",
   "metadata": {},
   "source": [
    "## 无效数据剔除\n",
    "数据集中有些标签可能已经不存在"
   ]
  },
  {
   "cell_type": "code",
   "execution_count": null,
   "metadata": {
    "pycharm": {
     "name": "#%%\n"
    }
   },
   "outputs": [],
   "source": [
    "refer_data = pd.merge(refer_data, std_de[\"de_code\"], on=\"de_code\", how=\"inner\")"
   ]
  },
  {
   "cell_type": "code",
   "execution_count": null,
   "metadata": {
    "pycharm": {
     "name": "#%%\n"
    }
   },
   "outputs": [],
   "source": [
    "refer_data.head()"
   ]
  },
  {
   "cell_type": "markdown",
   "metadata": {},
   "source": [
    "## 同义词处理想法\n",
    "1. 跟de_zh_name相同，构造输入输出完全相同的句对 —— 这个感觉可以前处理，完全匹配做掉\n",
    "2. 根据标签数据，将同义词打在其上 —— 但是感觉这种太生硬"
   ]
  },
  {
   "cell_type": "code",
   "execution_count": null,
   "metadata": {
    "pycharm": {
     "name": "#%%\n"
    }
   },
   "outputs": [],
   "source": [
    "len(refer_data)"
   ]
  },
  {
   "cell_type": "markdown",
   "metadata": {},
   "source": [
    "## 训练集构造\n",
    "1. 根据前面的分布，未覆盖全所有数据元。对没有的在标准数据元中提取；\n",
    "2. 负样本为除自身标签外的随机标签"
   ]
  },
  {
   "cell_type": "code",
   "execution_count": null,
   "metadata": {
    "pycharm": {
     "name": "#%%\n"
    }
   },
   "outputs": [],
   "source": [
    "refer_data[\"label\"] = 1"
   ]
  },
  {
   "cell_type": "code",
   "execution_count": null,
   "metadata": {
    "pycharm": {
     "name": "#%%\n"
    }
   },
   "outputs": [],
   "source": [
    "add_from_std_de = std_de[[\"de_code\", \"de_zh_name\"]].merge(refer_data[[\"de_code\", \"label\"]].drop_duplicates(), on=\"de_code\", how=\"left\") \n",
    "add_from_std_de.head()"
   ]
  },
  {
   "cell_type": "code",
   "execution_count": null,
   "metadata": {
    "pycharm": {
     "name": "#%%\n"
    }
   },
   "outputs": [],
   "source": [
    "add_from_std_de = add_from_std_de[add_from_std_de[\"label\"] != 1]\n",
    "add_from_std_de[\"col_cmt\"] = add_from_std_de[\"de_zh_name\"]\n",
    "add_from_std_de[\"label\"] = 1\n",
    "add_from_std_de = add_from_std_de[[\"col_cmt\", \"de_code\", \"de_zh_name\", \"label\"]]\n",
    "add_from_std_de.head()"
   ]
  },
  {
   "cell_type": "code",
   "execution_count": null,
   "metadata": {
    "pycharm": {
     "name": "#%%\n"
    }
   },
   "outputs": [],
   "source": [
    "refer_data.head()"
   ]
  },
  {
   "cell_type": "code",
   "execution_count": null,
   "metadata": {
    "pycharm": {
     "name": "#%%\n"
    }
   },
   "outputs": [],
   "source": [
    "dataset = pd.concat([refer_data, add_from_std_de])\n",
    "dataset.head()"
   ]
  },
  {
   "cell_type": "code",
   "execution_count": null,
   "metadata": {
    "pycharm": {
     "name": "#%%\n"
    }
   },
   "outputs": [],
   "source": [
    "train_data.tail()"
   ]
  },
  {
   "cell_type": "code",
   "execution_count": null,
   "metadata": {
    "pycharm": {
     "name": "#%%\n"
    }
   },
   "outputs": [],
   "source": [
    "train_data[\"de_code\"].value_counts().describe()"
   ]
  },
  {
   "cell_type": "markdown",
   "metadata": {},
   "source": [
    "### 数据集划分\n",
    "7 - 1.5 - 1.5"
   ]
  },
  {
   "cell_type": "code",
   "execution_count": null,
   "metadata": {
    "pycharm": {
     "name": "#%%\n"
    }
   },
   "outputs": [],
   "source": [
    "col_lists = [\"col_cmt\", \"de_code\", \"de_zh_name\", \"label\"]"
   ]
  },
  {
   "cell_type": "code",
   "execution_count": null,
   "metadata": {
    "pycharm": {
     "name": "#%%\n"
    }
   },
   "outputs": [],
   "source": [
    "train = pd.DataFrame([], columns=col_lists)\n",
    "dev = pd.DataFrame([], columns=col_lists)\n",
    "test = pd.DataFrame([], columns=col_lists)\n",
    "train_aug = pd.DataFrame([], columns=col_lists)"
   ]
  },
  {
   "cell_type": "code",
   "execution_count": null,
   "metadata": {
    "pycharm": {
     "name": "#%%\n"
    }
   },
   "outputs": [],
   "source": [
    "valid_pct = 0.15\n",
    "i = 0\n",
    "for group in dataset.groupby(by=\"de_code\"):\n",
    "    i += 1\n",
    "    df = group[1]\n",
    "    N, _ = df.shape\n",
    "    # 确定各个组别中验证集数量\n",
    "    num_valid = math.floor(N * valid_pct)\n",
    "    if num_valid < 1:\n",
    "        dup = math.ceil(1  / (valid_pct * N))\n",
    "\n",
    "        df = pd.concat([df] * dup) # 复制dataframe行\n",
    "        df = df.sample(frac=1) # shuffle\n",
    "        num_valid = 1\n",
    "#         print(f\"df len:{len(df)}\")\n",
    "#     if len(df[:num_valid]) == 0:\n",
    "#         print(f\"num_valid:{num_valid}, df:{len(df)}\")\n",
    "    dev = dev.append(df[:num_valid])\n",
    "    test = test.append(df[num_valid: 2 * num_valid])\n",
    "    train = train.append(df[2 * num_valid:])\n",
    "print(f\"group:{i}\")\n",
    "train = train.sample(frac=1)    \n",
    "dev = dev.sample(frac=1)\n",
    "test = test.sample(frac=1)\n",
    "train.shape, dev.shape, test.shape"
   ]
  },
  {
   "cell_type": "code",
   "execution_count": null,
   "metadata": {
    "pycharm": {
     "name": "#%%\n"
    }
   },
   "outputs": [],
   "source": [
    "len(test[\"de_code\"].unique()), len(dev[\"de_code\"].unique()), len(train[\"de_code\"].unique())"
   ]
  },
  {
   "cell_type": "code",
   "execution_count": null,
   "metadata": {
    "pycharm": {
     "name": "#%%\n"
    }
   },
   "outputs": [],
   "source": [
    "train.head()"
   ]
  },
  {
   "cell_type": "code",
   "execution_count": null,
   "metadata": {
    "pycharm": {
     "name": "#%%\n"
    }
   },
   "outputs": [],
   "source": [
    "dev.head()"
   ]
  },
  {
   "cell_type": "code",
   "execution_count": null,
   "metadata": {
    "pycharm": {
     "name": "#%%\n"
    }
   },
   "outputs": [],
   "source": [
    "test.head()"
   ]
  },
  {
   "cell_type": "code",
   "execution_count": null,
   "metadata": {
    "pycharm": {
     "name": "#%%\n"
    }
   },
   "outputs": [],
   "source": [
    "def create_negtive_label(row: pd.Series, std_de: pd.DataFrame):\n",
    "    \"\"\" 构建不相似数据 \"\"\"\n",
    "    true_de_code = row[\"de_code\"]\n",
    "#     print(f\"true_de_code:{true_de_code}\")\n",
    "    low_sim_row = std_de[std_de[\"de_code\"] != true_de_code]\n",
    "    low_sim_row: pd.Series = low_sim_row.sample(frac=1).iloc[0]\n",
    "#     print(f\"low_sim_row:{low_sim_row}\")\n",
    "    low_sim_de_code = low_sim_row[\"de_code\"]\n",
    "    low_sim_de_zh_name = low_sim_row[\"de_zh_name\"]\n",
    "#     print(f\"low_sim_de_code:{low_sim_de_code}, low_sim_de_zh_name:{low_sim_de_zh_name}\")\n",
    "    return low_sim_de_code, low_sim_de_zh_name, 0"
   ]
  },
  {
   "cell_type": "code",
   "execution_count": null,
   "metadata": {
    "pycharm": {
     "name": "#%%\n"
    }
   },
   "outputs": [],
   "source": [
    "test_neg = test.copy()\n",
    "test_neg[[\"de_code\", \"de_zh_name\", \"label\"]] = test_neg.apply(create_negtive_label, axis=1, std_de=std_de, result_type=\"expand\")"
   ]
  },
  {
   "cell_type": "code",
   "execution_count": null,
   "metadata": {
    "pycharm": {
     "name": "#%%\n"
    }
   },
   "outputs": [],
   "source": [
    "dev_neg = dev.copy()\n",
    "dev_neg[[\"de_code\", \"de_zh_name\", \"label\"]] = dev_neg.apply(create_negtive_label, axis=1, std_de=std_de, result_type=\"expand\")"
   ]
  },
  {
   "cell_type": "code",
   "execution_count": null,
   "metadata": {
    "pycharm": {
     "name": "#%%\n"
    }
   },
   "outputs": [],
   "source": [
    "train_neg = train.copy()\n",
    "train_neg[[\"de_code\", \"de_zh_name\", \"label\"]] = train_neg.apply(create_negtive_label, axis=1, std_de=std_de, result_type=\"expand\")"
   ]
  },
  {
   "cell_type": "code",
   "execution_count": null,
   "metadata": {
    "pycharm": {
     "name": "#%%\n"
    }
   },
   "outputs": [],
   "source": [
    "test = pd.concat([test, test_neg])"
   ]
  },
  {
   "cell_type": "code",
   "execution_count": null,
   "metadata": {
    "pycharm": {
     "name": "#%%\n"
    }
   },
   "outputs": [],
   "source": [
    "dev = pd.concat([dev, dev_neg])\n",
    "train = pd.concat([train, train_neg])"
   ]
  },
  {
   "cell_type": "code",
   "execution_count": null,
   "metadata": {
    "pycharm": {
     "name": "#%%\n"
    }
   },
   "outputs": [],
   "source": [
    "test = test.sample(frac=1)\n",
    "dev = dev.sample(frac=1)\n",
    "train = train.sample(frac=1)"
   ]
  },
  {
   "cell_type": "code",
   "execution_count": null,
   "metadata": {
    "pycharm": {
     "name": "#%%\n"
    }
   },
   "outputs": [],
   "source": [
    "len(test), len(dev), len(train)"
   ]
  },
  {
   "cell_type": "code",
   "execution_count": null,
   "metadata": {
    "pycharm": {
     "name": "#%%\n"
    }
   },
   "outputs": [],
   "source": [
    "len(test) / (len(train) + 2 * len(test))"
   ]
  },
  {
   "cell_type": "markdown",
   "metadata": {},
   "source": [
    "## 保存数据"
   ]
  },
  {
   "cell_type": "code",
   "execution_count": null,
   "metadata": {
    "pycharm": {
     "name": "#%%\n"
    }
   },
   "outputs": [],
   "source": [
    "test.head()"
   ]
  },
  {
   "cell_type": "code",
   "execution_count": null,
   "metadata": {
    "pycharm": {
     "name": "#%%\n"
    }
   },
   "outputs": [],
   "source": [
    "def write2file(df: pd.DataFrame, path: str):\n",
    "    df.to_csv(path, index=False, sep=\"\\t\")"
   ]
  },
  {
   "cell_type": "code",
   "execution_count": null,
   "metadata": {
    "pycharm": {
     "name": "#%%\n"
    }
   },
   "outputs": [],
   "source": [
    "write2file(test, \"data/de_sim_test.csv\")"
   ]
  },
  {
   "cell_type": "code",
   "execution_count": null,
   "metadata": {
    "pycharm": {
     "name": "#%%\n"
    }
   },
   "outputs": [],
   "source": [
    "write2file(dev, \"data/de_sim_dev.csv\")\n",
    "write2file(train, \"data/de_sim_train.csv\")"
   ]
  },
  {
   "cell_type": "code",
   "execution_count": null,
   "metadata": {
    "pycharm": {
     "name": "#%%\n"
    }
   },
   "outputs": [],
   "source": [
    "dataset.head()"
   ]
  },
  {
   "cell_type": "code",
   "execution_count": null,
   "metadata": {
    "pycharm": {
     "name": "#%%\n"
    }
   },
   "outputs": [],
   "source": [
    "max(dataset[\"col_cmt\"].str.len()), max(dataset[\"de_zh_name\"].str.len())"
   ]
  },
  {
   "cell_type": "code",
   "execution_count": null,
   "metadata": {
    "pycharm": {
     "name": "#%%\n"
    }
   },
   "outputs": [],
   "source": [
    "tmp_train = train.head(100)\n",
    "write2file(tmp_train, \"data/de_sim_tmp_train.csv\")"
   ]
  },
  {
   "cell_type": "markdown",
   "metadata": {},
   "source": [
    "## 训练集增强"
   ]
  },
  {
   "cell_type": "code",
   "execution_count": null,
   "metadata": {
    "pycharm": {
     "name": "#%%\n"
    }
   },
   "outputs": [],
   "source": []
  },
  {
   "cell_type": "code",
   "execution_count": null,
   "metadata": {
    "pycharm": {
     "name": "#%%\n"
    }
   },
   "outputs": [],
   "source": [
    "upper_bound = 4 # 增强界限\n",
    "for group in train_data.groupby(by=\"de_code\"):\n",
    "    df = group[1]\n",
    "    N, _ = df.shape\n",
    "    if N < upper_bound:\n",
    "        dup = math.ceil(upper_bound / N)\n",
    "        \n",
    "        df = pd.concat([df] * dup) # 复制dataframe行\n",
    "        df = df.sample(frac=1) # shuffle\n",
    "        df = df[:upper_bound]\n",
    "    \n",
    "    train_aug = train_aug.append(df)\n",
    "    \n",
    "train_aug = train_aug.sample(frac=1)\n",
    "train_aug.shape"
   ]
  },
  {
   "cell_type": "code",
   "execution_count": null,
   "metadata": {
    "pycharm": {
     "name": "#%%\n"
    }
   },
   "outputs": [],
   "source": []
  },
  {
   "cell_type": "code",
   "execution_count": null,
   "metadata": {
    "pycharm": {
     "name": "#%%\n"
    }
   },
   "outputs": [],
   "source": []
  },
  {
   "cell_type": "code",
   "execution_count": null,
   "metadata": {
    "pycharm": {
     "name": "#%%\n"
    }
   },
   "outputs": [],
   "source": []
  },
  {
   "cell_type": "code",
   "execution_count": null,
   "metadata": {
    "pycharm": {
     "name": "#%%\n"
    }
   },
   "outputs": [],
   "source": [
    "ser = pd.Series([\"a||bc\"])\n",
    "ser"
   ]
  },
  {
   "cell_type": "code",
   "execution_count": null,
   "metadata": {
    "pycharm": {
     "name": "#%%\n"
    }
   },
   "outputs": [],
   "source": [
    "ser.str.split(\"\\|\\|\")"
   ]
  },
  {
   "cell_type": "code",
   "execution_count": null,
   "metadata": {
    "pycharm": {
     "name": "#%%\n"
    }
   },
   "outputs": [],
   "source": []
  }
 ],
 "metadata": {
  "kernelspec": {
   "display_name": "Python 3",
   "language": "python",
   "name": "python3"
  },
  "language_info": {
   "codemirror_mode": {
    "name": "ipython",
    "version": 3
   },
   "file_extension": ".py",
   "mimetype": "text/x-python",
   "name": "python",
   "nbconvert_exporter": "python",
   "pygments_lexer": "ipython3",
   "version": "3.7.4"
  },
  "pycharm": {
   "stem_cell": {
    "cell_type": "raw",
    "metadata": {
     "collapsed": false
    },
    "source": []
   }
  },
  "toc": {
   "base_numbering": 1,
   "nav_menu": {},
   "number_sections": true,
   "sideBar": true,
   "skip_h1_title": false,
   "title_cell": "Table of Contents",
   "title_sidebar": "Contents",
   "toc_cell": false,
   "toc_position": {
    "height": "calc(100% - 180px)",
    "left": "10px",
    "top": "150px",
    "width": "261.391px"
   },
   "toc_section_display": true,
   "toc_window_display": true
  }
 },
 "nbformat": 4,
 "nbformat_minor": 1
}
